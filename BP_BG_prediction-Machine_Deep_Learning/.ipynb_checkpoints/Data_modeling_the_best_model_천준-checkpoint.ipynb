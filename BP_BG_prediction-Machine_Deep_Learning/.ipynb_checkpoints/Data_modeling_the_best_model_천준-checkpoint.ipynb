{
 "cells": [
  {
   "cell_type": "markdown",
   "id": "bd3c2284",
   "metadata": {},
   "source": [
    "모델 외에 설정아님과 다를 수 있는부분\n",
    "- 도시변수가 들어가 있다\n",
    "- bmi 와 absi의 상단 3배수 범위를 버리고 아래쪽은 그냥 사용했다. (absi 는 이상치가 위로 40짜리가 존재한다. 그래서 평균을 많이 올려서 아웃레이어 아래에 정상치가 많이 잡혀서 위쪽만 자름 (bmi 역시))"
   ]
  },
  {
   "cell_type": "code",
   "execution_count": 1,
   "id": "htnkwEHWUsTz",
   "metadata": {
    "executionInfo": {
     "elapsed": 838,
     "status": "ok",
     "timestamp": 1634509932511,
     "user": {
      "displayName": "Joon Chun",
      "photoUrl": "https://lh3.googleusercontent.com/a/default-user=s64",
      "userId": "11589729376972489768"
     },
     "user_tz": -540
    },
    "id": "htnkwEHWUsTz"
   },
   "outputs": [],
   "source": [
    "import warnings\n",
    "warnings.filterwarnings('ignore')"
   ]
  },
  {
   "cell_type": "code",
   "execution_count": 2,
   "id": "C18lOEfiVoD9",
   "metadata": {
    "executionInfo": {
     "elapsed": 478,
     "status": "ok",
     "timestamp": 1634516074145,
     "user": {
      "displayName": "Joon Chun",
      "photoUrl": "https://lh3.googleusercontent.com/a/default-user=s64",
      "userId": "11589729376972489768"
     },
     "user_tz": -540
    },
    "id": "C18lOEfiVoD9"
   },
   "outputs": [],
   "source": [
    "import pandas as pd\n",
    "import matplotlib.pyplot as plt\n",
    "import seaborn as sns \n",
    "import numpy as np\n",
    "import time\n",
    "\n",
    "# 상관계수\n",
    "from scipy import stats\n",
    "\n",
    "# model\n",
    "from sklearn.model_selection import train_test_split,GridSearchCV, KFold\n",
    "from sklearn.linear_model import LinearRegression, LogisticRegression\n",
    "from sklearn.metrics import mean_squared_error\n",
    "from sklearn.preprocessing import PolynomialFeatures\n",
    "from sklearn.preprocessing import MinMaxScaler\n",
    "from sklearn.preprocessing import StandardScaler\n",
    "import statsmodels.formula.api as smf\n",
    "\n",
    "from sklearn.tree import DecisionTreeClassifier , DecisionTreeRegressor\n",
    "from sklearn.tree import export_graphviz\n",
    "import graphviz\n",
    "from sklearn.ensemble import RandomForestClassifier , RandomForestRegressor\n",
    "from sklearn.metrics import confusion_matrix, accuracy_score, recall_score, precision_score"
   ]
  },
  {
   "cell_type": "markdown",
   "id": "9OWgnPowcXmw",
   "metadata": {
    "id": "9OWgnPowcXmw"
   },
   "source": [
    "## I.데이터 불러오기&전처리"
   ]
  },
  {
   "cell_type": "code",
   "execution_count": 3,
   "id": "E6x0DayrXEhb",
   "metadata": {
    "colab": {
     "base_uri": "https://localhost:8080/"
    },
    "executionInfo": {
     "elapsed": 87400,
     "status": "ok",
     "timestamp": 1634510020325,
     "user": {
      "displayName": "Joon Chun",
      "photoUrl": "https://lh3.googleusercontent.com/a/default-user=s64",
      "userId": "11589729376972489768"
     },
     "user_tz": -540
    },
    "id": "E6x0DayrXEhb",
    "outputId": "80e806ef-9fc9-4f3e-a9ac-9b75dd04dafa",
    "scrolled": true
   },
   "outputs": [],
   "source": [
    "# from google.colab import drive\n",
    "# drive.mount('/content/drive')"
   ]
  },
  {
   "cell_type": "code",
   "execution_count": 4,
   "id": "WKaKnD7WXX7W",
   "metadata": {
    "colab": {
     "base_uri": "https://localhost:8080/"
    },
    "executionInfo": {
     "elapsed": 978,
     "status": "ok",
     "timestamp": 1634510021292,
     "user": {
      "displayName": "Joon Chun",
      "photoUrl": "https://lh3.googleusercontent.com/a/default-user=s64",
      "userId": "11589729376972489768"
     },
     "user_tz": -540
    },
    "id": "WKaKnD7WXX7W",
    "outputId": "58bbaea3-3134-43e7-dc30-9c4a49a6e9b6"
   },
   "outputs": [],
   "source": [
    "# !ls -l '/content/drive/MyDrive/Colab Notebooks/datasets/health_care/NHIS_OPEN_GJ_2017_v1.1.csv'"
   ]
  },
  {
   "cell_type": "code",
   "execution_count": 5,
   "id": "HtRheQ_qX8tZ",
   "metadata": {
    "executionInfo": {
     "elapsed": 4938,
     "status": "ok",
     "timestamp": 1634510026227,
     "user": {
      "displayName": "Joon Chun",
      "photoUrl": "https://lh3.googleusercontent.com/a/default-user=s64",
      "userId": "11589729376972489768"
     },
     "user_tz": -540
    },
    "id": "HtRheQ_qX8tZ"
   },
   "outputs": [
    {
     "name": "stdout",
     "output_type": "stream",
     "text": [
      "<class 'pandas.core.frame.DataFrame'>\n",
      "RangeIndex: 1000000 entries, 0 to 999999\n",
      "Data columns (total 34 columns):\n",
      " #   Column        Non-Null Count    Dtype  \n",
      "---  ------        --------------    -----  \n",
      " 0   기준년도          1000000 non-null  int64  \n",
      " 1   가입자일련번호       1000000 non-null  int64  \n",
      " 2   성별코드          1000000 non-null  int64  \n",
      " 3   연령대코드(5세단위)   1000000 non-null  int64  \n",
      " 4   시도코드          1000000 non-null  int64  \n",
      " 5   신장(5Cm단위)     1000000 non-null  int64  \n",
      " 6   체중(5Kg단위)     1000000 non-null  int64  \n",
      " 7   허리둘레          999734 non-null   float64\n",
      " 8   시력(좌)         999817 non-null   float64\n",
      " 9   시력(우)         999811 non-null   float64\n",
      " 10  청력(좌)         999842 non-null   float64\n",
      " 11  청력(우)         999844 non-null   float64\n",
      " 12  수축기혈압         999981 non-null   float64\n",
      " 13  이완기혈압         999982 non-null   float64\n",
      " 14  식전혈당(공복혈당)    999958 non-null   float64\n",
      " 15  총콜레스테롤        999957 non-null   float64\n",
      " 16  트리글리세라이드      999955 non-null   float64\n",
      " 17  HDL콜레스테롤      999956 non-null   float64\n",
      " 18  LDL콜레스테롤      997088 non-null   float64\n",
      " 19  혈색소           999948 non-null   float64\n",
      " 20  요단백           995408 non-null   float64\n",
      " 21  혈청크레아티닌       999957 non-null   float64\n",
      " 22  (혈청지오티)AST    999959 non-null   float64\n",
      " 23  (혈청지오티)ALT    999958 non-null   float64\n",
      " 24  감마지티피         999958 non-null   float64\n",
      " 25  흡연상태          999856 non-null   float64\n",
      " 26  음주여부          999464 non-null   object \n",
      " 27  구강검진수검여부      1000000 non-null  object \n",
      " 28  치아우식증유무       0 non-null        float64\n",
      " 29  결손치유무         0 non-null        float64\n",
      " 30  치아마모증유무       0 non-null        float64\n",
      " 31  제3대구치(사랑니)이상  0 non-null        float64\n",
      " 32  치석            378578 non-null   object \n",
      " 33  데이터공개일자       1000000 non-null  object \n",
      "dtypes: float64(23), int64(7), object(4)\n",
      "memory usage: 259.4+ MB\n"
     ]
    }
   ],
   "source": [
    "# DF = pd.read_csv('/content/drive/MyDrive/Colab Notebooks/datasets/health_care/NHIS_OPEN_GJ_2017_v1.1.csv', encoding='cp949')\n",
    "DF = pd.read_csv('c:/My_data/health_care/NHIS_OPEN_GJ_2017_v1.1.csv', encoding='cp949')\n",
    "DF.info()"
   ]
  },
  {
   "cell_type": "code",
   "execution_count": 6,
   "id": "Z61Y10mUinam",
   "metadata": {
    "colab": {
     "base_uri": "https://localhost:8080/"
    },
    "executionInfo": {
     "elapsed": 1084,
     "status": "ok",
     "timestamp": 1634510027299,
     "user": {
      "displayName": "Joon Chun",
      "photoUrl": "https://lh3.googleusercontent.com/a/default-user=s64",
      "userId": "11589729376972489768"
     },
     "user_tz": -540
    },
    "id": "Z61Y10mUinam",
    "outputId": "b9011383-c734-4fa1-ba71-db45755f3113"
   },
   "outputs": [
    {
     "data": {
      "text/plain": [
       "기준년도                  0\n",
       "가입자일련번호               0\n",
       "성별코드                  0\n",
       "연령대코드(5세단위)           0\n",
       "시도코드                  0\n",
       "신장(5Cm단위)             0\n",
       "체중(5Kg단위)             0\n",
       "허리둘레                266\n",
       "시력(좌)               183\n",
       "시력(우)               189\n",
       "청력(좌)               158\n",
       "청력(우)               156\n",
       "수축기혈압                19\n",
       "이완기혈압                18\n",
       "식전혈당(공복혈당)           42\n",
       "총콜레스테롤               43\n",
       "트리글리세라이드             45\n",
       "HDL콜레스테롤             44\n",
       "LDL콜레스테롤           2912\n",
       "혈색소                  52\n",
       "요단백                4592\n",
       "혈청크레아티닌              43\n",
       "(혈청지오티)AST           41\n",
       "(혈청지오티)ALT           42\n",
       "감마지티피                42\n",
       "흡연상태                144\n",
       "음주여부                536\n",
       "구강검진수검여부              0\n",
       "치아우식증유무         1000000\n",
       "결손치유무           1000000\n",
       "치아마모증유무         1000000\n",
       "제3대구치(사랑니)이상    1000000\n",
       "치석               621422\n",
       "데이터공개일자               0\n",
       "dtype: int64"
      ]
     },
     "execution_count": 6,
     "metadata": {},
     "output_type": "execute_result"
    }
   ],
   "source": [
    "# null 값 확인\n",
    "DF.isnull().sum()"
   ]
  },
  {
   "cell_type": "code",
   "execution_count": 7,
   "id": "YqEfeeyIkJBV",
   "metadata": {
    "executionInfo": {
     "elapsed": 7,
     "status": "ok",
     "timestamp": 1634510027300,
     "user": {
      "displayName": "Joon Chun",
      "photoUrl": "https://lh3.googleusercontent.com/a/default-user=s64",
      "userId": "11589729376972489768"
     },
     "user_tz": -540
    },
    "id": "YqEfeeyIkJBV"
   },
   "outputs": [],
   "source": [
    "# 열 삭제하기 (시력)(청력)(구강건강관련) ,기준년도,가입자일년번호, 데이터공개일자, *일단=(혈청지오티)AST 등4개\n",
    "\n",
    "DF = DF.drop(columns=['기준년도','가입자일련번호','시력(좌)','시력(우)','청력(좌)','청력(우)','구강검진수검여부','치아우식증유무','결손치유무','치아마모증유무','제3대구치(사랑니)이상','치석','데이터공개일자','(혈청지오티)AST','(혈청지오티)ALT','감마지티피'])"
   ]
  },
  {
   "cell_type": "code",
   "execution_count": 8,
   "id": "dgpmlxPCi2aN",
   "metadata": {
    "executionInfo": {
     "elapsed": 5,
     "status": "ok",
     "timestamp": 1634510027300,
     "user": {
      "displayName": "Joon Chun",
      "photoUrl": "https://lh3.googleusercontent.com/a/default-user=s64",
      "userId": "11589729376972489768"
     },
     "user_tz": -540
    },
    "id": "dgpmlxPCi2aN"
   },
   "outputs": [],
   "source": [
    "#결측치 제거\n",
    "DF.dropna(inplace = True)"
   ]
  },
  {
   "cell_type": "code",
   "execution_count": 9,
   "id": "EUrsYhwmPNj5",
   "metadata": {
    "executionInfo": {
     "elapsed": 1983,
     "status": "ok",
     "timestamp": 1634510029279,
     "user": {
      "displayName": "Joon Chun",
      "photoUrl": "https://lh3.googleusercontent.com/a/default-user=s64",
      "userId": "11589729376972489768"
     },
     "user_tz": -540
    },
    "id": "EUrsYhwmPNj5"
   },
   "outputs": [],
   "source": [
    "# 음주여부 Y=1,N=0\n",
    "DF = DF.replace({'Y':1.0,'N':0.0})"
   ]
  },
  {
   "cell_type": "code",
   "execution_count": 10,
   "id": "bddWOd_cdMnd",
   "metadata": {
    "executionInfo": {
     "elapsed": 5,
     "status": "ok",
     "timestamp": 1634510029280,
     "user": {
      "displayName": "Joon Chun",
      "photoUrl": "https://lh3.googleusercontent.com/a/default-user=s64",
      "userId": "11589729376972489768"
     },
     "user_tz": -540
    },
    "id": "bddWOd_cdMnd"
   },
   "outputs": [],
   "source": [
    "# 변수명 정의\n",
    "sex = DF['성별코드']\n",
    "age = DF['연령대코드(5세단위)']\n",
    "city = DF['시도코드']\n",
    "ht = DF['신장(5Cm단위)']\n",
    "wt = DF['체중(5Kg단위)']\n",
    "waist = DF['허리둘레']\n",
    "sbp = DF['수축기혈압']\n",
    "dbp = DF['이완기혈압']\n",
    "fbs = DF['식전혈당(공복혈당)']\n",
    "tchol = DF['총콜레스테롤']\n",
    "tg = DF['트리글리세라이드']\n",
    "hdl = DF['HDL콜레스테롤']\n",
    "ldl = DF['LDL콜레스테롤']\n",
    "hgb = DF['혈색소']\n",
    "upro = DF['요단백']\n",
    "cr = DF['혈청크레아티닌']\n",
    "smoking = DF['흡연상태']\n",
    "alcohol = DF['음주여부']"
   ]
  },
  {
   "cell_type": "code",
   "execution_count": 11,
   "id": "G_mu11QbwHOz",
   "metadata": {
    "executionInfo": {
     "elapsed": 5,
     "status": "ok",
     "timestamp": 1634510029281,
     "user": {
      "displayName": "Joon Chun",
      "photoUrl": "https://lh3.googleusercontent.com/a/default-user=s64",
      "userId": "11589729376972489768"
     },
     "user_tz": -540
    },
    "id": "G_mu11QbwHOz"
   },
   "outputs": [],
   "source": [
    "# 데이터 프레임 변수명 전환\n",
    "DF = DF.rename(columns={'성별코드':'sex', '연령대코드(5세단위)':'age','시도코드':'city','신장(5Cm단위)':'ht','체중(5Kg단위)':'wt','허리둘레':'waist','수축기혈압':'sbp','이완기혈압':'dbp','식전혈당(공복혈당)':'fbs','총콜레스테롤':'tchol','트리글리세라이드':'tg','HDL콜레스테롤':'hdl','LDL콜레스테롤':'ldl','혈색소':'hgb','요단백':'upro','혈청크레아티닌':'cr','흡연상태':'smoking','음주여부':'alcohol'})"
   ]
  },
  {
   "cell_type": "code",
   "execution_count": 12,
   "id": "lEl9FSyuLJoA",
   "metadata": {
    "colab": {
     "base_uri": "https://localhost:8080/"
    },
    "executionInfo": {
     "elapsed": 892,
     "status": "ok",
     "timestamp": 1634510030168,
     "user": {
      "displayName": "Joon Chun",
      "photoUrl": "https://lh3.googleusercontent.com/a/default-user=s64",
      "userId": "11589729376972489768"
     },
     "user_tz": -540
    },
    "id": "lEl9FSyuLJoA",
    "outputId": "4de49faf-a1b8-429f-b7d5-390a02aefbcd"
   },
   "outputs": [
    {
     "name": "stdout",
     "output_type": "stream",
     "text": [
      "<class 'pandas.core.frame.DataFrame'>\n",
      "Int64Index: 991608 entries, 0 to 999999\n",
      "Data columns (total 18 columns):\n",
      " #   Column   Non-Null Count   Dtype  \n",
      "---  ------   --------------   -----  \n",
      " 0   sex      991608 non-null  float32\n",
      " 1   age      991608 non-null  float32\n",
      " 2   city     991608 non-null  float32\n",
      " 3   ht       991608 non-null  float32\n",
      " 4   wt       991608 non-null  float32\n",
      " 5   waist    991608 non-null  float64\n",
      " 6   sbp      991608 non-null  float64\n",
      " 7   dbp      991608 non-null  float64\n",
      " 8   fbs      991608 non-null  float64\n",
      " 9   tchol    991608 non-null  float64\n",
      " 10  tg       991608 non-null  float64\n",
      " 11  hdl      991608 non-null  float64\n",
      " 12  ldl      991608 non-null  float64\n",
      " 13  hgb      991608 non-null  float64\n",
      " 14  upro     991608 non-null  float64\n",
      " 15  cr       991608 non-null  float64\n",
      " 16  smoking  991608 non-null  float64\n",
      " 17  alcohol  991608 non-null  float64\n",
      "dtypes: float32(5), float64(13)\n",
      "memory usage: 124.8 MB\n"
     ]
    }
   ],
   "source": [
    "# 정수 실수로 전환\n",
    "DF['sex'] = pd.to_numeric(DF['sex'], downcast='float')\n",
    "DF['age'] = pd.to_numeric(DF['age'], downcast='float')\n",
    "DF['city'] = pd.to_numeric(DF['city'], downcast='float')\n",
    "DF['ht'] = pd.to_numeric(DF['ht'], downcast='float')\n",
    "DF['wt'] = pd.to_numeric(DF['wt'], downcast='float')\n",
    "DF.info()"
   ]
  },
  {
   "cell_type": "markdown",
   "id": "ha-Xga9OcHk1",
   "metadata": {
    "id": "ha-Xga9OcHk1"
   },
   "source": [
    "## II.데이터 전처리\n"
   ]
  },
  {
   "cell_type": "markdown",
   "id": "z8X8NlPVF6_9",
   "metadata": {
    "id": "z8X8NlPVF6_9"
   },
   "source": [
    "### 1) bmi, absi 추가하기"
   ]
  },
  {
   "cell_type": "code",
   "execution_count": 13,
   "id": "amnGGMX-mrxU",
   "metadata": {
    "executionInfo": {
     "elapsed": 17,
     "status": "ok",
     "timestamp": 1634510035828,
     "user": {
      "displayName": "Joon Chun",
      "photoUrl": "https://lh3.googleusercontent.com/a/default-user=s64",
      "userId": "11589729376972489768"
     },
     "user_tz": -540
    },
    "id": "amnGGMX-mrxU"
   },
   "outputs": [],
   "source": [
    "# 추가 해야 할 항목들 bmi, absi (A Body Shape Index)\n",
    "DF['bmi'] = DF['wt']/((DF['ht']/100)**2)\n",
    "DF['absi'] = (DF['waist']*0.3937)/((DF['bmi']**(2/3))*((DF['ht']/100)**(1/2)))"
   ]
  },
  {
   "cell_type": "markdown",
   "id": "9rsEZoOmGHBl",
   "metadata": {
    "id": "9rsEZoOmGHBl"
   },
   "source": [
    "### 2) outlier 처리하기"
   ]
  },
  {
   "cell_type": "markdown",
   "id": "ebc627e7",
   "metadata": {
    "id": "ebc627e7"
   },
   "source": [
    " - 혈당데이터에 대한 분석"
   ]
  },
  {
   "cell_type": "markdown",
   "id": "BA-cypdEdEfe",
   "metadata": {
    "id": "BA-cypdEdEfe"
   },
   "source": [
    "- IQR 3배 기준 밖의 데이터를 outlier로 처리한다\n",
    "- q25% -(q75-q25)*3\n",
    "- q75% +(q75-q25)*3"
   ]
  },
  {
   "cell_type": "code",
   "execution_count": 14,
   "id": "2f2c9f1b",
   "metadata": {
    "executionInfo": {
     "elapsed": 331,
     "status": "ok",
     "timestamp": 1634510351622,
     "user": {
      "displayName": "Joon Chun",
      "photoUrl": "https://lh3.googleusercontent.com/a/default-user=s64",
      "userId": "11589729376972489768"
     },
     "user_tz": -540
    },
    "id": "2f2c9f1b"
   },
   "outputs": [],
   "source": [
    "DF_1 = DF"
   ]
  },
  {
   "cell_type": "code",
   "execution_count": 15,
   "id": "JTdOjN1Ha9Yo",
   "metadata": {
    "colab": {
     "base_uri": "https://localhost:8080/"
    },
    "executionInfo": {
     "elapsed": 355,
     "status": "ok",
     "timestamp": 1634510355449,
     "user": {
      "displayName": "Joon Chun",
      "photoUrl": "https://lh3.googleusercontent.com/a/default-user=s64",
      "userId": "11589729376972489768"
     },
     "user_tz": -540
    },
    "id": "JTdOjN1Ha9Yo",
    "outputId": "7120600c-63e7-42f5-b028-53af8c17a6b3",
    "scrolled": true
   },
   "outputs": [
    {
     "name": "stdout",
     "output_type": "stream",
     "text": [
      "======= ht =======\n",
      "lower : 110.0\n",
      "upper : 215.0 \n",
      "\n",
      "======= wt =======\n",
      "lower : 10.0\n",
      "upper : 115.0 \n",
      "\n",
      "======= waist =======\n",
      "lower : 32.999999999999986\n",
      "upper : 128.9 \n",
      "\n",
      "======= sbp =======\n",
      "lower : 55.0\n",
      "upper : 188.0 \n",
      "\n",
      "======= dbp =======\n",
      "lower : 34.0\n",
      "upper : 118.0 \n",
      "\n",
      "======= fbs =======\n",
      "lower : 37.0\n",
      "upper : 156.0 \n",
      "\n",
      "======= tchol =======\n",
      "lower : 19.0\n",
      "upper : 369.0 \n",
      "\n",
      "======= tg =======\n",
      "lower : -185.0\n",
      "upper : 417.0 \n",
      "\n",
      "======= hdl =======\n",
      "lower : -14.0\n",
      "upper : 126.0 \n",
      "\n",
      "======= ldl =======\n",
      "lower : -49.0\n",
      "upper : 273.0 \n",
      "\n",
      "======= hgb =======\n",
      "lower : 6.599999999999996\n",
      "upper : 22.000000000000004 \n",
      "\n",
      "======= cr =======\n",
      "lower : -0.20000000000000018\n",
      "upper : 1.9000000000000001 \n",
      "\n",
      "======= bmi =======\n",
      "lower : 8.082826614379883\n",
      "upper : 39.35310173034668 \n",
      "\n",
      "======= absi =======\n",
      "lower : 2.120138374856702\n",
      "upper : 3.936230468444861 \n",
      "\n"
     ]
    }
   ],
   "source": [
    "# IQR3 배기준으로 잘라야되는 기준\n",
    "columns = ['ht','wt','waist','sbp','dbp','fbs','tchol','tg','hdl','ldl','hgb','cr','bmi','absi']\n",
    "\n",
    "for i in columns:\n",
    "    \n",
    "    print('=======', i, '=======')\n",
    "    \n",
    "    q25, q75 = np.quantile(DF[i], 0.25), np.quantile(DF[i], 0.75)\n",
    "    IQR = q75 - q25\n",
    "    \n",
    "    lower = q25 - IQR*3\n",
    "    upper = q75 + IQR*3\n",
    "    \n",
    "    print('lower :', lower)\n",
    "    print('upper :', upper, '\\n')"
   ]
  },
  {
   "cell_type": "code",
   "execution_count": 17,
   "id": "NaiG3TkygNxg",
   "metadata": {
    "colab": {
     "base_uri": "https://localhost:8080/"
    },
    "executionInfo": {
     "elapsed": 1474,
     "status": "ok",
     "timestamp": 1634510372320,
     "user": {
      "displayName": "Joon Chun",
      "photoUrl": "https://lh3.googleusercontent.com/a/default-user=s64",
      "userId": "11589729376972489768"
     },
     "user_tz": -540
    },
    "id": "NaiG3TkygNxg",
    "outputId": "872f2ebe-9118-4d2c-cb90-361ce51ac8df"
   },
   "outputs": [
    {
     "name": "stdout",
     "output_type": "stream",
     "text": [
      "outlier : 0\n",
      "완료 : ht\n",
      "누적 아웃레이어 :  0 \n",
      "\n",
      "outlier : 368\n",
      "완료 : wt\n",
      "누적 아웃레이어 :  368 \n",
      "\n",
      "outlier : 76\n",
      "완료 : waist\n",
      "누적 아웃레이어 :  444 \n",
      "\n",
      "outlier : 683\n",
      "완료 : sbp\n",
      "누적 아웃레이어 :  1127 \n",
      "\n",
      "outlier : 737\n",
      "완료 : dbp\n",
      "누적 아웃레이어 :  1864 \n",
      "\n",
      "outlier : 494\n",
      "완료 : tchol\n",
      "누적 아웃레이어 :  2358 \n",
      "\n",
      "outlier : 16651\n",
      "완료 : tg\n",
      "누적 아웃레이어 :  19009 \n",
      "\n",
      "outlier : 580\n",
      "완료 : hdl\n",
      "누적 아웃레이어 :  19589 \n",
      "\n",
      "outlier : 135\n",
      "완료 : ldl\n",
      "누적 아웃레이어 :  19724 \n",
      "\n",
      "outlier : 184\n",
      "완료 : hgb\n",
      "누적 아웃레이어 :  19908 \n",
      "\n",
      "outlier : 2006\n",
      "완료 : cr\n",
      "누적 아웃레이어 :  21914 \n",
      "\n",
      "outlier가 중복될 수 있음\n",
      "<class 'pandas.core.frame.DataFrame'>\n",
      "Int64Index: 969694 entries, 0 to 999999\n",
      "Data columns (total 20 columns):\n",
      " #   Column   Non-Null Count   Dtype  \n",
      "---  ------   --------------   -----  \n",
      " 0   sex      969694 non-null  float32\n",
      " 1   age      969694 non-null  float32\n",
      " 2   city     969694 non-null  float32\n",
      " 3   ht       969694 non-null  float32\n",
      " 4   wt       969694 non-null  float32\n",
      " 5   waist    969694 non-null  float64\n",
      " 6   sbp      969694 non-null  float64\n",
      " 7   dbp      969694 non-null  float64\n",
      " 8   fbs      969694 non-null  float64\n",
      " 9   tchol    969694 non-null  float64\n",
      " 10  tg       969694 non-null  float64\n",
      " 11  hdl      969694 non-null  float64\n",
      " 12  ldl      969694 non-null  float64\n",
      " 13  hgb      969694 non-null  float64\n",
      " 14  upro     969694 non-null  float64\n",
      " 15  cr       969694 non-null  float64\n",
      " 16  smoking  969694 non-null  float64\n",
      " 17  alcohol  969694 non-null  float64\n",
      " 18  bmi      969694 non-null  float32\n",
      " 19  absi     969694 non-null  float64\n",
      "dtypes: float32(6), float64(14)\n",
      "memory usage: 133.2 MB\n"
     ]
    }
   ],
   "source": [
    "# fbs 이상치 제거대상에서 제외! y값이여서\n",
    "\n",
    "columns = ['ht','wt','waist','sbp','dbp','tchol','tg','hdl','ldl','hgb','cr']\n",
    "\n",
    "\n",
    "a=0\n",
    "\n",
    "for i in columns:\n",
    "    \n",
    "    \n",
    "    q25, q75 = np.quantile(DF_1[i], 0.25), np.quantile(DF_1[i], 0.75)\n",
    "    IQR = q75 - q25\n",
    "    \n",
    "    lower = q25 - IQR*3\n",
    "    upper = q75 + IQR*3\n",
    "    \n",
    "    upperN = DF_1.loc[DF_1[i]>upper].shape[0]\n",
    "    lowerN = DF_1.loc[DF_1[i]<lower].shape[0]\n",
    "    print('outlier :' , lowerN + upperN)\n",
    "    \n",
    "    \n",
    "    DF_1 = DF_1.drop(DF_1.loc[(DF_1[i]<lower)|(upper< DF_1[i])].index)\n",
    "    print('완료 :', i)\n",
    "\n",
    "\n",
    "    a = a + lowerN+upperN\n",
    "    print( '누적 아웃레이어 : ' , a ,'\\n')\n",
    "    \n",
    "print('outlier가 중복될 수 있음')\n",
    "DF_1.info()"
   ]
  },
  {
   "cell_type": "code",
   "execution_count": 18,
   "id": "d6d70b2c",
   "metadata": {
    "colab": {
     "base_uri": "https://localhost:8080/"
    },
    "executionInfo": {
     "elapsed": 325,
     "status": "ok",
     "timestamp": 1634510377382,
     "user": {
      "displayName": "Joon Chun",
      "photoUrl": "https://lh3.googleusercontent.com/a/default-user=s64",
      "userId": "11589729376972489768"
     },
     "user_tz": -540
    },
    "id": "d6d70b2c",
    "outputId": "38ad454e-34d5-41bc-b2c9-b2f56b59da5a"
   },
   "outputs": [
    {
     "data": {
      "text/plain": [
       "991608"
      ]
     },
     "execution_count": 18,
     "metadata": {},
     "output_type": "execute_result"
    }
   ],
   "source": [
    "21914+969694"
   ]
  },
  {
   "cell_type": "markdown",
   "id": "SQfotSNvPfv4",
   "metadata": {
    "id": "SQfotSNvPfv4"
   },
   "source": [
    "- absi 는 이상치가 위로 40짜리가 존재한다. 그래서 평균을 많이 올려서 아웃레이어 아래에 정상치가 많이 잡혀서 위쪽만 자름 (bmi 역시)\n",
    "- 설정아님 이 부분에서 약간 차이가 날 수 있을꺼 같아요. (전처리부분을 bmi와 absi 아래부분역시 자르면 어떻게 될지 한번 봐야 하는데 )"
   ]
  },
  {
   "cell_type": "code",
   "execution_count": 19,
   "id": "uCoiVHgSMQbS",
   "metadata": {
    "colab": {
     "base_uri": "https://localhost:8080/"
    },
    "executionInfo": {
     "elapsed": 344,
     "status": "ok",
     "timestamp": 1634510382606,
     "user": {
      "displayName": "Joon Chun",
      "photoUrl": "https://lh3.googleusercontent.com/a/default-user=s64",
      "userId": "11589729376972489768"
     },
     "user_tz": -540
    },
    "id": "uCoiVHgSMQbS",
    "outputId": "713b1d0b-6798-4000-f047-047a4187b773"
   },
   "outputs": [
    {
     "name": "stdout",
     "output_type": "stream",
     "text": [
      "outlier : 231\n",
      "누적 제거:  231\n",
      "완료 : bmi \n",
      "\n",
      "outlier : 481\n",
      "누적 제거:  712\n",
      "완료 : absi \n",
      "\n",
      "outlier가 중복될 수 있음\n",
      "<class 'pandas.core.frame.DataFrame'>\n",
      "Int64Index: 968982 entries, 0 to 999999\n",
      "Data columns (total 20 columns):\n",
      " #   Column   Non-Null Count   Dtype  \n",
      "---  ------   --------------   -----  \n",
      " 0   sex      968982 non-null  float32\n",
      " 1   age      968982 non-null  float32\n",
      " 2   city     968982 non-null  float32\n",
      " 3   ht       968982 non-null  float32\n",
      " 4   wt       968982 non-null  float32\n",
      " 5   waist    968982 non-null  float64\n",
      " 6   sbp      968982 non-null  float64\n",
      " 7   dbp      968982 non-null  float64\n",
      " 8   fbs      968982 non-null  float64\n",
      " 9   tchol    968982 non-null  float64\n",
      " 10  tg       968982 non-null  float64\n",
      " 11  hdl      968982 non-null  float64\n",
      " 12  ldl      968982 non-null  float64\n",
      " 13  hgb      968982 non-null  float64\n",
      " 14  upro     968982 non-null  float64\n",
      " 15  cr       968982 non-null  float64\n",
      " 16  smoking  968982 non-null  float64\n",
      " 17  alcohol  968982 non-null  float64\n",
      " 18  bmi      968982 non-null  float32\n",
      " 19  absi     968982 non-null  float64\n",
      "dtypes: float32(6), float64(14)\n",
      "memory usage: 133.1 MB\n"
     ]
    }
   ],
   "source": [
    "columns2 = ['bmi','absi']\n",
    "\n",
    "a=0\n",
    "\n",
    "for j in columns2:\n",
    "    \n",
    "    q25, q75 = np.quantile(DF_1[j], 0.25), np.quantile(DF_1[j], 0.75)\n",
    "    IQR = q75 - q25\n",
    "    \n",
    "    upper = q75 + IQR*3\n",
    "    \n",
    "    upperN = DF_1.loc[DF_1[j]>upper].shape[0]\n",
    "    print('outlier :' , upperN )\n",
    "    \n",
    "    a = a + upperN\n",
    "    print('누적 제거: ' , a,)\n",
    "\n",
    "\n",
    "    DF_1 = DF_1.drop(DF_1.loc[(DF_1[j]>upper)].index)\n",
    "    print('완료 :', j, '\\n')\n",
    "\n",
    "\n",
    "    \n",
    "print('outlier가 중복될 수 있음')\n",
    "DF_1.info()"
   ]
  },
  {
   "cell_type": "code",
   "execution_count": 21,
   "id": "lTd2d1wfjp4s",
   "metadata": {
    "colab": {
     "base_uri": "https://localhost:8080/"
    },
    "executionInfo": {
     "elapsed": 285,
     "status": "ok",
     "timestamp": 1634510386658,
     "user": {
      "displayName": "Joon Chun",
      "photoUrl": "https://lh3.googleusercontent.com/a/default-user=s64",
      "userId": "11589729376972489768"
     },
     "user_tz": -540
    },
    "id": "lTd2d1wfjp4s",
    "outputId": "3f4ac748-4d8e-4dc8-a10d-4f400e34444c"
   },
   "outputs": [
    {
     "data": {
      "text/plain": [
       "712"
      ]
     },
     "execution_count": 21,
     "metadata": {},
     "output_type": "execute_result"
    }
   ],
   "source": [
    "969694-968982"
   ]
  },
  {
   "cell_type": "code",
   "execution_count": 23,
   "id": "35aa4c6f",
   "metadata": {
    "colab": {
     "base_uri": "https://localhost:8080/"
    },
    "executionInfo": {
     "elapsed": 324,
     "status": "ok",
     "timestamp": 1634510427644,
     "user": {
      "displayName": "Joon Chun",
      "photoUrl": "https://lh3.googleusercontent.com/a/default-user=s64",
      "userId": "11589729376972489768"
     },
     "user_tz": -540
    },
    "id": "35aa4c6f",
    "outputId": "e1f80477-8bfe-42c6-9a60-e844f417d4c0",
    "scrolled": false
   },
   "outputs": [
    {
     "data": {
      "text/plain": [
       "count    968982.000000\n",
       "mean        100.058702\n",
       "std          23.333873\n",
       "min          25.000000\n",
       "25%          88.000000\n",
       "50%          96.000000\n",
       "75%         105.000000\n",
       "max         852.000000\n",
       "Name: fbs, dtype: float64"
      ]
     },
     "execution_count": 23,
     "metadata": {},
     "output_type": "execute_result"
    }
   ],
   "source": [
    "DF_1['fbs'].describe()"
   ]
  },
  {
   "cell_type": "markdown",
   "id": "O5d8C2YUk_BT",
   "metadata": {
    "id": "O5d8C2YUk_BT"
   },
   "source": [
    "## III.스케일링\n",
    "- DF_1 스케일링 없는 데이터\n",
    "- DF_s 정규화한 데이터\n",
    "- DF_n 표준화한 데이터"
   ]
  },
  {
   "cell_type": "code",
   "execution_count": 24,
   "id": "F-D7YRrSSjKX",
   "metadata": {
    "colab": {
     "base_uri": "https://localhost:8080/"
    },
    "executionInfo": {
     "elapsed": 301,
     "status": "ok",
     "timestamp": 1634510438292,
     "user": {
      "displayName": "Joon Chun",
      "photoUrl": "https://lh3.googleusercontent.com/a/default-user=s64",
      "userId": "11589729376972489768"
     },
     "user_tz": -540
    },
    "id": "F-D7YRrSSjKX",
    "outputId": "c1b70483-4621-4049-a62d-1c6b31479156"
   },
   "outputs": [
    {
     "name": "stdout",
     "output_type": "stream",
     "text": [
      "<class 'pandas.core.frame.DataFrame'>\n",
      "Int64Index: 968982 entries, 0 to 999999\n",
      "Data columns (total 23 columns):\n",
      " #   Column   Non-Null Count   Dtype  \n",
      "---  ------   --------------   -----  \n",
      " 0   sex      968982 non-null  float32\n",
      " 1   age      968982 non-null  float32\n",
      " 2   city     968982 non-null  float32\n",
      " 3   ht       968982 non-null  float32\n",
      " 4   wt       968982 non-null  float32\n",
      " 5   waist    968982 non-null  float64\n",
      " 6   sbp      968982 non-null  float64\n",
      " 7   dbp      968982 non-null  float64\n",
      " 8   fbs      968982 non-null  float64\n",
      " 9   tchol    968982 non-null  float64\n",
      " 10  tg       968982 non-null  float64\n",
      " 11  hdl      968982 non-null  float64\n",
      " 12  ldl      968982 non-null  float64\n",
      " 13  hgb      968982 non-null  float64\n",
      " 14  upro     968982 non-null  float64\n",
      " 15  cr       968982 non-null  float64\n",
      " 16  smoking  968982 non-null  float64\n",
      " 17  alcohol  968982 non-null  float64\n",
      " 18  bmi      968982 non-null  float32\n",
      " 19  absi     968982 non-null  float64\n",
      " 20  fbs_L    968982 non-null  int64  \n",
      " 21  fbs_L2   968982 non-null  int64  \n",
      " 22  fbs_L3   968982 non-null  int64  \n",
      "dtypes: float32(6), float64(14), int64(3)\n",
      "memory usage: 155.2 MB\n"
     ]
    }
   ],
   "source": [
    "DF_1['fbs_L'] = np.digitize(DF_1['fbs'], [99,125,200,999])\n",
    "DF_1['fbs_L2'] = np.digitize(DF_1['fbs'], [125])\n",
    "DF_1['fbs_L3'] = np.digitize(DF_1['fbs'], [99])\n",
    "DF_1.info()"
   ]
  },
  {
   "cell_type": "code",
   "execution_count": 25,
   "id": "PEpfTUy9nAoo",
   "metadata": {
    "executionInfo": {
     "elapsed": 6,
     "status": "ok",
     "timestamp": 1634510438615,
     "user": {
      "displayName": "Joon Chun",
      "photoUrl": "https://lh3.googleusercontent.com/a/default-user=s64",
      "userId": "11589729376972489768"
     },
     "user_tz": -540
    },
    "id": "PEpfTUy9nAoo"
   },
   "outputs": [],
   "source": [
    "# 데이터 프레임 분리\n",
    "sex = DF_1['sex']\n",
    "age = DF_1['age']\n",
    "city = DF_1['city']\n",
    "ht = DF_1['ht']\n",
    "wt = DF_1['wt']\n",
    "waist = DF_1['waist']\n",
    "sbp = DF_1['sbp']\n",
    "dbp = DF_1['dbp']\n",
    "fbs = DF_1['fbs']\n",
    "tchol = DF_1['tchol']\n",
    "tg = DF_1['tg']\n",
    "hdl = DF_1['hdl']\n",
    "ldl = DF_1['ldl']\n",
    "hgb = DF_1['hgb']\n",
    "upro = DF_1['upro']\n",
    "cr = DF_1['cr']\n",
    "smoking = DF_1['smoking']\n",
    "alcohol = DF_1['alcohol']\n",
    "bmi = DF_1['bmi']\n",
    "absi = DF_1['absi']\n",
    "fbs_L = DF_1['fbs_L']\n",
    "fbs_L2 = DF_1['fbs_L2']\n",
    "fbs_L3 = DF_1['fbs_L3']"
   ]
  },
  {
   "cell_type": "code",
   "execution_count": 26,
   "id": "unGsMTCHoZD8",
   "metadata": {
    "colab": {
     "base_uri": "https://localhost:8080/"
    },
    "executionInfo": {
     "elapsed": 6,
     "status": "ok",
     "timestamp": 1634510438616,
     "user": {
      "displayName": "Joon Chun",
      "photoUrl": "https://lh3.googleusercontent.com/a/default-user=s64",
      "userId": "11589729376972489768"
     },
     "user_tz": -540
    },
    "id": "unGsMTCHoZD8",
    "outputId": "b2a2afae-dfce-4196-aee4-14b626153b1e"
   },
   "outputs": [
    {
     "name": "stdout",
     "output_type": "stream",
     "text": [
      "<class 'pandas.core.frame.DataFrame'>\n",
      "Int64Index: 968982 entries, 0 to 999999\n",
      "Data columns (total 9 columns):\n",
      " #   Column   Non-Null Count   Dtype  \n",
      "---  ------   --------------   -----  \n",
      " 0   sex      968982 non-null  float32\n",
      " 1   age      968982 non-null  float32\n",
      " 2   city     968982 non-null  float32\n",
      " 3   upro     968982 non-null  float64\n",
      " 4   smoking  968982 non-null  float64\n",
      " 5   alcohol  968982 non-null  float64\n",
      " 6   fbs_L    968982 non-null  int64  \n",
      " 7   fbs_L2   968982 non-null  int64  \n",
      " 8   fbs_L3   968982 non-null  int64  \n",
      "dtypes: float32(3), float64(3), int64(3)\n",
      "memory usage: 62.8 MB\n"
     ]
    }
   ],
   "source": [
    "# 스켈링 하지 말아야 될 변수들\n",
    "DF_s = DF_1[['sex','age','city','upro','smoking','alcohol','fbs_L','fbs_L2','fbs_L3']]\n",
    "DF_s.info()"
   ]
  },
  {
   "cell_type": "code",
   "execution_count": 27,
   "id": "584TTeZrk-oC",
   "metadata": {
    "colab": {
     "base_uri": "https://localhost:8080/",
     "height": 225
    },
    "executionInfo": {
     "elapsed": 362,
     "status": "ok",
     "timestamp": 1634510438974,
     "user": {
      "displayName": "Joon Chun",
      "photoUrl": "https://lh3.googleusercontent.com/a/default-user=s64",
      "userId": "11589729376972489768"
     },
     "user_tz": -540
    },
    "id": "584TTeZrk-oC",
    "outputId": "d053b111-f9f1-41a6-c3fb-b729cc548051"
   },
   "outputs": [
    {
     "data": {
      "text/html": [
       "<div>\n",
       "<style scoped>\n",
       "    .dataframe tbody tr th:only-of-type {\n",
       "        vertical-align: middle;\n",
       "    }\n",
       "\n",
       "    .dataframe tbody tr th {\n",
       "        vertical-align: top;\n",
       "    }\n",
       "\n",
       "    .dataframe thead th {\n",
       "        text-align: right;\n",
       "    }\n",
       "</style>\n",
       "<table border=\"1\" class=\"dataframe\">\n",
       "  <thead>\n",
       "    <tr style=\"text-align: right;\">\n",
       "      <th></th>\n",
       "      <th>sex</th>\n",
       "      <th>age</th>\n",
       "      <th>city</th>\n",
       "      <th>upro</th>\n",
       "      <th>smoking</th>\n",
       "      <th>alcohol</th>\n",
       "      <th>fbs_L</th>\n",
       "      <th>fbs_L2</th>\n",
       "      <th>fbs_L3</th>\n",
       "      <th>ht</th>\n",
       "      <th>...</th>\n",
       "      <th>dbp</th>\n",
       "      <th>fbs</th>\n",
       "      <th>tchol</th>\n",
       "      <th>tg</th>\n",
       "      <th>hdl</th>\n",
       "      <th>ldl</th>\n",
       "      <th>hgb</th>\n",
       "      <th>cr</th>\n",
       "      <th>bmi</th>\n",
       "      <th>absi</th>\n",
       "    </tr>\n",
       "  </thead>\n",
       "  <tbody>\n",
       "    <tr>\n",
       "      <th>0</th>\n",
       "      <td>1.0</td>\n",
       "      <td>8.0</td>\n",
       "      <td>43.0</td>\n",
       "      <td>1.0</td>\n",
       "      <td>1.0</td>\n",
       "      <td>1.0</td>\n",
       "      <td>1</td>\n",
       "      <td>0</td>\n",
       "      <td>1</td>\n",
       "      <td>0.845055</td>\n",
       "      <td>...</td>\n",
       "      <td>0.422864</td>\n",
       "      <td>-0.045372</td>\n",
       "      <td>-0.049538</td>\n",
       "      <td>-0.448956</td>\n",
       "      <td>-0.623717</td>\n",
       "      <td>0.379432</td>\n",
       "      <td>1.835363</td>\n",
       "      <td>0.751528</td>\n",
       "      <td>0.598413</td>\n",
       "      <td>0.349527</td>\n",
       "    </tr>\n",
       "    <tr>\n",
       "      <th>1</th>\n",
       "      <td>1.0</td>\n",
       "      <td>7.0</td>\n",
       "      <td>11.0</td>\n",
       "      <td>1.0</td>\n",
       "      <td>3.0</td>\n",
       "      <td>0.0</td>\n",
       "      <td>1</td>\n",
       "      <td>0</td>\n",
       "      <td>1</td>\n",
       "      <td>1.923366</td>\n",
       "      <td>...</td>\n",
       "      <td>0.628692</td>\n",
       "      <td>0.254621</td>\n",
       "      <td>0.887118</td>\n",
       "      <td>-0.036327</td>\n",
       "      <td>-0.146686</td>\n",
       "      <td>1.022716</td>\n",
       "      <td>1.008007</td>\n",
       "      <td>0.250270</td>\n",
       "      <td>0.236325</td>\n",
       "      <td>0.247536</td>\n",
       "    </tr>\n",
       "    <tr>\n",
       "      <th>2</th>\n",
       "      <td>1.0</td>\n",
       "      <td>9.0</td>\n",
       "      <td>41.0</td>\n",
       "      <td>1.0</td>\n",
       "      <td>1.0</td>\n",
       "      <td>0.0</td>\n",
       "      <td>0</td>\n",
       "      <td>0</td>\n",
       "      <td>0</td>\n",
       "      <td>0.305899</td>\n",
       "      <td>...</td>\n",
       "      <td>-0.606279</td>\n",
       "      <td>-0.088228</td>\n",
       "      <td>-1.574950</td>\n",
       "      <td>-0.278213</td>\n",
       "      <td>-1.100748</td>\n",
       "      <td>-1.141057</td>\n",
       "      <td>1.008007</td>\n",
       "      <td>0.250270</td>\n",
       "      <td>1.057176</td>\n",
       "      <td>0.135551</td>\n",
       "    </tr>\n",
       "    <tr>\n",
       "      <th>3</th>\n",
       "      <td>1.0</td>\n",
       "      <td>11.0</td>\n",
       "      <td>48.0</td>\n",
       "      <td>1.0</td>\n",
       "      <td>1.0</td>\n",
       "      <td>0.0</td>\n",
       "      <td>0</td>\n",
       "      <td>0</td>\n",
       "      <td>0</td>\n",
       "      <td>1.384210</td>\n",
       "      <td>...</td>\n",
       "      <td>1.143264</td>\n",
       "      <td>-0.216797</td>\n",
       "      <td>0.164554</td>\n",
       "      <td>-0.249756</td>\n",
       "      <td>1.284406</td>\n",
       "      <td>-0.263852</td>\n",
       "      <td>2.153577</td>\n",
       "      <td>1.252787</td>\n",
       "      <td>0.647516</td>\n",
       "      <td>0.228159</td>\n",
       "    </tr>\n",
       "    <tr>\n",
       "      <th>4</th>\n",
       "      <td>1.0</td>\n",
       "      <td>11.0</td>\n",
       "      <td>30.0</td>\n",
       "      <td>1.0</td>\n",
       "      <td>1.0</td>\n",
       "      <td>0.0</td>\n",
       "      <td>1</td>\n",
       "      <td>0</td>\n",
       "      <td>1</td>\n",
       "      <td>0.305899</td>\n",
       "      <td>...</td>\n",
       "      <td>0.628692</td>\n",
       "      <td>0.040340</td>\n",
       "      <td>0.111031</td>\n",
       "      <td>-0.278213</td>\n",
       "      <td>0.262197</td>\n",
       "      <td>0.116271</td>\n",
       "      <td>-0.264849</td>\n",
       "      <td>-0.250989</td>\n",
       "      <td>-0.525894</td>\n",
       "      <td>0.444894</td>\n",
       "    </tr>\n",
       "  </tbody>\n",
       "</table>\n",
       "<p>5 rows × 23 columns</p>\n",
       "</div>"
      ],
      "text/plain": [
       "   sex   age  city  upro  smoking  alcohol  fbs_L  fbs_L2  fbs_L3        ht  \\\n",
       "0  1.0   8.0  43.0   1.0      1.0      1.0      1       0       1  0.845055   \n",
       "1  1.0   7.0  11.0   1.0      3.0      0.0      1       0       1  1.923366   \n",
       "2  1.0   9.0  41.0   1.0      1.0      0.0      0       0       0  0.305899   \n",
       "3  1.0  11.0  48.0   1.0      1.0      0.0      0       0       0  1.384210   \n",
       "4  1.0  11.0  30.0   1.0      1.0      0.0      1       0       1  0.305899   \n",
       "\n",
       "   ...       dbp       fbs     tchol        tg       hdl       ldl       hgb  \\\n",
       "0  ...  0.422864 -0.045372 -0.049538 -0.448956 -0.623717  0.379432  1.835363   \n",
       "1  ...  0.628692  0.254621  0.887118 -0.036327 -0.146686  1.022716  1.008007   \n",
       "2  ... -0.606279 -0.088228 -1.574950 -0.278213 -1.100748 -1.141057  1.008007   \n",
       "3  ...  1.143264 -0.216797  0.164554 -0.249756  1.284406 -0.263852  2.153577   \n",
       "4  ...  0.628692  0.040340  0.111031 -0.278213  0.262197  0.116271 -0.264849   \n",
       "\n",
       "         cr       bmi      absi  \n",
       "0  0.751528  0.598413  0.349527  \n",
       "1  0.250270  0.236325  0.247536  \n",
       "2  0.250270  1.057176  0.135551  \n",
       "3  1.252787  0.647516  0.228159  \n",
       "4 -0.250989 -0.525894  0.444894  \n",
       "\n",
       "[5 rows x 23 columns]"
      ]
     },
     "execution_count": 27,
     "metadata": {},
     "output_type": "execute_result"
    }
   ],
   "source": [
    "# 스켈링 해야할 변수들\n",
    "columns = ['ht','wt','waist','sbp','dbp','fbs','tchol','tg','hdl','ldl','hgb','cr','bmi','absi']\n",
    "\n",
    "for i in columns :\n",
    "\n",
    "    DF_s[i] = StandardScaler().fit_transform(DF_1[[i]])\n",
    "\n",
    "DF_s.head()\n"
   ]
  },
  {
   "cell_type": "code",
   "execution_count": 28,
   "id": "9Ok9RulRAnn7",
   "metadata": {
    "colab": {
     "base_uri": "https://localhost:8080/",
     "height": 225
    },
    "executionInfo": {
     "elapsed": 469,
     "status": "ok",
     "timestamp": 1634510439439,
     "user": {
      "displayName": "Joon Chun",
      "photoUrl": "https://lh3.googleusercontent.com/a/default-user=s64",
      "userId": "11589729376972489768"
     },
     "user_tz": -540
    },
    "id": "9Ok9RulRAnn7",
    "outputId": "eda561a8-8a84-4d4b-b6fd-ee9628688051"
   },
   "outputs": [
    {
     "data": {
      "text/html": [
       "<div>\n",
       "<style scoped>\n",
       "    .dataframe tbody tr th:only-of-type {\n",
       "        vertical-align: middle;\n",
       "    }\n",
       "\n",
       "    .dataframe tbody tr th {\n",
       "        vertical-align: top;\n",
       "    }\n",
       "\n",
       "    .dataframe thead th {\n",
       "        text-align: right;\n",
       "    }\n",
       "</style>\n",
       "<table border=\"1\" class=\"dataframe\">\n",
       "  <thead>\n",
       "    <tr style=\"text-align: right;\">\n",
       "      <th></th>\n",
       "      <th>sex</th>\n",
       "      <th>age</th>\n",
       "      <th>city</th>\n",
       "      <th>upro</th>\n",
       "      <th>smoking</th>\n",
       "      <th>alcohol</th>\n",
       "      <th>fbs_L</th>\n",
       "      <th>fbs_L2</th>\n",
       "      <th>fbs_L3</th>\n",
       "      <th>ht</th>\n",
       "      <th>...</th>\n",
       "      <th>dbp</th>\n",
       "      <th>fbs</th>\n",
       "      <th>tchol</th>\n",
       "      <th>tg</th>\n",
       "      <th>hdl</th>\n",
       "      <th>ldl</th>\n",
       "      <th>hgb</th>\n",
       "      <th>cr</th>\n",
       "      <th>bmi</th>\n",
       "      <th>absi</th>\n",
       "    </tr>\n",
       "  </thead>\n",
       "  <tbody>\n",
       "    <tr>\n",
       "      <th>0</th>\n",
       "      <td>1.0</td>\n",
       "      <td>8.0</td>\n",
       "      <td>43.0</td>\n",
       "      <td>1.0</td>\n",
       "      <td>1.0</td>\n",
       "      <td>1.0</td>\n",
       "      <td>1</td>\n",
       "      <td>0</td>\n",
       "      <td>1</td>\n",
       "      <td>0.666667</td>\n",
       "      <td>...</td>\n",
       "      <td>0.547619</td>\n",
       "      <td>0.089480</td>\n",
       "      <td>0.480826</td>\n",
       "      <td>0.218750</td>\n",
       "      <td>0.376</td>\n",
       "      <td>0.459559</td>\n",
       "      <td>0.685535</td>\n",
       "      <td>0.500000</td>\n",
       "      <td>0.506653</td>\n",
       "      <td>0.692663</td>\n",
       "    </tr>\n",
       "    <tr>\n",
       "      <th>1</th>\n",
       "      <td>1.0</td>\n",
       "      <td>7.0</td>\n",
       "      <td>11.0</td>\n",
       "      <td>1.0</td>\n",
       "      <td>3.0</td>\n",
       "      <td>0.0</td>\n",
       "      <td>1</td>\n",
       "      <td>0</td>\n",
       "      <td>1</td>\n",
       "      <td>0.833333</td>\n",
       "      <td>...</td>\n",
       "      <td>0.571429</td>\n",
       "      <td>0.097944</td>\n",
       "      <td>0.584071</td>\n",
       "      <td>0.288462</td>\n",
       "      <td>0.432</td>\n",
       "      <td>0.540441</td>\n",
       "      <td>0.603774</td>\n",
       "      <td>0.444444</td>\n",
       "      <td>0.459234</td>\n",
       "      <td>0.685246</td>\n",
       "    </tr>\n",
       "    <tr>\n",
       "      <th>2</th>\n",
       "      <td>1.0</td>\n",
       "      <td>9.0</td>\n",
       "      <td>41.0</td>\n",
       "      <td>1.0</td>\n",
       "      <td>1.0</td>\n",
       "      <td>0.0</td>\n",
       "      <td>0</td>\n",
       "      <td>0</td>\n",
       "      <td>0</td>\n",
       "      <td>0.583333</td>\n",
       "      <td>...</td>\n",
       "      <td>0.428571</td>\n",
       "      <td>0.088271</td>\n",
       "      <td>0.312684</td>\n",
       "      <td>0.247596</td>\n",
       "      <td>0.320</td>\n",
       "      <td>0.268382</td>\n",
       "      <td>0.603774</td>\n",
       "      <td>0.444444</td>\n",
       "      <td>0.566733</td>\n",
       "      <td>0.677103</td>\n",
       "    </tr>\n",
       "    <tr>\n",
       "      <th>3</th>\n",
       "      <td>1.0</td>\n",
       "      <td>11.0</td>\n",
       "      <td>48.0</td>\n",
       "      <td>1.0</td>\n",
       "      <td>1.0</td>\n",
       "      <td>0.0</td>\n",
       "      <td>0</td>\n",
       "      <td>0</td>\n",
       "      <td>0</td>\n",
       "      <td>0.750000</td>\n",
       "      <td>...</td>\n",
       "      <td>0.630952</td>\n",
       "      <td>0.084643</td>\n",
       "      <td>0.504425</td>\n",
       "      <td>0.252404</td>\n",
       "      <td>0.600</td>\n",
       "      <td>0.378676</td>\n",
       "      <td>0.716981</td>\n",
       "      <td>0.555556</td>\n",
       "      <td>0.513084</td>\n",
       "      <td>0.683837</td>\n",
       "    </tr>\n",
       "    <tr>\n",
       "      <th>4</th>\n",
       "      <td>1.0</td>\n",
       "      <td>11.0</td>\n",
       "      <td>30.0</td>\n",
       "      <td>1.0</td>\n",
       "      <td>1.0</td>\n",
       "      <td>0.0</td>\n",
       "      <td>1</td>\n",
       "      <td>0</td>\n",
       "      <td>1</td>\n",
       "      <td>0.583333</td>\n",
       "      <td>...</td>\n",
       "      <td>0.571429</td>\n",
       "      <td>0.091898</td>\n",
       "      <td>0.498525</td>\n",
       "      <td>0.247596</td>\n",
       "      <td>0.480</td>\n",
       "      <td>0.426471</td>\n",
       "      <td>0.477987</td>\n",
       "      <td>0.388889</td>\n",
       "      <td>0.359413</td>\n",
       "      <td>0.699599</td>\n",
       "    </tr>\n",
       "  </tbody>\n",
       "</table>\n",
       "<p>5 rows × 23 columns</p>\n",
       "</div>"
      ],
      "text/plain": [
       "   sex   age  city  upro  smoking  alcohol  fbs_L  fbs_L2  fbs_L3        ht  \\\n",
       "0  1.0   8.0  43.0   1.0      1.0      1.0      1       0       1  0.666667   \n",
       "1  1.0   7.0  11.0   1.0      3.0      0.0      1       0       1  0.833333   \n",
       "2  1.0   9.0  41.0   1.0      1.0      0.0      0       0       0  0.583333   \n",
       "3  1.0  11.0  48.0   1.0      1.0      0.0      0       0       0  0.750000   \n",
       "4  1.0  11.0  30.0   1.0      1.0      0.0      1       0       1  0.583333   \n",
       "\n",
       "   ...       dbp       fbs     tchol        tg    hdl       ldl       hgb  \\\n",
       "0  ...  0.547619  0.089480  0.480826  0.218750  0.376  0.459559  0.685535   \n",
       "1  ...  0.571429  0.097944  0.584071  0.288462  0.432  0.540441  0.603774   \n",
       "2  ...  0.428571  0.088271  0.312684  0.247596  0.320  0.268382  0.603774   \n",
       "3  ...  0.630952  0.084643  0.504425  0.252404  0.600  0.378676  0.716981   \n",
       "4  ...  0.571429  0.091898  0.498525  0.247596  0.480  0.426471  0.477987   \n",
       "\n",
       "         cr       bmi      absi  \n",
       "0  0.500000  0.506653  0.692663  \n",
       "1  0.444444  0.459234  0.685246  \n",
       "2  0.444444  0.566733  0.677103  \n",
       "3  0.555556  0.513084  0.683837  \n",
       "4  0.388889  0.359413  0.699599  \n",
       "\n",
       "[5 rows x 23 columns]"
      ]
     },
     "execution_count": 28,
     "metadata": {},
     "output_type": "execute_result"
    }
   ],
   "source": [
    "DF_n = DF_1[['sex','age','city','upro','smoking','alcohol','fbs_L','fbs_L2','fbs_L3']]\n",
    "columns = ['ht','wt','waist','sbp','dbp','fbs','tchol','tg','hdl','ldl','hgb','cr','bmi','absi']\n",
    "\n",
    "for i in columns :\n",
    "\n",
    "    DF_n[i] = MinMaxScaler().fit_transform(DF_1[[i]])\n",
    "\n",
    "DF_n.head()"
   ]
  },
  {
   "cell_type": "markdown",
   "id": "J9L9N6lPQ6Nz",
   "metadata": {
    "id": "J9L9N6lPQ6Nz"
   },
   "source": [
    "## VII. 2) 모델링 - 공복혈당 추론하기 - Random Forest - 연속형 데이터"
   ]
  },
  {
   "cell_type": "markdown",
   "id": "ogcI-tf_ZQ5Q",
   "metadata": {
    "id": "ogcI-tf_ZQ5Q"
   },
   "source": [
    "### 1) 일반 Random Forest"
   ]
  },
  {
   "cell_type": "code",
   "execution_count": 29,
   "id": "FzUO5Khyznkm",
   "metadata": {
    "colab": {
     "base_uri": "https://localhost:8080/"
    },
    "executionInfo": {
     "elapsed": 368,
     "status": "ok",
     "timestamp": 1634511124396,
     "user": {
      "displayName": "Joon Chun",
      "photoUrl": "https://lh3.googleusercontent.com/a/default-user=s64",
      "userId": "11589729376972489768"
     },
     "user_tz": -540
    },
    "id": "FzUO5Khyznkm",
    "outputId": "632cd910-4283-4cdc-9209-e9a38ef0ab4c"
   },
   "outputs": [
    {
     "data": {
      "text/plain": [
       "count    9.689820e+05\n",
       "mean     7.777888e-17\n",
       "std      1.000001e+00\n",
       "min     -3.216729e+00\n",
       "25%     -5.167898e-01\n",
       "50%     -1.739404e-01\n",
       "75%      2.117651e-01\n",
       "max      3.222533e+01\n",
       "Name: fbs, dtype: float64"
      ]
     },
     "execution_count": 29,
     "metadata": {},
     "output_type": "execute_result"
    }
   ],
   "source": [
    "\n",
    "DF_a = DF_s\n",
    "\n",
    "DF_a['fbs'].describe()"
   ]
  },
  {
   "cell_type": "code",
   "execution_count": 30,
   "id": "6GwFzBlMVbZF",
   "metadata": {
    "executionInfo": {
     "elapsed": 278,
     "status": "ok",
     "timestamp": 1634511127252,
     "user": {
      "displayName": "Joon Chun",
      "photoUrl": "https://lh3.googleusercontent.com/a/default-user=s64",
      "userId": "11589729376972489768"
     },
     "user_tz": -540
    },
    "id": "6GwFzBlMVbZF"
   },
   "outputs": [],
   "source": [
    "X = DF_a[['age', 'sex','city','ht','wt','waist','smoking','alcohol','bmi','absi']]\n",
    "y = DF_a['fbs']"
   ]
  },
  {
   "cell_type": "code",
   "execution_count": 31,
   "id": "TYLaG_wSVej3",
   "metadata": {
    "colab": {
     "base_uri": "https://localhost:8080/"
    },
    "executionInfo": {
     "elapsed": 8,
     "status": "ok",
     "timestamp": 1634511129196,
     "user": {
      "displayName": "Joon Chun",
      "photoUrl": "https://lh3.googleusercontent.com/a/default-user=s64",
      "userId": "11589729376972489768"
     },
     "user_tz": -540
    },
    "id": "TYLaG_wSVej3",
    "outputId": "7dfee94a-d115-4cac-e89a-e7ddbdab868f"
   },
   "outputs": [
    {
     "name": "stdout",
     "output_type": "stream",
     "text": [
      "Train Data :  (678287, 10) (678287,)\n",
      "Test Data :  (290695, 10) (290695,)\n"
     ]
    }
   ],
   "source": [
    "X_train, X_test, y_train, y_test = train_test_split(X, y,\n",
    "                                                    test_size = 0.3,\n",
    "                                                    random_state = 2045)\n",
    "\n",
    "print('Train Data : ', X_train.shape, y_train.shape)\n",
    "print('Test Data : ', X_test.shape, y_test.shape)"
   ]
  },
  {
   "cell_type": "code",
   "execution_count": 32,
   "id": "08800c05",
   "metadata": {
    "executionInfo": {
     "elapsed": 359,
     "status": "aborted",
     "timestamp": 1634510305412,
     "user": {
      "displayName": "Joon Chun",
      "photoUrl": "https://lh3.googleusercontent.com/a/default-user=s64",
      "userId": "11589729376972489768"
     },
     "user_tz": -540
    },
    "id": "08800c05"
   },
   "outputs": [
    {
     "data": {
      "text/plain": [
       "RandomForestRegressor(max_depth=10, max_features=4, n_estimators=200, n_jobs=-1,\n",
       "                      random_state=2045)"
      ]
     },
     "execution_count": 32,
     "metadata": {},
     "output_type": "execute_result"
    }
   ],
   "source": [
    "Model_rf_a = RandomForestRegressor(n_estimators = 200,\n",
    "                                   max_features = 4,\n",
    "                                   max_depth = 10,\n",
    "                                   random_state = 2045,\n",
    "                                   n_jobs = -1)\n",
    "Model_rf_a.fit(X_train, y_train)"
   ]
  },
  {
   "cell_type": "code",
   "execution_count": 33,
   "id": "z7rRTXBOVqvg",
   "metadata": {
    "colab": {
     "base_uri": "https://localhost:8080/"
    },
    "executionInfo": {
     "elapsed": 1400,
     "status": "ok",
     "timestamp": 1634511145793,
     "user": {
      "displayName": "Joon Chun",
      "photoUrl": "https://lh3.googleusercontent.com/a/default-user=s64",
      "userId": "11589729376972489768"
     },
     "user_tz": -540
    },
    "id": "z7rRTXBOVqvg",
    "outputId": "65d9c290-cf6f-4416-bbdf-982223b5c93e"
   },
   "outputs": [
    {
     "name": "stdout",
     "output_type": "stream",
     "text": [
      "0.9105971380759728\n"
     ]
    }
   ],
   "source": [
    "y_hat_rf_a = Model_rf_a.predict(X_test)\n",
    "mse_rf_a = mean_squared_error(y_test, y_hat_rf_a)\n",
    "print(mse_rf_a)"
   ]
  },
  {
   "cell_type": "code",
   "execution_count": 35,
   "id": "fdf70800",
   "metadata": {},
   "outputs": [
    {
     "data": {
      "text/plain": [
       "21.247757974028215"
      ]
     },
     "execution_count": 35,
     "metadata": {},
     "output_type": "execute_result"
    }
   ],
   "source": [
    "std    =      23.333873\n",
    "mse_rf_a*std"
   ]
  },
  {
   "cell_type": "code",
   "execution_count": 36,
   "id": "JOC7hS0MVxsv",
   "metadata": {
    "colab": {
     "base_uri": "https://localhost:8080/",
     "height": 374
    },
    "executionInfo": {
     "elapsed": 547,
     "status": "ok",
     "timestamp": 1634511150459,
     "user": {
      "displayName": "Joon Chun",
      "photoUrl": "https://lh3.googleusercontent.com/a/default-user=s64",
      "userId": "11589729376972489768"
     },
     "user_tz": -540
    },
    "id": "JOC7hS0MVxsv",
    "outputId": "2d3162dd-a9c3-430f-88d6-6eba26a0382c",
    "scrolled": true
   },
   "outputs": [
    {
     "data": {
      "image/png": "[encoded data removed]",
      "text/plain": [
       "<Figure size 648x432 with 1 Axes>"
      ]
     },
     "metadata": {
      "needs_background": "light"
     },
     "output_type": "display_data"
    }
   ],
   "source": [
    "plt.figure(figsize=(9, 6))\n",
    "sns.barplot(Model_rf_a.feature_importances_, ['age', 'sex','city','ht','wt','waist','smoking','alcohol','bmi','absi'])\n",
    "plt.show()"
   ]
  },
  {
   "cell_type": "markdown",
   "id": "13e0fc3e",
   "metadata": {},
   "source": [
    "# 여기 윗부분이 코드고 아래는 for문으로 탐색한 코이예요"
   ]
  },
  {
   "cell_type": "markdown",
   "id": "JVK5Inh_ZXzQ",
   "metadata": {
    "id": "JVK5Inh_ZXzQ"
   },
   "source": [
    "### 2) for 문 GridSearch"
   ]
  },
  {
   "cell_type": "code",
   "execution_count": 178,
   "id": "SJlOn5TuZe6o",
   "metadata": {
    "executionInfo": {
     "elapsed": 302,
     "status": "ok",
     "timestamp": 1634511524491,
     "user": {
      "displayName": "Joon Chun",
      "photoUrl": "https://lh3.googleusercontent.com/a/default-user=s64",
      "userId": "11589729376972489768"
     },
     "user_tz": -540
    },
    "id": "SJlOn5TuZe6o"
   },
   "outputs": [],
   "source": [
    "# # DF_a = DF\n",
    "# # DF_a = DF_1\n",
    "# DF_a = DF_s\n",
    "# # DF_a = DF_n"
   ]
  },
  {
   "cell_type": "code",
   "execution_count": 179,
   "id": "1f33cc92",
   "metadata": {
    "colab": {
     "base_uri": "https://localhost:8080/"
    },
    "executionInfo": {
     "elapsed": 4094258,
     "status": "ok",
     "timestamp": 1634515633336,
     "user": {
      "displayName": "Joon Chun",
      "photoUrl": "https://lh3.googleusercontent.com/a/default-user=s64",
      "userId": "11589729376972489768"
     },
     "user_tz": -540
    },
    "id": "1f33cc92",
    "outputId": "36eaf466-8482-48a4-fb13-cbe10e6390fe"
   },
   "outputs": [
    {
     "name": "stdout",
     "output_type": "stream",
     "text": [
      "Train Data :  (660508, 10) (660508,)\n",
      "Test Data :  (283076, 10) (283076,)\n",
      "n_estimators : 10 max_features : 3 max_depth : 9\n",
      "mse :  0.8749302375762968\n",
      "n_estimators : 10 max_features : 3 max_depth : 10\n",
      "mse :  0.8745643209895156\n",
      "n_estimators : 10 max_features : 3 max_depth : 11\n",
      "mse :  0.8753794178809184\n",
      "n_estimators : 10 max_features : 3 max_depth : 12\n",
      "mse :  0.8763481733279694\n",
      "n_estimators : 10 max_features : 3 max_depth : 13\n",
      "mse :  0.8775990989583125\n",
      "n_estimators : 10 max_features : 4 max_depth : 9\n",
      "mse :  0.8743092244368914\n",
      "n_estimators : 10 max_features : 4 max_depth : 10\n",
      "mse :  0.874477912442874\n",
      "n_estimators : 10 max_features : 4 max_depth : 11\n",
      "mse :  0.8748396017450526\n",
      "n_estimators : 10 max_features : 4 max_depth : 12\n",
      "mse :  0.8763752916485819\n",
      "n_estimators : 10 max_features : 4 max_depth : 13\n",
      "mse :  0.87824285087684\n",
      "n_estimators : 10 max_features : 5 max_depth : 9\n",
      "mse :  0.8743005437976198\n",
      "n_estimators : 10 max_features : 5 max_depth : 10\n",
      "mse :  0.8745101156971898\n",
      "n_estimators : 10 max_features : 5 max_depth : 11\n",
      "mse :  0.8753812329817553\n",
      "n_estimators : 10 max_features : 5 max_depth : 12\n",
      "mse :  0.8767232699937381\n",
      "n_estimators : 10 max_features : 5 max_depth : 13\n",
      "mse :  0.8789441426533583\n",
      "n_estimators : 50 max_features : 3 max_depth : 9\n",
      "mse :  0.874384474798275\n",
      "n_estimators : 50 max_features : 3 max_depth : 10\n",
      "mse :  0.8736409776238143\n",
      "n_estimators : 50 max_features : 3 max_depth : 11\n",
      "mse :  0.8738186653510315\n",
      "n_estimators : 50 max_features : 3 max_depth : 12\n",
      "mse :  0.8740630683080087\n",
      "n_estimators : 50 max_features : 3 max_depth : 13\n",
      "mse :  0.8748122924598067\n",
      "n_estimators : 50 max_features : 4 max_depth : 9\n",
      "mse :  0.8735799583073424\n",
      "n_estimators : 50 max_features : 4 max_depth : 10\n",
      "mse :  0.8735171767012238\n",
      "n_estimators : 50 max_features : 4 max_depth : 11\n",
      "mse :  0.8734695913138127\n",
      "n_estimators : 50 max_features : 4 max_depth : 12\n",
      "mse :  0.8741503983802088\n",
      "n_estimators : 50 max_features : 4 max_depth : 13\n",
      "mse :  0.8750498688985585\n",
      "n_estimators : 50 max_features : 5 max_depth : 9\n",
      "mse :  0.8734276413865881\n",
      "n_estimators : 50 max_features : 5 max_depth : 10\n",
      "mse :  0.8734596861844895\n",
      "n_estimators : 50 max_features : 5 max_depth : 11\n",
      "mse :  0.8737660761991138\n",
      "n_estimators : 50 max_features : 5 max_depth : 12\n",
      "mse :  0.8741882418597092\n",
      "n_estimators : 50 max_features : 5 max_depth : 13\n",
      "mse :  0.875611797624086\n",
      "n_estimators : 100 max_features : 3 max_depth : 9\n",
      "mse :  0.8743485095670637\n",
      "n_estimators : 100 max_features : 3 max_depth : 10\n",
      "mse :  0.8736815400685023\n",
      "n_estimators : 100 max_features : 3 max_depth : 11\n",
      "mse :  0.8737029901036724\n",
      "n_estimators : 100 max_features : 3 max_depth : 12\n",
      "mse :  0.8738966061814365\n",
      "n_estimators : 100 max_features : 3 max_depth : 13\n",
      "mse :  0.874496012899536\n",
      "n_estimators : 100 max_features : 4 max_depth : 9\n",
      "mse :  0.8735638164924866\n",
      "n_estimators : 100 max_features : 4 max_depth : 10\n",
      "mse :  0.8733742342478347\n",
      "n_estimators : 100 max_features : 4 max_depth : 11\n",
      "mse :  0.873377539228885\n",
      "n_estimators : 100 max_features : 4 max_depth : 12\n",
      "mse :  0.8738907661041857\n",
      "n_estimators : 100 max_features : 4 max_depth : 13\n",
      "mse :  0.8747702590689518\n",
      "n_estimators : 100 max_features : 5 max_depth : 9\n",
      "mse :  0.8733332160649431\n",
      "n_estimators : 100 max_features : 5 max_depth : 10\n",
      "mse :  0.8732750303310063\n",
      "n_estimators : 100 max_features : 5 max_depth : 11\n",
      "mse :  0.8735484895552569\n",
      "n_estimators : 100 max_features : 5 max_depth : 12\n",
      "mse :  0.8740399679711828\n",
      "n_estimators : 100 max_features : 5 max_depth : 13\n",
      "mse :  0.8752265694952981\n",
      "n_estimators : 150 max_features : 3 max_depth : 9\n",
      "mse :  0.8742702272638623\n",
      "n_estimators : 150 max_features : 3 max_depth : 10\n",
      "mse :  0.8736643721987678\n",
      "n_estimators : 150 max_features : 3 max_depth : 11\n",
      "mse :  0.8736217421879817\n",
      "n_estimators : 150 max_features : 3 max_depth : 12\n",
      "mse :  0.8737705184573458\n",
      "n_estimators : 150 max_features : 3 max_depth : 13\n",
      "mse :  0.8743469796614236\n",
      "n_estimators : 150 max_features : 4 max_depth : 9\n",
      "mse :  0.8735553334760537\n",
      "n_estimators : 150 max_features : 4 max_depth : 10\n",
      "mse :  0.8733111024964693\n",
      "n_estimators : 150 max_features : 4 max_depth : 11\n",
      "mse :  0.8732934900783004\n",
      "n_estimators : 150 max_features : 4 max_depth : 12\n",
      "mse :  0.8738361526671196\n",
      "n_estimators : 150 max_features : 4 max_depth : 13\n",
      "mse :  0.8746465675846452\n",
      "n_estimators : 150 max_features : 5 max_depth : 9\n",
      "mse :  0.8733204872678086\n",
      "n_estimators : 150 max_features : 5 max_depth : 10\n",
      "mse :  0.8732650221159799\n",
      "n_estimators : 150 max_features : 5 max_depth : 11\n",
      "mse :  0.8734864052582201\n",
      "n_estimators : 150 max_features : 5 max_depth : 12\n",
      "mse :  0.874001792101173\n",
      "n_estimators : 150 max_features : 5 max_depth : 13\n",
      "mse :  0.8750703238820652\n",
      "n_estimators : 200 max_features : 3 max_depth : 9\n",
      "mse :  0.8742744653766811\n",
      "n_estimators : 200 max_features : 3 max_depth : 10\n",
      "mse :  0.8736423761091676\n",
      "n_estimators : 200 max_features : 3 max_depth : 11\n",
      "mse :  0.873567709420402\n",
      "n_estimators : 200 max_features : 3 max_depth : 12\n",
      "mse :  0.8737234091803628\n",
      "n_estimators : 200 max_features : 3 max_depth : 13\n",
      "mse :  0.8742525689097828\n",
      "n_estimators : 200 max_features : 4 max_depth : 9\n",
      "mse :  0.8735332977451681\n",
      "n_estimators : 200 max_features : 4 max_depth : 10\n",
      "mse :  0.8733135008810414\n",
      "n_estimators : 200 max_features : 4 max_depth : 11\n",
      "mse :  0.8732808343472755\n",
      "n_estimators : 200 max_features : 4 max_depth : 12\n",
      "mse :  0.8737415275690695\n",
      "n_estimators : 200 max_features : 4 max_depth : 13\n",
      "mse :  0.8745356479065267\n",
      "n_estimators : 200 max_features : 5 max_depth : 9\n",
      "mse :  0.8733075670268492\n",
      "n_estimators : 200 max_features : 5 max_depth : 10\n",
      "mse :  0.8732448363601506\n",
      "n_estimators : 200 max_features : 5 max_depth : 11\n",
      "mse :  0.8734324829388204\n",
      "n_estimators : 200 max_features : 5 max_depth : 12\n",
      "mse :  0.8739679495396165\n",
      "n_estimators : 200 max_features : 5 max_depth : 13\n",
      "mse :  0.8749675561306336\n",
      "time :  4093.8679373264313\n"
     ]
    }
   ],
   "source": [
    "# # 1시간 20분 소요\n",
    "# startT = time.time()\n",
    "\n",
    "# X = DF_a[['age', 'sex','city','ht','wt','waist','smoking','alcohol','bmi','absi']]\n",
    "# y = DF_a['fbs']\n",
    "\n",
    "# X_train, X_test, y_train, y_test = train_test_split(X, y,\n",
    "#                                                     test_size = 0.3,\n",
    "#                                                     random_state = 2045)\n",
    "\n",
    "# print('Train Data : ', X_train.shape, y_train.shape)\n",
    "# print('Test Data : ', X_test.shape, y_test.shape)\n",
    "\n",
    "# n_estimators = [10, 50, 100, 150, 200]\n",
    "# max_features = [3, 4, 5]\n",
    "# max_depth = [9, 10, 11, 12, 13]\n",
    "\n",
    "# Model_result=[]\n",
    "\n",
    "# for i in n_estimators :\n",
    "#   for j in max_features :\n",
    "#     for k in max_depth:\n",
    "\n",
    "#       Model_rf_a = RandomForestRegressor(n_estimators = i, \n",
    "#                                               max_features = j,\n",
    "#                                               max_depth = k, \n",
    "#                                               random_state = 2045,\n",
    "#                                               n_jobs=-1)\n",
    "      \n",
    "#       Model_rf_a.fit(X_train, y_train)\n",
    "\n",
    "#       y_hat_rf_a = Model_rf_a.predict(X_test)\n",
    "#       mse_rf_a = mean_squared_error(y_test, y_hat_rf_a)\n",
    "\n",
    "#       print('n_estimators :' ,i, 'max_features :', j, 'max_depth :', k)\n",
    "#       print('mse : ' , mse_rf_a)\n",
    "\n",
    "\n",
    "#       a = mean_squared_error(y_test, y_hat_rf_a)\n",
    "#       data = [i,j,k,a,]\n",
    "#       Model_result.append(data)\n",
    "# Model_GS_a2 = pd.DataFrame(Model_result)\n",
    "# Model_GS_a2.columns = ['n_estimators','max_feature','max_depth','mse']\n",
    "\n",
    "# print('time : ', time.time() - startT )"
   ]
  },
  {
   "cell_type": "code",
   "execution_count": 180,
   "id": "dbdb603a",
   "metadata": {
    "colab": {
     "base_uri": "https://localhost:8080/",
     "height": 431
    },
    "executionInfo": {
     "elapsed": 299,
     "status": "error",
     "timestamp": 1634515777985,
     "user": {
      "displayName": "Joon Chun",
      "photoUrl": "https://lh3.googleusercontent.com/a/default-user=s64",
      "userId": "11589729376972489768"
     },
     "user_tz": -540
    },
    "id": "dbdb603a",
    "outputId": "7fe8fa47-e66d-43e1-9027-8504586e2c14"
   },
   "outputs": [
    {
     "ename": "FileNotFoundError",
     "evalue": "ignored",
     "output_type": "error",
     "traceback": [
      "\u001b[0;31m---------------------------------------------------------------------------\u001b[0m",
      "\u001b[0;31mFileNotFoundError\u001b[0m                         Traceback (most recent call last)",
      "\u001b[0;32m<ipython-input-180-f044cd7e28bc>\u001b[0m in \u001b[0;36m<module>\u001b[0;34m()\u001b[0m\n\u001b[1;32m      1\u001b[0m \u001b[0;31m#데이터 프레임 저장\u001b[0m\u001b[0;34m\u001b[0m\u001b[0;34m\u001b[0m\u001b[0;34m\u001b[0m\u001b[0m\n\u001b[0;32m----> 2\u001b[0;31m \u001b[0mModel_GS_a2\u001b[0m\u001b[0;34m.\u001b[0m\u001b[0mto_csv\u001b[0m\u001b[0;34m(\u001b[0m\u001b[0;34m'c:/My_data/health_care/Random_Forest_(for)GS_a2(156).csv'\u001b[0m\u001b[0;34m)\u001b[0m\u001b[0;34m\u001b[0m\u001b[0;34m\u001b[0m\u001b[0m\n\u001b[0m\u001b[1;32m      3\u001b[0m \u001b[0;31m#데이터 프레임 불러오기\u001b[0m\u001b[0;34m\u001b[0m\u001b[0;34m\u001b[0m\u001b[0;34m\u001b[0m\u001b[0m\n\u001b[1;32m      4\u001b[0m \u001b[0mModel_GS_a2\u001b[0m \u001b[0;34m=\u001b[0m \u001b[0mpd\u001b[0m\u001b[0;34m.\u001b[0m\u001b[0mread_csv\u001b[0m\u001b[0;34m(\u001b[0m\u001b[0;34m'c:/My_data/health_care/Random_Forest_(for)GS_a2(156).csv'\u001b[0m\u001b[0;34m,\u001b[0m \u001b[0mencoding\u001b[0m\u001b[0;34m=\u001b[0m\u001b[0;34m'cp949'\u001b[0m\u001b[0;34m)\u001b[0m\u001b[0;34m\u001b[0m\u001b[0;34m\u001b[0m\u001b[0m\n",
      "\u001b[0;32m/usr/local/lib/python3.7/dist-packages/pandas/core/generic.py\u001b[0m in \u001b[0;36mto_csv\u001b[0;34m(self, path_or_buf, sep, na_rep, float_format, columns, header, index, index_label, mode, encoding, compression, quoting, quotechar, line_terminator, chunksize, date_format, doublequote, escapechar, decimal, errors)\u001b[0m\n\u001b[1;32m   3168\u001b[0m             \u001b[0mdecimal\u001b[0m\u001b[0;34m=\u001b[0m\u001b[0mdecimal\u001b[0m\u001b[0;34m,\u001b[0m\u001b[0;34m\u001b[0m\u001b[0;34m\u001b[0m\u001b[0m\n\u001b[1;32m   3169\u001b[0m         )\n\u001b[0;32m-> 3170\u001b[0;31m         \u001b[0mformatter\u001b[0m\u001b[0;34m.\u001b[0m\u001b[0msave\u001b[0m\u001b[0;34m(\u001b[0m\u001b[0;34m)\u001b[0m\u001b[0;34m\u001b[0m\u001b[0;34m\u001b[0m\u001b[0m\n\u001b[0m\u001b[1;32m   3171\u001b[0m \u001b[0;34m\u001b[0m\u001b[0m\n\u001b[1;32m   3172\u001b[0m         \u001b[0;32mif\u001b[0m \u001b[0mpath_or_buf\u001b[0m \u001b[0;32mis\u001b[0m \u001b[0;32mNone\u001b[0m\u001b[0;34m:\u001b[0m\u001b[0;34m\u001b[0m\u001b[0;34m\u001b[0m\u001b[0m\n",
      "\u001b[0;32m/usr/local/lib/python3.7/dist-packages/pandas/io/formats/csvs.py\u001b[0m in \u001b[0;36msave\u001b[0;34m(self)\u001b[0m\n\u001b[1;32m    188\u001b[0m                 \u001b[0mencoding\u001b[0m\u001b[0;34m=\u001b[0m\u001b[0mself\u001b[0m\u001b[0;34m.\u001b[0m\u001b[0mencoding\u001b[0m\u001b[0;34m,\u001b[0m\u001b[0;34m\u001b[0m\u001b[0;34m\u001b[0m\u001b[0m\n\u001b[1;32m    189\u001b[0m                 \u001b[0merrors\u001b[0m\u001b[0;34m=\u001b[0m\u001b[0mself\u001b[0m\u001b[0;34m.\u001b[0m\u001b[0merrors\u001b[0m\u001b[0;34m,\u001b[0m\u001b[0;34m\u001b[0m\u001b[0;34m\u001b[0m\u001b[0m\n\u001b[0;32m--> 190\u001b[0;31m                 \u001b[0mcompression\u001b[0m\u001b[0;34m=\u001b[0m\u001b[0mdict\u001b[0m\u001b[0;34m(\u001b[0m\u001b[0mself\u001b[0m\u001b[0;34m.\u001b[0m\u001b[0mcompression_args\u001b[0m\u001b[0;34m,\u001b[0m \u001b[0mmethod\u001b[0m\u001b[0;34m=\u001b[0m\u001b[0mself\u001b[0m\u001b[0;34m.\u001b[0m\u001b[0mcompression\u001b[0m\u001b[0;34m)\u001b[0m\u001b[0;34m,\u001b[0m\u001b[0;34m\u001b[0m\u001b[0;34m\u001b[0m\u001b[0m\n\u001b[0m\u001b[1;32m    191\u001b[0m             )\n\u001b[1;32m    192\u001b[0m             \u001b[0mclose\u001b[0m \u001b[0;34m=\u001b[0m \u001b[0;32mTrue\u001b[0m\u001b[0;34m\u001b[0m\u001b[0;34m\u001b[0m\u001b[0m\n",
      "\u001b[0;32m/usr/local/lib/python3.7/dist-packages/pandas/io/common.py\u001b[0m in \u001b[0;36mget_handle\u001b[0;34m(path_or_buf, mode, encoding, compression, memory_map, is_text, errors)\u001b[0m\n\u001b[1;32m    491\u001b[0m         \u001b[0;32mif\u001b[0m \u001b[0mencoding\u001b[0m\u001b[0;34m:\u001b[0m\u001b[0;34m\u001b[0m\u001b[0;34m\u001b[0m\u001b[0m\n\u001b[1;32m    492\u001b[0m             \u001b[0;31m# Encoding\u001b[0m\u001b[0;34m\u001b[0m\u001b[0;34m\u001b[0m\u001b[0;34m\u001b[0m\u001b[0m\n\u001b[0;32m--> 493\u001b[0;31m             \u001b[0mf\u001b[0m \u001b[0;34m=\u001b[0m \u001b[0mopen\u001b[0m\u001b[0;34m(\u001b[0m\u001b[0mpath_or_buf\u001b[0m\u001b[0;34m,\u001b[0m \u001b[0mmode\u001b[0m\u001b[0;34m,\u001b[0m \u001b[0mencoding\u001b[0m\u001b[0;34m=\u001b[0m\u001b[0mencoding\u001b[0m\u001b[0;34m,\u001b[0m \u001b[0merrors\u001b[0m\u001b[0;34m=\u001b[0m\u001b[0merrors\u001b[0m\u001b[0;34m,\u001b[0m \u001b[0mnewline\u001b[0m\u001b[0;34m=\u001b[0m\u001b[0;34m\"\"\u001b[0m\u001b[0;34m)\u001b[0m\u001b[0;34m\u001b[0m\u001b[0;34m\u001b[0m\u001b[0m\n\u001b[0m\u001b[1;32m    494\u001b[0m         \u001b[0;32melif\u001b[0m \u001b[0mis_text\u001b[0m\u001b[0;34m:\u001b[0m\u001b[0;34m\u001b[0m\u001b[0;34m\u001b[0m\u001b[0m\n\u001b[1;32m    495\u001b[0m             \u001b[0;31m# No explicit encoding\u001b[0m\u001b[0;34m\u001b[0m\u001b[0;34m\u001b[0m\u001b[0;34m\u001b[0m\u001b[0m\n",
      "\u001b[0;31mFileNotFoundError\u001b[0m: [Errno 2] No such file or directory: 'c:/My_data/health_care/Random_Forest_(for)GS_a2(156).csv'"
     ]
    }
   ],
   "source": [
    "# #데이터 프레임 저장\n",
    "# Model_GS_a2.to_csv('c:/My_data/health_care/Random_Forest_(for)GS_a2.csv')\n",
    "# #데이터 프레임 불러오기\n",
    "# Model_GS_a2 = pd.read_csv('c:/My_data/health_care/Random_Forest_(for)GS_a2.csv', encoding='cp949')"
   ]
  },
  {
   "cell_type": "code",
   "execution_count": null,
   "id": "JTF6r9ATTTdZ",
   "metadata": {
    "executionInfo": {
     "elapsed": 366,
     "status": "aborted",
     "timestamp": 1634510305420,
     "user": {
      "displayName": "Joon Chun",
      "photoUrl": "https://lh3.googleusercontent.com/a/default-user=s64",
      "userId": "11589729376972489768"
     },
     "user_tz": -540
    },
    "id": "JTF6r9ATTTdZ"
   },
   "outputs": [],
   "source": [
    "# Model_GS_a2.to_csv('c:/My_data/health_care/Random_Forest_(for)GS_a2.csv')"
   ]
  },
  {
   "cell_type": "code",
   "execution_count": 182,
   "id": "94bfd036",
   "metadata": {
    "colab": {
     "base_uri": "https://localhost:8080/"
    },
    "executionInfo": {
     "elapsed": 334,
     "status": "ok",
     "timestamp": 1634515791981,
     "user": {
      "displayName": "Joon Chun",
      "photoUrl": "https://lh3.googleusercontent.com/a/default-user=s64",
      "userId": "11589729376972489768"
     },
     "user_tz": -540
    },
    "id": "94bfd036",
    "outputId": "3ab9fd22-b385-4ef4-e4c0-4a57d2ee41e6"
   },
   "outputs": [
    {
     "name": "stdout",
     "output_type": "stream",
     "text": [
      "max :  n_estimators    10.000000\n",
      "max_feature      5.000000\n",
      "max_depth       13.000000\n",
      "mse              0.878944\n",
      "Name: 14, dtype: float64\n",
      "min :  n_estimators    200.000000\n",
      "max_feature       5.000000\n",
      "max_depth        10.000000\n",
      "mse               0.873245\n",
      "Name: 71, dtype: float64\n"
     ]
    }
   ],
   "source": [
    "# maxs = Model_GS_a2.loc[Model_GS_a2['mse'].idxmax()]\n",
    "# print('max : ' , maxs)\n",
    "# mins = Model_GS_a2.loc[Model_GS_a2['mse'].idxmin()]\n",
    "# print('min : ' , mins)"
   ]
  },
  {
   "cell_type": "code",
   "execution_count": null,
   "id": "62b967fe",
   "metadata": {
    "executionInfo": {
     "elapsed": 367,
     "status": "aborted",
     "timestamp": 1634510305422,
     "user": {
      "displayName": "Joon Chun",
      "photoUrl": "https://lh3.googleusercontent.com/a/default-user=s64",
      "userId": "11589729376972489768"
     },
     "user_tz": -540
    },
    "id": "62b967fe"
   },
   "outputs": [],
   "source": [
    "# # 1시간 20분 소요\n",
    "# startT = time.time()\n",
    "\n",
    "# X = DF_a[['age', 'sex','city','ht','wt','waist','smoking','alcohol','bmi','absi']]\n",
    "# y = DF_a['fbs']\n",
    "\n",
    "# X_train, X_test, y_train, y_test = train_test_split(X, y,\n",
    "#                                                     test_size = 0.3,\n",
    "#                                                     random_state = 2045)\n",
    "\n",
    "# print('Train Data : ', X_train.shape, y_train.shape)\n",
    "# print('Test Data : ', X_test.shape, y_test.shape)\n",
    "\n",
    "# n_estimators = [200, 800]\n",
    "# max_features = [3, 4, 5, 6]\n",
    "# max_depth = [9,10,11, 12]\n",
    "\n",
    "# Model_result=[]\n",
    "\n",
    "# for i in n_estimators :\n",
    "#   for j in max_features :\n",
    "#     for k in max_depth:\n",
    "\n",
    "#       Model_rf_a = RandomForestRegressor(n_estimators = i, \n",
    "#                                               max_features = j,\n",
    "#                                               max_depth = k, \n",
    "#                                               random_state = 2045,\n",
    "#                                               n_jobs=-1)\n",
    "      \n",
    "#       Model_rf_a.fit(X_train, y_train)\n",
    "\n",
    "#       y_hat_rf_a = Model_rf_a.predict(X_test)\n",
    "#       mse_rf_a = mean_squared_error(y_test, y_hat_rf_a)\n",
    "\n",
    "#       print('n_estimators :' ,i, 'max_features :', j, 'max_depth :', k)\n",
    "#       print('mse : ' , mse_rf_a)\n",
    "\n",
    "\n",
    "#       a = mean_squared_error(y_test, y_hat_rf_a)\n",
    "#       data = [i,j,k,a,]\n",
    "#       Model_result.append(data)\n",
    "# Model_GS_a2 = pd.DataFrame(Model_result)\n",
    "# Model_GS_a2.columns = ['n_estimators','max_feature','max_depth','mse']\n",
    "\n",
    "# print('time : ', time.time() - startT )"
   ]
  }
 ],
 "metadata": {
  "colab": {
   "collapsed_sections": [
    "AmPNlMacqmXu"
   ],
   "name": "Data_modeling_LR_DT_RF천준.ipynb",
   "provenance": [],
   "toc_visible": true
  },
  "kernelspec": {
   "display_name": "Python 3",
   "language": "python",
   "name": "python3"
  },
  "language_info": {
   "codemirror_mode": {
    "name": "ipython",
    "version": 3
   },
   "file_extension": ".py",
   "mimetype": "text/x-python",
   "name": "python",
   "nbconvert_exporter": "python",
   "pygments_lexer": "ipython3",
   "version": "3.8.8"
  },
  "toc": {
   "base_numbering": 1,
   "nav_menu": {},
   "number_sections": true,
   "sideBar": true,
   "skip_h1_title": false,
   "title_cell": "Table of Contents",
   "title_sidebar": "Contents",
   "toc_cell": false,
   "toc_position": {},
   "toc_section_display": true,
   "toc_window_display": false
  }
 },
 "nbformat": 4,
 "nbformat_minor": 5
}
