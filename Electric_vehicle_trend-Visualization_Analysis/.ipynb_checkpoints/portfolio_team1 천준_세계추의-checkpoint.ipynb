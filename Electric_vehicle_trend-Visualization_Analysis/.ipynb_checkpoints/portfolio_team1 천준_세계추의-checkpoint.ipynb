{
 "cells": [
  {
   "cell_type": "markdown",
   "id": "417bdf5a",
   "metadata": {
    "id": "417bdf5a"
   },
   "source": [
    "# K-Digital Training 데이터 사이언스/엔지니어링 공공데이터 시각화 PJT\n",
    "`1조` 데이터, 날 이끌어 조 (권미숙 김병석 이우림 천준 **홍효석**)\n",
    "<br>\n",
    "<br>\n",
    "### 전기차 이대로 괜찮은가?\n",
    "<br>\n",
    "<img src=\"https://news.hmgjournal.com/images_n/contents/Next-Gen-EV-Tech1.jpg\" width=400>\n",
    "<br>\n",
    "\n"
   ]
  },
  {
   "cell_type": "markdown",
   "id": "54aed942",
   "metadata": {
    "id": "54aed942"
   },
   "source": [
    "* **주제선정 배경**\n",
    "    * 전 세계적으로 친환경 자동차 이슈\n",
    "    * \n",
    "    * \n",
    "    \n",
    "\n",
    "* **프로젝트 목표**\n",
    "    * 한국은 급증하는 전기차를 충분히 커버할 수 있는 인프라가 구축되어 있는가?\n",
    "    * 전기차를 적극 권장하는 한국의 정부는 이에 알맞는 정책을 보여주고 있는가?\n",
    "\n",
    "\n",
    "\n",
    "\n",
    "* **구성원 및 역할**\n",
    "    * 권미숙 : 고속도로 휴게소의 전기차 충전소 현황 분석 및 주유소/휴게소 매출 규모와 충전기수의 상관성 분석\n",
    "    * 김병석 : 전기차와 내연기관차의 경제적 분석 (차량 모델별 구매금액, 보조금, 유지비용, 자동차세 등)\n",
    "    * 이우림 : Youtube 전기자동차전기세 검색량 분석 및 한전 시간대별/계절별 충전 부하량, 시도별 보조금 접수율 분석\n",
    "    * 천준 : 연도별, 세계 국가별 전기자동차 Google 검색량 추이 변화 분석 및 한국의 전기자동차 검색량 추이 분석\n",
    "    * **홍효석(조장)** : 한국의 전기자동차 증가추세 및 전국의 지역별 충전소 현황과 전기차 등록대수 현황 분석"
   ]
  },
  {
   "cell_type": "markdown",
   "id": "bbe54766",
   "metadata": {
    "id": "bbe54766"
   },
   "source": [
    "---"
   ]
  },
  {
   "cell_type": "markdown",
   "id": "d0010b5c",
   "metadata": {},
   "source": [
    "# 천준\n",
    "## 연도별, 세계 국가별 전기자동차 Google 검색량 추이 변화 분석 및 한국의 전기자동차 검색량 추이 분석"
   ]
  },
  {
   "cell_type": "markdown",
   "id": "ad8ae385",
   "metadata": {
    "id": "ad8ae385"
   },
   "source": [
    "## 데이터 수집"
   ]
  },
  {
   "cell_type": "markdown",
   "id": "47de4744",
   "metadata": {},
   "source": [
    "- 웹사이트 = https://trends.google.com/trends/explore?date=all&q=%2Fm%2F01pmdg 에서 '세계 2004-현재 전기차주제 검색 비중' 데이터 다운\n",
    "- chromedriver로 오토 다운 가능\n",
    "\n"
   ]
  },
  {
   "cell_type": "markdown",
   "id": "23a88ef4",
   "metadata": {
    "id": "23a88ef4"
   },
   "source": [
    "## 데이터 분석\n",
    "1. 데이터 불러와서 행과 열 불러와 구조 파악\n",
    "2. 요구 데이터 각 1월을 그달 년도만 지정; 데이터 열 생성 \n",
    "3. 요구 데이터 (이동평균선); 데이터열 생성"
   ]
  },
  {
   "cell_type": "code",
   "execution_count": 1,
   "id": "b73908a5",
   "metadata": {
    "id": "b73908a5"
   },
   "outputs": [],
   "source": [
    "import pandas as pd\n",
    "import numpy as np\n",
    "import matplotlib.pyplot as plt\n",
    "import itertools\n",
    "\n",
    "plt.rcParams['font.family'] = 'NanumGothic'\n",
    "plt.rcParams['font.family'] = 'Malgun Gothic'"
   ]
  },
  {
   "cell_type": "markdown",
   "id": "93ff9fb7",
   "metadata": {},
   "source": [
    "### 데이터 불러오기\n",
    "- 0번째 제외하고 인덱스 풀기\n",
    "- 카테고리: 모든 카테고리항목의 문자열을 숫자로 바꾸고 리스트로 가져오기"
   ]
  },
  {
   "cell_type": "code",
   "execution_count": 2,
   "id": "f6701486",
   "metadata": {},
   "outputs": [],
   "source": [
    "df = pd.read_csv('c://My_data//17년 세계전기차주제 검색 상대적 추의.csv')\n",
    "df1=df.iloc[1:]\n",
    "df1.reset_index()\n",
    "search_ls=list(((np.array(df1['카테고리: 모든 카테고리'].tolist()))))\n",
    "search_ls1= list(map(int,search_ls))"
   ]
  },
  {
   "cell_type": "markdown",
   "id": "7a8e0244",
   "metadata": {},
   "source": [
    "### 달구분되있는 데이터를 각 1월달을 대표로 지정하기\n",
    "### 년도를 지정하는 과정\n",
    "- n = 일단 월을 지정한다.(순서대로)\n",
    "- m = 그다음 매월 1월을 년도의 기준점으로 잡기위해 12로 나누웠을때 나머지가 1인경우만 마크한다\n",
    "- l = 그 마크에따라 2004년부터 순서대로 기입한다. 1월을 제외한 달은 ''공간으로 남겨둔다."
   ]
  },
  {
   "cell_type": "code",
   "execution_count": 3,
   "id": "b26baf64",
   "metadata": {},
   "outputs": [],
   "source": [
    "n = []\n",
    "a = 0\n",
    "for i in range(len(search_ls)) :\n",
    "    a = a + 1\n",
    "    n.append(a)"
   ]
  },
  {
   "cell_type": "code",
   "execution_count": 4,
   "id": "bacf1bf3",
   "metadata": {},
   "outputs": [],
   "source": [
    "m = []\n",
    "for i in n :\n",
    "    if i % 12 == 1 :\n",
    "        m.append(1)\n",
    "    else:\n",
    "        m.append(0)"
   ]
  },
  {
   "cell_type": "code",
   "execution_count": 5,
   "id": "077f757b",
   "metadata": {},
   "outputs": [],
   "source": [
    "l = []\n",
    "a = 2003\n",
    "for i in m :\n",
    "    if i == 1 :\n",
    "        a = a + 1\n",
    "        l.append(a)\n",
    "    else :\n",
    "        l.append('')"
   ]
  },
  {
   "cell_type": "markdown",
   "id": "3da18ddb",
   "metadata": {},
   "source": [
    "### 12개월 평균 이동선 그래프\n",
    "- 처음 11개월은 앞의 데이터가 없음으로 0으로 간주하고 같이 평균을 낸다.\n",
    "- m12 이동평균선 리스트 작성\n",
    "- 그후 그래프"
   ]
  },
  {
   "cell_type": "code",
   "execution_count": 6,
   "id": "047b977f",
   "metadata": {},
   "outputs": [],
   "source": [
    "m12 = []\n",
    "a1=0\n",
    "a2=0\n",
    "a3=0\n",
    "a4=0\n",
    "a5=0\n",
    "a6=0\n",
    "a7=0\n",
    "a8=0\n",
    "a9=0\n",
    "a10=0\n",
    "a11=0\n",
    "a12=0\n",
    "for i in search_ls1 :\n",
    "    a1 = a2\n",
    "    a2 = a3\n",
    "    a3 = a4\n",
    "    a4 = a5\n",
    "    a5 = a6\n",
    "    a6 = a7\n",
    "    a7 = a8\n",
    "    a8 = a9\n",
    "    a9 = a10\n",
    "    a10 = a11\n",
    "    a11 = a12\n",
    "    a12 = i\n",
    "    \n",
    "    b = (a12+a11+a10+a9+a8+a7+a6+a5+a4+a3+a3+a2+a1)/12\n",
    "    m12.append(b)"
   ]
  },
  {
   "cell_type": "markdown",
   "id": "f6140fe4",
   "metadata": {
    "id": "f6140fe4"
   },
   "source": [
    "## 데이터 분석 결과 (시각화)"
   ]
  },
  {
   "cell_type": "markdown",
   "id": "2ba477c4",
   "metadata": {},
   "source": [
    "두개의 그래프를 한자리에 합쳐 시각화 한다."
   ]
  },
  {
   "cell_type": "code",
   "execution_count": 7,
   "id": "04286eb9",
   "metadata": {
    "id": "04286eb9"
   },
   "outputs": [
    {
     "data": {
      "image/png": "[encoded data removed]",
      "text/plain": [
       "<Figure size 1440x504 with 1 Axes>"
      ]
     },
     "metadata": {
      "needs_background": "light"
     },
     "output_type": "display_data"
    }
   ],
   "source": [
    "plt.figure(figsize=(20,7))\n",
    "plt.ylim((20,100))\n",
    "plt.xlim([0,213])\n",
    "plt.title('2004년~ 현재 세계 전기차주제 검색 변화',size =25)\n",
    "plt.xlabel('기간(년)', labelpad = 10, size =20, weight = 800, )\n",
    "plt.ylabel('상대적 검색비율', labelpad = 15 , size =20)\n",
    "\n",
    "y = np.arange(len(search_ls1))\n",
    "plt.plot(y, m12,color = 'red', linewidth=2.0 ,label = '12개월 평균이동선', linestyle = '--')\n",
    "\n",
    "plt.bar(y, search_ls1,color = '#17becf')\n",
    "plt.xticks(y, l, fontsize=15)\n",
    "plt.yticks(fontsize = 15)\n",
    "plt.legend(fontsize =14)\n",
    "\n",
    "\n",
    "plt.show()"
   ]
  },
  {
   "cell_type": "markdown",
   "id": "8f5db8d5",
   "metadata": {
    "id": "8f5db8d5"
   },
   "source": [
    "---"
   ]
  },
  {
   "cell_type": "markdown",
   "id": "32b047b5",
   "metadata": {
    "id": "32b047b5"
   },
   "source": [
    "## 기대효과 및 개선사항"
   ]
  },
  {
   "cell_type": "markdown",
   "id": "4d15e00d",
   "metadata": {
    "id": "1ed4ee24"
   },
   "source": [
    "### 위 시각화 자료에 의하면 다음 정보를 전달해 줄 수 있다.\n",
    "\n",
    " \n",
    "1. 2004년부터 2016년도까지 거의 변화가 없음을 보아 전기차의 어떤 기대의 변화가 없었음을 알 수 있다. \n",
    "2. 2017년부터 분명한 추세 변화가 보인다.\n",
    "3. 2번으로 보아 2017년부터 무슨 변화가 있었음을 알 수 있다.. __어떤 점이 분명히 있다.__\n"
   ]
  },
  {
   "cell_type": "markdown",
   "id": "4c7494e7",
   "metadata": {
    "id": "4c7494e7"
   },
   "source": [
    "---"
   ]
  },
  {
   "cell_type": "markdown",
   "id": "8f23fb75",
   "metadata": {
    "id": "8f23fb75"
   },
   "source": [
    "## 개발후기 및 느낀점"
   ]
  },
  {
   "cell_type": "markdown",
   "id": "9a8ef9a9",
   "metadata": {
    "id": "9a8ef9a9"
   },
   "source": [
    "* 아쉬운 점\n",
    "    * 생각보다 `전기차` 관련 공공데이터가 부족하다고 느꼈음 \n",
    "    * 제공하는 기관별 데이터의 수치가 상이하여, 분석 시 어려움이 있었음\n",
    "    * Django를 이용하여 전기차 vs 내연기관차의 경제성을 분석해볼 수 있는 웹사이트를 구현해보고 싶었지만, 능력적인 한계로 못한 점\n",
    "    * 예측모델(ex:`Logistic Fuction`, `머신러닝`)을 이용하여, 한국의 전기차 증가추세(ex:`한국은 과연 몇년후에 전기차가 내연기관차보다 많아질까?`)를 예측하고 싶었으나, 시간의 한계와 능력치의 한계로 구현해보지 못한 점\n",
    "    \n",
    "    \n",
    "* 느낀점\n",
    "    * 권미숙 :\n",
    "    * 김병석 :\n",
    "    * 이우림 : 혼자 처음부터 실제로 코드를 작성해보고 시각화하면서, 중간중간 크고 작은 어려움이 있었지만 하나씩 찾아가면서 해결해보니 성취감이 정말 높았다. 내가 몰랐던 라이브러리들이 너무 많았고, 앞으로도 이를 적극 활용할 수 있는 능력을 더 키워야겠다. 그냥 지식으로 아는 것과 실제로 구현해보는 것은 정말 천지 차이였다!!\n",
    "    * 천준 :\n",
    "    * 홍효석 : "
   ]
  }
 ],
 "metadata": {
  "colab": {
   "name": "portfolio_team1.ipynb",
   "provenance": []
  },
  "kernelspec": {
   "display_name": "Python 3",
   "language": "python",
   "name": "python3"
  },
  "language_info": {
   "codemirror_mode": {
    "name": "ipython",
    "version": 3
   },
   "file_extension": ".py",
   "mimetype": "text/x-python",
   "name": "python",
   "nbconvert_exporter": "python",
   "pygments_lexer": "ipython3",
   "version": "3.8.8"
  }
 },
 "nbformat": 4,
 "nbformat_minor": 5
}
