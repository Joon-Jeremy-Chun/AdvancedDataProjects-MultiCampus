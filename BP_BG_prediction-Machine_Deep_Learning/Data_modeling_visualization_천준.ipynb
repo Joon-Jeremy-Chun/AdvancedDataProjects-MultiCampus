{
 "cells": [
  {
   "cell_type": "markdown",
   "id": "bvHIFwOSrCwC",
   "metadata": {
    "id": "bvHIFwOSrCwC"
   },
   "source": [
    "## 여러 정리되지 않은 생각들\n",
    "- 변수들의 n차식 그리고 서로 곱(나누는)는 비선형으로 한번해보기\n",
    "- 혈압 처방을 받았다면 혈압을 통제하고 있을건데 그러면 몸무게나 다른 팩트들도 정상화 되나?\n",
    "- 그냥 혈압만 약에대해 통제된다 했을때 국민건강보험공단 데이터에서 고혈압 환자들을 어떻게 구분할까? : 일단, 고협압 환자들이 거의 없을꺼같은 젊은층에서 모델링\n",
    "- 근데또 혈압은 나이에 따라 (몸무게도 마찬가지) 달라지는데... \n",
    "- plt.savefig('filename.png')\n"
   ]
  },
  {
   "cell_type": "code",
   "execution_count": 1,
   "id": "htnkwEHWUsTz",
   "metadata": {
    "executionInfo": {
     "elapsed": 673,
     "status": "ok",
     "timestamp": 1634495280178,
     "user": {
      "displayName": "Joon Chun",
      "photoUrl": "https://lh3.googleusercontent.com/a/default-user=s64",
      "userId": "11589729376972489768"
     },
     "user_tz": -540
    },
    "id": "htnkwEHWUsTz"
   },
   "outputs": [],
   "source": [
    "import warnings\n",
    "warnings.filterwarnings('ignore')"
   ]
  },
  {
   "cell_type": "code",
   "execution_count": 375,
   "id": "C18lOEfiVoD9",
   "metadata": {
    "executionInfo": {
     "elapsed": 297,
     "status": "ok",
     "timestamp": 1634508532127,
     "user": {
      "displayName": "Joon Chun",
      "photoUrl": "https://lh3.googleusercontent.com/a/default-user=s64",
      "userId": "11589729376972489768"
     },
     "user_tz": -540
    },
    "id": "C18lOEfiVoD9"
   },
   "outputs": [],
   "source": [
    "import pandas as pd\n",
    "import matplotlib.pyplot as plt\n",
    "import seaborn as sns \n",
    "import numpy as np\n",
    "import time\n",
    "\n",
    "# 상관계수\n",
    "from scipy import stats\n",
    "\n",
    "# model\n",
    "from sklearn.model_selection import train_test_split,GridSearchCV, KFold\n",
    "from sklearn.linear_model import LinearRegression\n",
    "from sklearn.metrics import mean_squared_error\n",
    "from sklearn.preprocessing import PolynomialFeatures\n",
    "from sklearn.preprocessing import MinMaxScaler\n",
    "from sklearn.preprocessing import StandardScaler\n",
    "import statsmodels.formula.api as smf\n",
    "\n",
    "from sklearn.tree import DecisionTreeClassifier , DecisionTreeRegressor\n",
    "from sklearn.tree import export_graphviz\n",
    "import graphviz\n",
    "from sklearn.ensemble import RandomForestClassifier , RandomForestRegressor\n",
    "from sklearn.metrics import confusion_matrix, accuracy_score, recall_score, precision_score"
   ]
  },
  {
   "cell_type": "markdown",
   "id": "9OWgnPowcXmw",
   "metadata": {
    "id": "9OWgnPowcXmw"
   },
   "source": [
    "## I.데이터 불러오기&전처리"
   ]
  },
  {
   "cell_type": "code",
   "execution_count": 235,
   "id": "E6x0DayrXEhb",
   "metadata": {
    "colab": {
     "base_uri": "https://localhost:8080/"
    },
    "executionInfo": {
     "elapsed": 316,
     "status": "ok",
     "timestamp": 1634498589605,
     "user": {
      "displayName": "Joon Chun",
      "photoUrl": "https://lh3.googleusercontent.com/a/default-user=s64",
      "userId": "11589729376972489768"
     },
     "user_tz": -540
    },
    "id": "E6x0DayrXEhb",
    "outputId": "df5360e5-0891-4beb-b4b8-c956ee0283ce"
   },
   "outputs": [
    {
     "name": "stdout",
     "output_type": "stream",
     "text": [
      "Drive already mounted at /content/drive; to attempt to forcibly remount, call drive.mount(\"/content/drive\", force_remount=True).\n"
     ]
    }
   ],
   "source": [
    "# from google.colab import drive\n",
    "# drive.mount('/content/drive')"
   ]
  },
  {
   "cell_type": "code",
   "execution_count": 236,
   "id": "WKaKnD7WXX7W",
   "metadata": {
    "colab": {
     "base_uri": "https://localhost:8080/"
    },
    "executionInfo": {
     "elapsed": 10,
     "status": "ok",
     "timestamp": 1634498590010,
     "user": {
      "displayName": "Joon Chun",
      "photoUrl": "https://lh3.googleusercontent.com/a/default-user=s64",
      "userId": "11589729376972489768"
     },
     "user_tz": -540
    },
    "id": "WKaKnD7WXX7W",
    "outputId": "16d99579-b30b-42c8-a563-90e6a5ffca44"
   },
   "outputs": [
    {
     "name": "stdout",
     "output_type": "stream",
     "text": [
      "-rw------- 1 root root 108444299 Oct  7 01:05 '/content/drive/MyDrive/Colab Notebooks/datasets/health_care/NHIS_OPEN_GJ_2017_v1.1.csv'\n"
     ]
    }
   ],
   "source": [
    "# !ls -l '/content/drive/MyDrive/Colab Notebooks/datasets/health_care/NHIS_OPEN_GJ_2017_v1.1.csv'"
   ]
  },
  {
   "cell_type": "code",
   "execution_count": 506,
   "id": "HtRheQ_qX8tZ",
   "metadata": {
    "executionInfo": {
     "elapsed": 3650,
     "status": "ok",
     "timestamp": 1634498593655,
     "user": {
      "displayName": "Joon Chun",
      "photoUrl": "https://lh3.googleusercontent.com/a/default-user=s64",
      "userId": "11589729376972489768"
     },
     "user_tz": -540
    },
    "id": "HtRheQ_qX8tZ"
   },
   "outputs": [
    {
     "name": "stdout",
     "output_type": "stream",
     "text": [
      "<class 'pandas.core.frame.DataFrame'>\n",
      "RangeIndex: 1000000 entries, 0 to 999999\n",
      "Data columns (total 34 columns):\n",
      " #   Column        Non-Null Count    Dtype  \n",
      "---  ------        --------------    -----  \n",
      " 0   기준년도          1000000 non-null  int64  \n",
      " 1   가입자일련번호       1000000 non-null  int64  \n",
      " 2   성별코드          1000000 non-null  int64  \n",
      " 3   연령대코드(5세단위)   1000000 non-null  int64  \n",
      " 4   시도코드          1000000 non-null  int64  \n",
      " 5   신장(5Cm단위)     1000000 non-null  int64  \n",
      " 6   체중(5Kg단위)     1000000 non-null  int64  \n",
      " 7   허리둘레          999734 non-null   float64\n",
      " 8   시력(좌)         999817 non-null   float64\n",
      " 9   시력(우)         999811 non-null   float64\n",
      " 10  청력(좌)         999842 non-null   float64\n",
      " 11  청력(우)         999844 non-null   float64\n",
      " 12  수축기혈압         999981 non-null   float64\n",
      " 13  이완기혈압         999982 non-null   float64\n",
      " 14  식전혈당(공복혈당)    999958 non-null   float64\n",
      " 15  총콜레스테롤        999957 non-null   float64\n",
      " 16  트리글리세라이드      999955 non-null   float64\n",
      " 17  HDL콜레스테롤      999956 non-null   float64\n",
      " 18  LDL콜레스테롤      997088 non-null   float64\n",
      " 19  혈색소           999948 non-null   float64\n",
      " 20  요단백           995408 non-null   float64\n",
      " 21  혈청크레아티닌       999957 non-null   float64\n",
      " 22  (혈청지오티)AST    999959 non-null   float64\n",
      " 23  (혈청지오티)ALT    999958 non-null   float64\n",
      " 24  감마지티피         999958 non-null   float64\n",
      " 25  흡연상태          999856 non-null   float64\n",
      " 26  음주여부          999464 non-null   object \n",
      " 27  구강검진수검여부      1000000 non-null  object \n",
      " 28  치아우식증유무       0 non-null        float64\n",
      " 29  결손치유무         0 non-null        float64\n",
      " 30  치아마모증유무       0 non-null        float64\n",
      " 31  제3대구치(사랑니)이상  0 non-null        float64\n",
      " 32  치석            378578 non-null   object \n",
      " 33  데이터공개일자       1000000 non-null  object \n",
      "dtypes: float64(23), int64(7), object(4)\n",
      "memory usage: 259.4+ MB\n"
     ]
    }
   ],
   "source": [
    "# DF = pd.read_csv('/content/drive/MyDrive/Colab Notebooks/datasets/health_care/NHIS_OPEN_GJ_2017_v1.1.csv', encoding='cp949')\n",
    "DF = pd.read_csv('c:/My_data/health_care/NHIS_OPEN_GJ_2017_v1.1.csv', encoding='cp949')\n",
    "DF.info()"
   ]
  },
  {
   "cell_type": "code",
   "execution_count": 507,
   "id": "Z61Y10mUinam",
   "metadata": {
    "colab": {
     "base_uri": "https://localhost:8080/"
    },
    "executionInfo": {
     "elapsed": 459,
     "status": "ok",
     "timestamp": 1634498594110,
     "user": {
      "displayName": "Joon Chun",
      "photoUrl": "https://lh3.googleusercontent.com/a/default-user=s64",
      "userId": "11589729376972489768"
     },
     "user_tz": -540
    },
    "id": "Z61Y10mUinam",
    "outputId": "b792d62d-930a-4f9a-fdc1-03f6e237ec19"
   },
   "outputs": [
    {
     "data": {
      "text/plain": [
       "기준년도                  0\n",
       "가입자일련번호               0\n",
       "성별코드                  0\n",
       "연령대코드(5세단위)           0\n",
       "시도코드                  0\n",
       "신장(5Cm단위)             0\n",
       "체중(5Kg단위)             0\n",
       "허리둘레                266\n",
       "시력(좌)               183\n",
       "시력(우)               189\n",
       "청력(좌)               158\n",
       "청력(우)               156\n",
       "수축기혈압                19\n",
       "이완기혈압                18\n",
       "식전혈당(공복혈당)           42\n",
       "총콜레스테롤               43\n",
       "트리글리세라이드             45\n",
       "HDL콜레스테롤             44\n",
       "LDL콜레스테롤           2912\n",
       "혈색소                  52\n",
       "요단백                4592\n",
       "혈청크레아티닌              43\n",
       "(혈청지오티)AST           41\n",
       "(혈청지오티)ALT           42\n",
       "감마지티피                42\n",
       "흡연상태                144\n",
       "음주여부                536\n",
       "구강검진수검여부              0\n",
       "치아우식증유무         1000000\n",
       "결손치유무           1000000\n",
       "치아마모증유무         1000000\n",
       "제3대구치(사랑니)이상    1000000\n",
       "치석               621422\n",
       "데이터공개일자               0\n",
       "dtype: int64"
      ]
     },
     "execution_count": 507,
     "metadata": {},
     "output_type": "execute_result"
    }
   ],
   "source": [
    "# null 값 확인\n",
    "DF.isnull().sum()"
   ]
  },
  {
   "cell_type": "code",
   "execution_count": 508,
   "id": "YqEfeeyIkJBV",
   "metadata": {
    "executionInfo": {
     "elapsed": 7,
     "status": "ok",
     "timestamp": 1634498594111,
     "user": {
      "displayName": "Joon Chun",
      "photoUrl": "https://lh3.googleusercontent.com/a/default-user=s64",
      "userId": "11589729376972489768"
     },
     "user_tz": -540
    },
    "id": "YqEfeeyIkJBV"
   },
   "outputs": [],
   "source": [
    "# 열 삭제하기 (시력)(청력)(구강건강관련) ,기준년도,가입자일년번호, 데이터공개일자, *일단=(혈청지오티)AST 등4개\n",
    "\n",
    "DF = DF.drop(columns=['기준년도','가입자일련번호','시력(좌)','시력(우)','청력(좌)','청력(우)','구강검진수검여부','치아우식증유무','결손치유무','치아마모증유무','제3대구치(사랑니)이상','치석','데이터공개일자','(혈청지오티)AST','(혈청지오티)ALT','감마지티피'])"
   ]
  },
  {
   "cell_type": "code",
   "execution_count": 509,
   "id": "dgpmlxPCi2aN",
   "metadata": {
    "executionInfo": {
     "elapsed": 5,
     "status": "ok",
     "timestamp": 1634498594111,
     "user": {
      "displayName": "Joon Chun",
      "photoUrl": "https://lh3.googleusercontent.com/a/default-user=s64",
      "userId": "11589729376972489768"
     },
     "user_tz": -540
    },
    "id": "dgpmlxPCi2aN"
   },
   "outputs": [],
   "source": [
    "#결측치 제거\n",
    "DF.dropna(inplace = True)"
   ]
  },
  {
   "cell_type": "code",
   "execution_count": 510,
   "id": "EUrsYhwmPNj5",
   "metadata": {
    "executionInfo": {
     "elapsed": 3100,
     "status": "ok",
     "timestamp": 1634498597207,
     "user": {
      "displayName": "Joon Chun",
      "photoUrl": "https://lh3.googleusercontent.com/a/default-user=s64",
      "userId": "11589729376972489768"
     },
     "user_tz": -540
    },
    "id": "EUrsYhwmPNj5"
   },
   "outputs": [],
   "source": [
    "# 음주여부 Y=1,N=0\n",
    "DF = DF.replace({'Y':1.0,'N':0.0})"
   ]
  },
  {
   "cell_type": "code",
   "execution_count": 511,
   "id": "bddWOd_cdMnd",
   "metadata": {
    "executionInfo": {
     "elapsed": 23,
     "status": "ok",
     "timestamp": 1634498597212,
     "user": {
      "displayName": "Joon Chun",
      "photoUrl": "https://lh3.googleusercontent.com/a/default-user=s64",
      "userId": "11589729376972489768"
     },
     "user_tz": -540
    },
    "id": "bddWOd_cdMnd"
   },
   "outputs": [],
   "source": [
    "# 변수명 정의\n",
    "sex = DF['성별코드']\n",
    "age = DF['연령대코드(5세단위)']\n",
    "city = DF['시도코드']\n",
    "ht = DF['신장(5Cm단위)']\n",
    "wt = DF['체중(5Kg단위)']\n",
    "waist = DF['허리둘레']\n",
    "sbp = DF['수축기혈압']\n",
    "dbp = DF['이완기혈압']\n",
    "fbs = DF['식전혈당(공복혈당)']\n",
    "tchol = DF['총콜레스테롤']\n",
    "tg = DF['트리글리세라이드']\n",
    "hdl = DF['HDL콜레스테롤']\n",
    "ldl = DF['LDL콜레스테롤']\n",
    "hgb = DF['혈색소']\n",
    "upro = DF['요단백']\n",
    "cr = DF['혈청크레아티닌']\n",
    "smoking = DF['흡연상태']\n",
    "alcohol = DF['음주여부']"
   ]
  },
  {
   "cell_type": "code",
   "execution_count": 512,
   "id": "G_mu11QbwHOz",
   "metadata": {
    "executionInfo": {
     "elapsed": 22,
     "status": "ok",
     "timestamp": 1634498597212,
     "user": {
      "displayName": "Joon Chun",
      "photoUrl": "https://lh3.googleusercontent.com/a/default-user=s64",
      "userId": "11589729376972489768"
     },
     "user_tz": -540
    },
    "id": "G_mu11QbwHOz"
   },
   "outputs": [],
   "source": [
    "# 데이터 프레임 변수명 전환\n",
    "DF = DF.rename(columns={'성별코드':'sex', '연령대코드(5세단위)':'age','시도코드':'city','신장(5Cm단위)':'ht','체중(5Kg단위)':'wt','허리둘레':'waist','수축기혈압':'sbp','이완기혈압':'dbp','식전혈당(공복혈당)':'fbs','총콜레스테롤':'tchol','트리글리세라이드':'tg','HDL콜레스테롤':'hdl','LDL콜레스테롤':'ldl','혈색소':'hgb','요단백':'upro','혈청크레아티닌':'cr','흡연상태':'smoking','음주여부':'alcohol'})"
   ]
  },
  {
   "cell_type": "code",
   "execution_count": 513,
   "id": "lEl9FSyuLJoA",
   "metadata": {
    "colab": {
     "base_uri": "https://localhost:8080/"
    },
    "executionInfo": {
     "elapsed": 22,
     "status": "ok",
     "timestamp": 1634498597212,
     "user": {
      "displayName": "Joon Chun",
      "photoUrl": "https://lh3.googleusercontent.com/a/default-user=s64",
      "userId": "11589729376972489768"
     },
     "user_tz": -540
    },
    "id": "lEl9FSyuLJoA",
    "outputId": "68726846-a1d1-4d81-a011-3b6dca8a864b"
   },
   "outputs": [
    {
     "name": "stdout",
     "output_type": "stream",
     "text": [
      "<class 'pandas.core.frame.DataFrame'>\n",
      "Int64Index: 991608 entries, 0 to 999999\n",
      "Data columns (total 18 columns):\n",
      " #   Column   Non-Null Count   Dtype  \n",
      "---  ------   --------------   -----  \n",
      " 0   sex      991608 non-null  float32\n",
      " 1   age      991608 non-null  float32\n",
      " 2   city     991608 non-null  float32\n",
      " 3   ht       991608 non-null  float32\n",
      " 4   wt       991608 non-null  float32\n",
      " 5   waist    991608 non-null  float64\n",
      " 6   sbp      991608 non-null  float64\n",
      " 7   dbp      991608 non-null  float64\n",
      " 8   fbs      991608 non-null  float64\n",
      " 9   tchol    991608 non-null  float64\n",
      " 10  tg       991608 non-null  float64\n",
      " 11  hdl      991608 non-null  float64\n",
      " 12  ldl      991608 non-null  float64\n",
      " 13  hgb      991608 non-null  float64\n",
      " 14  upro     991608 non-null  float64\n",
      " 15  cr       991608 non-null  float64\n",
      " 16  smoking  991608 non-null  float64\n",
      " 17  alcohol  991608 non-null  float64\n",
      "dtypes: float32(5), float64(13)\n",
      "memory usage: 124.8 MB\n"
     ]
    }
   ],
   "source": [
    "# 정수 실수로 전환\n",
    "DF['sex'] = pd.to_numeric(DF['sex'], downcast='float')\n",
    "DF['age'] = pd.to_numeric(DF['age'], downcast='float')\n",
    "DF['city'] = pd.to_numeric(DF['city'], downcast='float')\n",
    "DF['ht'] = pd.to_numeric(DF['ht'], downcast='float')\n",
    "DF['wt'] = pd.to_numeric(DF['wt'], downcast='float')\n",
    "DF.info()"
   ]
  },
  {
   "cell_type": "code",
   "execution_count": 514,
   "id": "xY3Kz6OxhuUk",
   "metadata": {
    "executionInfo": {
     "elapsed": 18,
     "status": "ok",
     "timestamp": 1634498597213,
     "user": {
      "displayName": "Joon Chun",
      "photoUrl": "https://lh3.googleusercontent.com/a/default-user=s64",
      "userId": "11589729376972489768"
     },
     "user_tz": -540
    },
    "id": "xY3Kz6OxhuUk"
   },
   "outputs": [],
   "source": [
    "#시간이 너무 많이 걸림\n",
    "# sns.pairplot(DF)  \n",
    "# plt.show()"
   ]
  },
  {
   "cell_type": "code",
   "execution_count": 515,
   "id": "gbg5XOUhZCF9",
   "metadata": {
    "colab": {
     "base_uri": "https://localhost:8080/"
    },
    "executionInfo": {
     "elapsed": 18,
     "status": "ok",
     "timestamp": 1634498597213,
     "user": {
      "displayName": "Joon Chun",
      "photoUrl": "https://lh3.googleusercontent.com/a/default-user=s64",
      "userId": "11589729376972489768"
     },
     "user_tz": -540
    },
    "id": "gbg5XOUhZCF9",
    "outputId": "69b9015e-c0ca-46c1-ee52-45c870737258"
   },
   "outputs": [
    {
     "data": {
      "text/plain": [
       "count    991608.000000\n",
       "mean        100.424266\n",
       "std          24.178758\n",
       "min          25.000000\n",
       "25%          88.000000\n",
       "50%          96.000000\n",
       "75%         105.000000\n",
       "max         852.000000\n",
       "Name: 식전혈당(공복혈당), dtype: float64"
      ]
     },
     "execution_count": 515,
     "metadata": {},
     "output_type": "execute_result"
    }
   ],
   "source": [
    "fbs.describe()"
   ]
  },
  {
   "cell_type": "code",
   "execution_count": 516,
   "id": "m6u6Wd9R1hjS",
   "metadata": {
    "colab": {
     "base_uri": "https://localhost:8080/",
     "height": 628
    },
    "executionInfo": {
     "elapsed": 1630,
     "status": "ok",
     "timestamp": 1634498598829,
     "user": {
      "displayName": "Joon Chun",
      "photoUrl": "https://lh3.googleusercontent.com/a/default-user=s64",
      "userId": "11589729376972489768"
     },
     "user_tz": -540
    },
    "id": "m6u6Wd9R1hjS",
    "outputId": "bc4c2ba2-d54a-4cd9-9824-c0a8c2861ec5"
   },
   "outputs": [
    {
     "data": {
      "image/png": "[encoded data removed]",
      "text/plain": [
       "<Figure size 864x720 with 2 Axes>"
      ]
     },
     "metadata": {
      "needs_background": "light"
     },
     "output_type": "display_data"
    }
   ],
   "source": [
    "#전체 상관계수 분포\n",
    "plt.figure(figsize=(12,10))\n",
    "corr = DF.corr()\n",
    "sns.heatmap(corr, cmap='viridis')\n",
    "plt.savefig('heatmap.png')\n",
    "plt.show()"
   ]
  },
  {
   "cell_type": "code",
   "execution_count": 517,
   "id": "egEBTFxYS4Sz",
   "metadata": {
    "colab": {
     "base_uri": "https://localhost:8080/",
     "height": 1000
    },
    "executionInfo": {
     "elapsed": 5406,
     "status": "ok",
     "timestamp": 1634498604226,
     "user": {
      "displayName": "Joon Chun",
      "photoUrl": "https://lh3.googleusercontent.com/a/default-user=s64",
      "userId": "11589729376972489768"
     },
     "user_tz": -540
    },
    "id": "egEBTFxYS4Sz",
    "outputId": "b8f23550-aa30-4694-9c2f-797d511d3266"
   },
   "outputs": [
    {
     "data": {
      "image/png": "[encoded data removed]",
      "text/plain": [
       "<Figure size 1152x8064 with 2 Axes>"
      ]
     },
     "metadata": {
      "needs_background": "light"
     },
     "output_type": "display_data"
    }
   ],
   "source": [
    "# 연령대별로 groupby\n",
    "plt.figure(figsize=(16,112))\n",
    "corr_age = DF.groupby('age').corr()\n",
    "sns.heatmap(corr_age, cmap='viridis')\n",
    "plt.show()"
   ]
  },
  {
   "cell_type": "markdown",
   "id": "ha-Xga9OcHk1",
   "metadata": {
    "id": "ha-Xga9OcHk1"
   },
   "source": [
    "## II.데이터 전처리\n"
   ]
  },
  {
   "cell_type": "markdown",
   "id": "z8X8NlPVF6_9",
   "metadata": {
    "id": "z8X8NlPVF6_9"
   },
   "source": [
    "### 1) bmi, absi 추가하기"
   ]
  },
  {
   "cell_type": "code",
   "execution_count": 518,
   "id": "amnGGMX-mrxU",
   "metadata": {
    "executionInfo": {
     "elapsed": 336,
     "status": "ok",
     "timestamp": 1634499939873,
     "user": {
      "displayName": "Joon Chun",
      "photoUrl": "https://lh3.googleusercontent.com/a/default-user=s64",
      "userId": "11589729376972489768"
     },
     "user_tz": -540
    },
    "id": "amnGGMX-mrxU"
   },
   "outputs": [],
   "source": [
    "# 추가 해야 할 항목들 bmi, absi (A Body Shape Index)\n",
    "DF['bmi'] = DF['wt']/((DF['ht']/100)**2)\n",
    "DF['absi'] = (DF['waist']*0.3937)/((DF['bmi']**(2/3))*((DF['ht']/100)**(1/2)))"
   ]
  },
  {
   "cell_type": "code",
   "execution_count": 519,
   "id": "DbW5Djd3GTTi",
   "metadata": {
    "colab": {
     "base_uri": "https://localhost:8080/",
     "height": 265
    },
    "executionInfo": {
     "elapsed": 8,
     "status": "ok",
     "timestamp": 1634499940428,
     "user": {
      "displayName": "Joon Chun",
      "photoUrl": "https://lh3.googleusercontent.com/a/default-user=s64",
      "userId": "11589729376972489768"
     },
     "user_tz": -540
    },
    "id": "DbW5Djd3GTTi",
    "outputId": "214e1778-0861-491c-ef77-aa3186076092"
   },
   "outputs": [
    {
     "data": {
      "image/png": "[encoded data removed]",
      "text/plain": [
       "<Figure size 432x288 with 1 Axes>"
      ]
     },
     "metadata": {
      "needs_background": "light"
     },
     "output_type": "display_data"
    }
   ],
   "source": [
    "# bmi 분포 확인하기\n",
    "plt.hist(DF['bmi'])\n",
    "plt.show()"
   ]
  },
  {
   "cell_type": "code",
   "execution_count": 520,
   "id": "e93jWcctHGwp",
   "metadata": {
    "colab": {
     "base_uri": "https://localhost:8080/",
     "height": 276
    },
    "executionInfo": {
     "elapsed": 402,
     "status": "ok",
     "timestamp": 1634499940825,
     "user": {
      "displayName": "Joon Chun",
      "photoUrl": "https://lh3.googleusercontent.com/a/default-user=s64",
      "userId": "11589729376972489768"
     },
     "user_tz": -540
    },
    "id": "e93jWcctHGwp",
    "outputId": "14e9bb0f-acb6-4914-ec91-1f1fba635398"
   },
   "outputs": [
    {
     "data": {
      "image/png": "[encoded data removed]",
      "text/plain": [
       "<Figure size 432x288 with 1 Axes>"
      ]
     },
     "metadata": {
      "needs_background": "light"
     },
     "output_type": "display_data"
    }
   ],
   "source": [
    "# absi 분포 확인하기\n",
    "plt.hist(DF['absi'])\n",
    "plt.show()"
   ]
  },
  {
   "cell_type": "markdown",
   "id": "ND3qvReMKZkP",
   "metadata": {
    "id": "ND3qvReMKZkP"
   },
   "source": [
    "- absi 이상데이터 확인 \n",
    "- 대략 5이상 불가"
   ]
  },
  {
   "cell_type": "code",
   "execution_count": 521,
   "id": "DOYu5NWnHNXO",
   "metadata": {
    "colab": {
     "base_uri": "https://localhost:8080/"
    },
    "executionInfo": {
     "elapsed": 9,
     "status": "ok",
     "timestamp": 1634499940827,
     "user": {
      "displayName": "Joon Chun",
      "photoUrl": "https://lh3.googleusercontent.com/a/default-user=s64",
      "userId": "11589729376972489768"
     },
     "user_tz": -540
    },
    "id": "DOYu5NWnHNXO",
    "outputId": "21dee9dc-afa6-4dc1-bb9b-edb50f313436"
   },
   "outputs": [
    {
     "name": "stdout",
     "output_type": "stream",
     "text": [
      "<class 'pandas.core.frame.DataFrame'>\n",
      "Int64Index: 991608 entries, 0 to 999999\n",
      "Data columns (total 20 columns):\n",
      " #   Column   Non-Null Count   Dtype  \n",
      "---  ------   --------------   -----  \n",
      " 0   sex      991608 non-null  float32\n",
      " 1   age      991608 non-null  float32\n",
      " 2   city     991608 non-null  float32\n",
      " 3   ht       991608 non-null  float32\n",
      " 4   wt       991608 non-null  float32\n",
      " 5   waist    991608 non-null  float64\n",
      " 6   sbp      991608 non-null  float64\n",
      " 7   dbp      991608 non-null  float64\n",
      " 8   fbs      991608 non-null  float64\n",
      " 9   tchol    991608 non-null  float64\n",
      " 10  tg       991608 non-null  float64\n",
      " 11  hdl      991608 non-null  float64\n",
      " 12  ldl      991608 non-null  float64\n",
      " 13  hgb      991608 non-null  float64\n",
      " 14  upro     991608 non-null  float64\n",
      " 15  cr       991608 non-null  float64\n",
      " 16  smoking  991608 non-null  float64\n",
      " 17  alcohol  991608 non-null  float64\n",
      " 18  bmi      991608 non-null  float32\n",
      " 19  absi     991608 non-null  float64\n",
      "dtypes: float32(6), float64(14)\n",
      "memory usage: 136.2 MB\n"
     ]
    }
   ],
   "source": [
    "DF.info()"
   ]
  },
  {
   "cell_type": "markdown",
   "id": "9rsEZoOmGHBl",
   "metadata": {
    "id": "9rsEZoOmGHBl"
   },
   "source": [
    "### 2) outlier 처리하기"
   ]
  },
  {
   "cell_type": "markdown",
   "id": "ebc627e7",
   "metadata": {
    "id": "ebc627e7"
   },
   "source": [
    " - 혈당데이터에 대한 분석"
   ]
  },
  {
   "cell_type": "code",
   "execution_count": 327,
   "id": "2fdcd719",
   "metadata": {
    "colab": {
     "base_uri": "https://localhost:8080/"
    },
    "executionInfo": {
     "elapsed": 9,
     "status": "ok",
     "timestamp": 1634499940828,
     "user": {
      "displayName": "Joon Chun",
      "photoUrl": "https://lh3.googleusercontent.com/a/default-user=s64",
      "userId": "11589729376972489768"
     },
     "user_tz": -540
    },
    "id": "2fdcd719",
    "outputId": "b21e528e-6191-491e-b408-14e8423fea82"
   },
   "outputs": [
    {
     "data": {
      "text/plain": [
       "(222, 20)"
      ]
     },
     "execution_count": 327,
     "metadata": {},
     "output_type": "execute_result"
    }
   ],
   "source": [
    "# DF['fbs'].describe()\n",
    "# DF.loc[DF['fbs']>400].shape"
   ]
  },
  {
   "cell_type": "markdown",
   "id": "BA-cypdEdEfe",
   "metadata": {
    "id": "BA-cypdEdEfe"
   },
   "source": [
    "- IQR 3배 기준 밖의 데이터를 outlier로 처리한다\n",
    "- q25% -(q75-q25)*3\n",
    "- q75% +(q75-q25)*3"
   ]
  },
  {
   "cell_type": "code",
   "execution_count": 522,
   "id": "2f2c9f1b",
   "metadata": {
    "executionInfo": {
     "elapsed": 8,
     "status": "ok",
     "timestamp": 1634499940828,
     "user": {
      "displayName": "Joon Chun",
      "photoUrl": "https://lh3.googleusercontent.com/a/default-user=s64",
      "userId": "11589729376972489768"
     },
     "user_tz": -540
    },
    "id": "2f2c9f1b"
   },
   "outputs": [],
   "source": [
    "DF_1 = DF"
   ]
  },
  {
   "cell_type": "code",
   "execution_count": 523,
   "id": "JTdOjN1Ha9Yo",
   "metadata": {
    "colab": {
     "base_uri": "https://localhost:8080/"
    },
    "executionInfo": {
     "elapsed": 328,
     "status": "ok",
     "timestamp": 1634499941149,
     "user": {
      "displayName": "Joon Chun",
      "photoUrl": "https://lh3.googleusercontent.com/a/default-user=s64",
      "userId": "11589729376972489768"
     },
     "user_tz": -540
    },
    "id": "JTdOjN1Ha9Yo",
    "outputId": "4323d9ca-0a60-41ac-8785-4417611cb783",
    "scrolled": true
   },
   "outputs": [
    {
     "name": "stdout",
     "output_type": "stream",
     "text": [
      "======= ht =======\n",
      "lower : 110.0\n",
      "upper : 215.0 \n",
      "\n",
      "======= wt =======\n",
      "lower : 10.0\n",
      "upper : 115.0 \n",
      "\n",
      "======= waist =======\n",
      "lower : 32.999999999999986\n",
      "upper : 128.9 \n",
      "\n",
      "======= sbp =======\n",
      "lower : 55.0\n",
      "upper : 188.0 \n",
      "\n",
      "======= dbp =======\n",
      "lower : 34.0\n",
      "upper : 118.0 \n",
      "\n",
      "======= fbs =======\n",
      "lower : 37.0\n",
      "upper : 156.0 \n",
      "\n",
      "======= tchol =======\n",
      "lower : 19.0\n",
      "upper : 369.0 \n",
      "\n",
      "======= tg =======\n",
      "lower : -185.0\n",
      "upper : 417.0 \n",
      "\n",
      "======= hdl =======\n",
      "lower : -14.0\n",
      "upper : 126.0 \n",
      "\n",
      "======= ldl =======\n",
      "lower : -49.0\n",
      "upper : 273.0 \n",
      "\n",
      "======= hgb =======\n",
      "lower : 6.599999999999996\n",
      "upper : 22.000000000000004 \n",
      "\n",
      "======= cr =======\n",
      "lower : -0.20000000000000018\n",
      "upper : 1.9000000000000001 \n",
      "\n",
      "======= bmi =======\n",
      "lower : 8.082826614379883\n",
      "upper : 39.35310173034668 \n",
      "\n",
      "======= absi =======\n",
      "lower : 2.120138374856702\n",
      "upper : 3.936230468444861 \n",
      "\n"
     ]
    }
   ],
   "source": [
    "# IQR3 배기준으로 잘라야되는 기준\n",
    "columns = ['ht','wt','waist','sbp','dbp','fbs','tchol','tg','hdl','ldl','hgb','cr','bmi','absi']\n",
    "\n",
    "for i in columns:\n",
    "    \n",
    "    print('=======', i, '=======')\n",
    "    \n",
    "    q25, q75 = np.quantile(DF[i], 0.25), np.quantile(DF[i], 0.75)\n",
    "    IQR = q75 - q25\n",
    "    \n",
    "    lower = q25 - IQR*3\n",
    "    upper = q75 + IQR*3\n",
    "    \n",
    "    print('lower :', lower)\n",
    "    print('upper :', upper, '\\n')"
   ]
  },
  {
   "cell_type": "code",
   "execution_count": 524,
   "id": "6618c011",
   "metadata": {
    "colab": {
     "base_uri": "https://localhost:8080/"
    },
    "executionInfo": {
     "elapsed": 6,
     "status": "ok",
     "timestamp": 1634499941150,
     "user": {
      "displayName": "Joon Chun",
      "photoUrl": "https://lh3.googleusercontent.com/a/default-user=s64",
      "userId": "11589729376972489768"
     },
     "user_tz": -540
    },
    "id": "6618c011",
    "outputId": "c427fd5b-2951-4594-890d-bcd4641bcb9c"
   },
   "outputs": [
    {
     "data": {
      "text/plain": [
       "15"
      ]
     },
     "execution_count": 524,
     "metadata": {},
     "output_type": "execute_result"
    }
   ],
   "source": [
    "#체크하기\n",
    "DF.loc[DF['fbs'] > 600].shape[0]"
   ]
  },
  {
   "cell_type": "code",
   "execution_count": 525,
   "id": "NaiG3TkygNxg",
   "metadata": {
    "colab": {
     "base_uri": "https://localhost:8080/"
    },
    "executionInfo": {
     "elapsed": 1815,
     "status": "ok",
     "timestamp": 1634499942961,
     "user": {
      "displayName": "Joon Chun",
      "photoUrl": "https://lh3.googleusercontent.com/a/default-user=s64",
      "userId": "11589729376972489768"
     },
     "user_tz": -540
    },
    "id": "NaiG3TkygNxg",
    "outputId": "9ae762c7-fac4-4fd5-c0ae-4d479bb62d35"
   },
   "outputs": [
    {
     "name": "stdout",
     "output_type": "stream",
     "text": [
      "outlier : 0\n",
      "완료 : ht\n",
      "누적 아웃레이어 :  0 \n",
      "\n",
      "outlier : 368\n",
      "완료 : wt\n",
      "누적 아웃레이어 :  368 \n",
      "\n",
      "outlier : 76\n",
      "완료 : waist\n",
      "누적 아웃레이어 :  444 \n",
      "\n",
      "outlier : 683\n",
      "완료 : sbp\n",
      "누적 아웃레이어 :  1127 \n",
      "\n",
      "outlier : 737\n",
      "완료 : dbp\n",
      "누적 아웃레이어 :  1864 \n",
      "\n",
      "outlier : 494\n",
      "완료 : tchol\n",
      "누적 아웃레이어 :  2358 \n",
      "\n",
      "outlier : 16651\n",
      "완료 : tg\n",
      "누적 아웃레이어 :  19009 \n",
      "\n",
      "outlier : 580\n",
      "완료 : hdl\n",
      "누적 아웃레이어 :  19589 \n",
      "\n",
      "outlier : 135\n",
      "완료 : ldl\n",
      "누적 아웃레이어 :  19724 \n",
      "\n",
      "outlier : 184\n",
      "완료 : hgb\n",
      "누적 아웃레이어 :  19908 \n",
      "\n",
      "outlier : 2006\n",
      "완료 : cr\n",
      "누적 아웃레이어 :  21914 \n",
      "\n",
      "outlier : 25421\n",
      "완료 : fbs\n",
      "누적 아웃레이어 :  47335 \n",
      "\n",
      "outlier가 중복될 수 있음\n",
      "<class 'pandas.core.frame.DataFrame'>\n",
      "Int64Index: 944273 entries, 0 to 999999\n",
      "Data columns (total 20 columns):\n",
      " #   Column   Non-Null Count   Dtype  \n",
      "---  ------   --------------   -----  \n",
      " 0   sex      944273 non-null  float32\n",
      " 1   age      944273 non-null  float32\n",
      " 2   city     944273 non-null  float32\n",
      " 3   ht       944273 non-null  float32\n",
      " 4   wt       944273 non-null  float32\n",
      " 5   waist    944273 non-null  float64\n",
      " 6   sbp      944273 non-null  float64\n",
      " 7   dbp      944273 non-null  float64\n",
      " 8   fbs      944273 non-null  float64\n",
      " 9   tchol    944273 non-null  float64\n",
      " 10  tg       944273 non-null  float64\n",
      " 11  hdl      944273 non-null  float64\n",
      " 12  ldl      944273 non-null  float64\n",
      " 13  hgb      944273 non-null  float64\n",
      " 14  upro     944273 non-null  float64\n",
      " 15  cr       944273 non-null  float64\n",
      " 16  smoking  944273 non-null  float64\n",
      " 17  alcohol  944273 non-null  float64\n",
      " 18  bmi      944273 non-null  float32\n",
      " 19  absi     944273 non-null  float64\n",
      "dtypes: float32(6), float64(14)\n",
      "memory usage: 129.7 MB\n"
     ]
    }
   ],
   "source": [
    "# fbs 이상치 제거대상에서 제외! y값이여서\n",
    "\n",
    "columns = ['ht','wt','waist','sbp','dbp','tchol','tg','hdl','ldl','hgb','cr', 'fbs']\n",
    "\n",
    "\n",
    "a=0\n",
    "\n",
    "for i in columns:\n",
    "    \n",
    "    \n",
    "    q25, q75 = np.quantile(DF_1[i], 0.25), np.quantile(DF_1[i], 0.75)\n",
    "    IQR = q75 - q25\n",
    "    \n",
    "    lower = q25 - IQR*3\n",
    "    upper = q75 + IQR*3\n",
    "    \n",
    "    upperN = DF_1.loc[DF_1[i]>upper].shape[0]\n",
    "    lowerN = DF_1.loc[DF_1[i]<lower].shape[0]\n",
    "    print('outlier :' , lowerN + upperN)\n",
    "    \n",
    "    \n",
    "    DF_1 = DF_1.drop(DF_1.loc[(DF_1[i]<lower)|(upper< DF_1[i])].index)\n",
    "    print('완료 :', i)\n",
    "\n",
    "\n",
    "    a = a + lowerN+upperN\n",
    "    print( '누적 아웃레이어 : ' , a ,'\\n')\n",
    "    \n",
    "print('outlier가 중복될 수 있음')\n",
    "DF_1.info()"
   ]
  },
  {
   "cell_type": "code",
   "execution_count": 526,
   "id": "d6d70b2c",
   "metadata": {
    "colab": {
     "base_uri": "https://localhost:8080/"
    },
    "executionInfo": {
     "elapsed": 7,
     "status": "ok",
     "timestamp": 1634499942961,
     "user": {
      "displayName": "Joon Chun",
      "photoUrl": "https://lh3.googleusercontent.com/a/default-user=s64",
      "userId": "11589729376972489768"
     },
     "user_tz": -540
    },
    "id": "d6d70b2c",
    "outputId": "0193703e-7db0-4c29-d613-dc57531ca50d"
   },
   "outputs": [
    {
     "data": {
      "text/plain": [
       "991608"
      ]
     },
     "execution_count": 526,
     "metadata": {},
     "output_type": "execute_result"
    }
   ],
   "source": [
    "21914+969694"
   ]
  },
  {
   "cell_type": "markdown",
   "id": "SQfotSNvPfv4",
   "metadata": {
    "id": "SQfotSNvPfv4"
   },
   "source": [
    "- absi 는 이상치가 위로 300짜리가 존재한다. 그래서 평균을 많이 올려서 아웃레이어 아래에 정상치가 많이 잡혀서 위쪽만 자름"
   ]
  },
  {
   "cell_type": "code",
   "execution_count": 527,
   "id": "uCoiVHgSMQbS",
   "metadata": {
    "colab": {
     "base_uri": "https://localhost:8080/"
    },
    "executionInfo": {
     "elapsed": 432,
     "status": "ok",
     "timestamp": 1634499943389,
     "user": {
      "displayName": "Joon Chun",
      "photoUrl": "https://lh3.googleusercontent.com/a/default-user=s64",
      "userId": "11589729376972489768"
     },
     "user_tz": -540
    },
    "id": "uCoiVHgSMQbS",
    "outputId": "ab184bd8-59ed-4d91-a4ba-742d3a1b7d9b"
   },
   "outputs": [
    {
     "name": "stdout",
     "output_type": "stream",
     "text": [
      "outlier : 219\n",
      "누적 제거:  219\n",
      "완료 : bmi \n",
      "\n",
      "outlier : 470\n",
      "누적 제거:  689\n",
      "완료 : absi \n",
      "\n",
      "outlier가 중복될 수 있음\n",
      "<class 'pandas.core.frame.DataFrame'>\n",
      "Int64Index: 943584 entries, 0 to 999999\n",
      "Data columns (total 20 columns):\n",
      " #   Column   Non-Null Count   Dtype  \n",
      "---  ------   --------------   -----  \n",
      " 0   sex      943584 non-null  float32\n",
      " 1   age      943584 non-null  float32\n",
      " 2   city     943584 non-null  float32\n",
      " 3   ht       943584 non-null  float32\n",
      " 4   wt       943584 non-null  float32\n",
      " 5   waist    943584 non-null  float64\n",
      " 6   sbp      943584 non-null  float64\n",
      " 7   dbp      943584 non-null  float64\n",
      " 8   fbs      943584 non-null  float64\n",
      " 9   tchol    943584 non-null  float64\n",
      " 10  tg       943584 non-null  float64\n",
      " 11  hdl      943584 non-null  float64\n",
      " 12  ldl      943584 non-null  float64\n",
      " 13  hgb      943584 non-null  float64\n",
      " 14  upro     943584 non-null  float64\n",
      " 15  cr       943584 non-null  float64\n",
      " 16  smoking  943584 non-null  float64\n",
      " 17  alcohol  943584 non-null  float64\n",
      " 18  bmi      943584 non-null  float32\n",
      " 19  absi     943584 non-null  float64\n",
      "dtypes: float32(6), float64(14)\n",
      "memory usage: 129.6 MB\n"
     ]
    }
   ],
   "source": [
    "columns2 = ['bmi','absi']\n",
    "\n",
    "a=0\n",
    "\n",
    "for j in columns2:\n",
    "    \n",
    "    q25, q75 = np.quantile(DF_1[j], 0.25), np.quantile(DF_1[j], 0.75)\n",
    "    IQR = q75 - q25\n",
    "    \n",
    "    upper = q75 + IQR*3\n",
    "    \n",
    "    upperN = DF_1.loc[DF_1[j]>upper].shape[0]\n",
    "    print('outlier :' , upperN )\n",
    "    \n",
    "    a = a + upperN\n",
    "    print('누적 제거: ' , a,)\n",
    "\n",
    "\n",
    "    DF_1 = DF_1.drop(DF_1.loc[(DF_1[j]>upper)].index)\n",
    "    print('완료 :', j, '\\n')\n",
    "\n",
    "\n",
    "    \n",
    "print('outlier가 중복될 수 있음')\n",
    "DF_1.info()"
   ]
  },
  {
   "cell_type": "code",
   "execution_count": 528,
   "id": "lTd2d1wfjp4s",
   "metadata": {
    "colab": {
     "base_uri": "https://localhost:8080/"
    },
    "executionInfo": {
     "elapsed": 8,
     "status": "ok",
     "timestamp": 1634499943390,
     "user": {
      "displayName": "Joon Chun",
      "photoUrl": "https://lh3.googleusercontent.com/a/default-user=s64",
      "userId": "11589729376972489768"
     },
     "user_tz": -540
    },
    "id": "lTd2d1wfjp4s",
    "outputId": "db79bf44-95da-4af0-879d-129885d5eed2"
   },
   "outputs": [
    {
     "data": {
      "text/plain": [
       "712"
      ]
     },
     "execution_count": 528,
     "metadata": {},
     "output_type": "execute_result"
    }
   ],
   "source": [
    "969694-968982"
   ]
  },
  {
   "cell_type": "code",
   "execution_count": 529,
   "id": "wQHTY6ZqukUr",
   "metadata": {
    "colab": {
     "base_uri": "https://localhost:8080/"
    },
    "executionInfo": {
     "elapsed": 6,
     "status": "ok",
     "timestamp": 1634499943390,
     "user": {
      "displayName": "Joon Chun",
      "photoUrl": "https://lh3.googleusercontent.com/a/default-user=s64",
      "userId": "11589729376972489768"
     },
     "user_tz": -540
    },
    "id": "wQHTY6ZqukUr",
    "outputId": "5e45a5da-f901-45f2-aae1-6d090e8ef0c3"
   },
   "outputs": [
    {
     "data": {
      "text/plain": [
       "0"
      ]
     },
     "execution_count": 529,
     "metadata": {},
     "output_type": "execute_result"
    }
   ],
   "source": [
    "#중복 체크하기\n",
    "DF_1.loc[DF_1['fbs'] > 600].shape[0]"
   ]
  },
  {
   "cell_type": "markdown",
   "id": "sxVQZv8eu2Ci",
   "metadata": {
    "id": "sxVQZv8eu2Ci"
   },
   "source": [
    "- 즉 15명중 5개의 데이터는 이미 다른 범주내에서 이상치였다!! \n",
    "- 그렇다면 개인이 연속적으로 두개이상의 범주내에서 이상치를 가질 확률은 얼마일까?\n",
    "- 아마도 정말 개인이 이런 몸상태를 가지고 있다고 보긴 무리가 있고, 개원이 정보수집과정의 오차라 볼 수 있다."
   ]
  },
  {
   "cell_type": "code",
   "execution_count": 530,
   "id": "koHDyD8Ftcot",
   "metadata": {
    "colab": {
     "base_uri": "https://localhost:8080/"
    },
    "executionInfo": {
     "elapsed": 6,
     "status": "ok",
     "timestamp": 1634499943391,
     "user": {
      "displayName": "Joon Chun",
      "photoUrl": "https://lh3.googleusercontent.com/a/default-user=s64",
      "userId": "11589729376972489768"
     },
     "user_tz": -540
    },
    "id": "koHDyD8Ftcot",
    "outputId": "afd147c0-1ff6-4c67-8a84-338bbe676ba7"
   },
   "outputs": [
    {
     "name": "stdout",
     "output_type": "stream",
     "text": [
      "fbs outlier : 0\n",
      "완료\n",
      "<class 'pandas.core.frame.DataFrame'>\n",
      "Int64Index: 943584 entries, 0 to 999999\n",
      "Data columns (total 20 columns):\n",
      " #   Column   Non-Null Count   Dtype  \n",
      "---  ------   --------------   -----  \n",
      " 0   sex      943584 non-null  float32\n",
      " 1   age      943584 non-null  float32\n",
      " 2   city     943584 non-null  float32\n",
      " 3   ht       943584 non-null  float32\n",
      " 4   wt       943584 non-null  float32\n",
      " 5   waist    943584 non-null  float64\n",
      " 6   sbp      943584 non-null  float64\n",
      " 7   dbp      943584 non-null  float64\n",
      " 8   fbs      943584 non-null  float64\n",
      " 9   tchol    943584 non-null  float64\n",
      " 10  tg       943584 non-null  float64\n",
      " 11  hdl      943584 non-null  float64\n",
      " 12  ldl      943584 non-null  float64\n",
      " 13  hgb      943584 non-null  float64\n",
      " 14  upro     943584 non-null  float64\n",
      " 15  cr       943584 non-null  float64\n",
      " 16  smoking  943584 non-null  float64\n",
      " 17  alcohol  943584 non-null  float64\n",
      " 18  bmi      943584 non-null  float32\n",
      " 19  absi     943584 non-null  float64\n",
      "dtypes: float32(6), float64(14)\n",
      "memory usage: 161.8 MB\n"
     ]
    }
   ],
   "source": [
    "upperN = DF_1.loc[DF_1['fbs']>600].shape[0]\n",
    "print('fbs outlier :' , upperN )\n",
    "\n",
    "DF_1 = DF_1.drop(DF_1.loc[(DF_1['fbs']>600)].index)\n",
    "print('완료')\n",
    "\n",
    "\n",
    "DF_1.info()"
   ]
  },
  {
   "cell_type": "code",
   "execution_count": 531,
   "id": "35aa4c6f",
   "metadata": {
    "colab": {
     "base_uri": "https://localhost:8080/"
    },
    "executionInfo": {
     "elapsed": 391,
     "status": "ok",
     "timestamp": 1634499943778,
     "user": {
      "displayName": "Joon Chun",
      "photoUrl": "https://lh3.googleusercontent.com/a/default-user=s64",
      "userId": "11589729376972489768"
     },
     "user_tz": -540
    },
    "id": "35aa4c6f",
    "outputId": "dfef4e7e-4eb4-4e3c-c050-95aab2f02355",
    "scrolled": false
   },
   "outputs": [
    {
     "data": {
      "text/plain": [
       "count    943584.000000\n",
       "mean         97.310203\n",
       "std          14.251445\n",
       "min          37.000000\n",
       "25%          88.000000\n",
       "50%          95.000000\n",
       "75%         104.000000\n",
       "max         156.000000\n",
       "Name: fbs, dtype: float64"
      ]
     },
     "execution_count": 531,
     "metadata": {},
     "output_type": "execute_result"
    }
   ],
   "source": [
    "DF_1['fbs'].describe()"
   ]
  },
  {
   "cell_type": "code",
   "execution_count": 532,
   "id": "40CIu5j7Lupx",
   "metadata": {
    "colab": {
     "base_uri": "https://localhost:8080/",
     "height": 428
    },
    "executionInfo": {
     "elapsed": 8,
     "status": "ok",
     "timestamp": 1634499943779,
     "user": {
      "displayName": "Joon Chun",
      "photoUrl": "https://lh3.googleusercontent.com/a/default-user=s64",
      "userId": "11589729376972489768"
     },
     "user_tz": -540
    },
    "id": "40CIu5j7Lupx",
    "outputId": "d329a664-03bb-400a-ec11-73b468ba4b04"
   },
   "outputs": [
    {
     "name": "stdout",
     "output_type": "stream",
     "text": [
      "count    943584.000000\n",
      "mean          3.028321\n",
      "std           0.198537\n",
      "min           1.205164\n",
      "25%           2.893456\n",
      "50%           3.024710\n",
      "75%           3.153667\n",
      "max           3.935256\n",
      "Name: absi, dtype: float64\n"
     ]
    },
    {
     "data": {
      "image/png": "[encoded data removed]",
      "text/plain": [
       "<Figure size 432x288 with 1 Axes>"
      ]
     },
     "metadata": {
      "needs_background": "light"
     },
     "output_type": "display_data"
    }
   ],
   "source": [
    "# 더블체크\n",
    "print(DF_1['absi'].describe())\n",
    "# absi 분포 확인하기\n",
    "plt.hist(DF_1['absi'])\n",
    "plt.show()"
   ]
  },
  {
   "cell_type": "markdown",
   "id": "O5d8C2YUk_BT",
   "metadata": {
    "id": "O5d8C2YUk_BT"
   },
   "source": [
    "## III.스케일링\n",
    "- DF_1 스케일링 없는 데이터\n",
    "- DF_s 정규화한 데이터\n",
    "- DF_n 표준화한 데이터"
   ]
  },
  {
   "cell_type": "code",
   "execution_count": 533,
   "id": "F-D7YRrSSjKX",
   "metadata": {
    "colab": {
     "base_uri": "https://localhost:8080/"
    },
    "executionInfo": {
     "elapsed": 302,
     "status": "ok",
     "timestamp": 1634499947241,
     "user": {
      "displayName": "Joon Chun",
      "photoUrl": "https://lh3.googleusercontent.com/a/default-user=s64",
      "userId": "11589729376972489768"
     },
     "user_tz": -540
    },
    "id": "F-D7YRrSSjKX",
    "outputId": "70224b29-8fe8-4d91-af74-6b059c661680"
   },
   "outputs": [
    {
     "name": "stdout",
     "output_type": "stream",
     "text": [
      "<class 'pandas.core.frame.DataFrame'>\n",
      "Int64Index: 943584 entries, 0 to 999999\n",
      "Data columns (total 23 columns):\n",
      " #   Column   Non-Null Count   Dtype  \n",
      "---  ------   --------------   -----  \n",
      " 0   sex      943584 non-null  float32\n",
      " 1   age      943584 non-null  float32\n",
      " 2   city     943584 non-null  float32\n",
      " 3   ht       943584 non-null  float32\n",
      " 4   wt       943584 non-null  float32\n",
      " 5   waist    943584 non-null  float64\n",
      " 6   sbp      943584 non-null  float64\n",
      " 7   dbp      943584 non-null  float64\n",
      " 8   fbs      943584 non-null  float64\n",
      " 9   tchol    943584 non-null  float64\n",
      " 10  tg       943584 non-null  float64\n",
      " 11  hdl      943584 non-null  float64\n",
      " 12  ldl      943584 non-null  float64\n",
      " 13  hgb      943584 non-null  float64\n",
      " 14  upro     943584 non-null  float64\n",
      " 15  cr       943584 non-null  float64\n",
      " 16  smoking  943584 non-null  float64\n",
      " 17  alcohol  943584 non-null  float64\n",
      " 18  bmi      943584 non-null  float32\n",
      " 19  absi     943584 non-null  float64\n",
      " 20  fbs_L    943584 non-null  int64  \n",
      " 21  fbs_L2   943584 non-null  int64  \n",
      " 22  fbs_L3   943584 non-null  int64  \n",
      "dtypes: float32(6), float64(14), int64(3)\n",
      "memory usage: 183.4 MB\n"
     ]
    }
   ],
   "source": [
    "DF_1['fbs_L'] = np.digitize(DF_1['fbs'], [99,125,200,999])\n",
    "DF_1['fbs_L2'] = np.digitize(DF_1['fbs'], [125])\n",
    "DF_1['fbs_L3'] = np.digitize(DF_1['fbs'], [99])\n",
    "DF_1.info()"
   ]
  },
  {
   "cell_type": "code",
   "execution_count": 340,
   "id": "PEpfTUy9nAoo",
   "metadata": {
    "executionInfo": {
     "elapsed": 5,
     "status": "ok",
     "timestamp": 1634499947636,
     "user": {
      "displayName": "Joon Chun",
      "photoUrl": "https://lh3.googleusercontent.com/a/default-user=s64",
      "userId": "11589729376972489768"
     },
     "user_tz": -540
    },
    "id": "PEpfTUy9nAoo"
   },
   "outputs": [],
   "source": [
    "# 데이터 프레임 분리\n",
    "sex = DF_1['sex']\n",
    "age = DF_1['age']\n",
    "city = DF_1['city']\n",
    "ht = DF_1['ht']\n",
    "wt = DF_1['wt']\n",
    "waist = DF_1['waist']\n",
    "sbp = DF_1['sbp']\n",
    "dbp = DF_1['dbp']\n",
    "fbs = DF_1['fbs']\n",
    "tchol = DF_1['tchol']\n",
    "tg = DF_1['tg']\n",
    "hdl = DF_1['hdl']\n",
    "ldl = DF_1['ldl']\n",
    "hgb = DF_1['hgb']\n",
    "upro = DF_1['upro']\n",
    "cr = DF_1['cr']\n",
    "smoking = DF_1['smoking']\n",
    "alcohol = DF_1['alcohol']\n",
    "bmi = DF_1['bmi']\n",
    "absi = DF_1['absi']\n",
    "fbs_L = DF_1['fbs_L']\n",
    "fbs_L2 = DF_1['fbs_L2']\n",
    "fbs_L3 = DF_1['fbs_L3']"
   ]
  },
  {
   "cell_type": "code",
   "execution_count": 341,
   "id": "unGsMTCHoZD8",
   "metadata": {
    "colab": {
     "base_uri": "https://localhost:8080/"
    },
    "executionInfo": {
     "elapsed": 5,
     "status": "ok",
     "timestamp": 1634499947637,
     "user": {
      "displayName": "Joon Chun",
      "photoUrl": "https://lh3.googleusercontent.com/a/default-user=s64",
      "userId": "11589729376972489768"
     },
     "user_tz": -540
    },
    "id": "unGsMTCHoZD8",
    "outputId": "e8e856f6-63b8-41f9-b168-a619bcbca35f"
   },
   "outputs": [
    {
     "name": "stdout",
     "output_type": "stream",
     "text": [
      "<class 'pandas.core.frame.DataFrame'>\n",
      "Int64Index: 968972 entries, 0 to 999999\n",
      "Data columns (total 9 columns):\n",
      " #   Column   Non-Null Count   Dtype  \n",
      "---  ------   --------------   -----  \n",
      " 0   sex      968972 non-null  float32\n",
      " 1   age      968972 non-null  float32\n",
      " 2   city     968972 non-null  float32\n",
      " 3   upro     968972 non-null  float64\n",
      " 4   smoking  968972 non-null  float64\n",
      " 5   alcohol  968972 non-null  float64\n",
      " 6   fbs_L    968972 non-null  int64  \n",
      " 7   fbs_L2   968972 non-null  int64  \n",
      " 8   fbs_L3   968972 non-null  int64  \n",
      "dtypes: float32(3), float64(3), int64(3)\n",
      "memory usage: 62.8 MB\n"
     ]
    }
   ],
   "source": [
    "# 스켈링 하지 말아야 될 변수들\n",
    "DF_s = DF_1[['sex','age','city','upro','smoking','alcohol','fbs_L','fbs_L2','fbs_L3']]\n",
    "DF_s.info()"
   ]
  },
  {
   "cell_type": "code",
   "execution_count": 342,
   "id": "584TTeZrk-oC",
   "metadata": {
    "colab": {
     "base_uri": "https://localhost:8080/",
     "height": 0
    },
    "executionInfo": {
     "elapsed": 368,
     "status": "ok",
     "timestamp": 1634499948001,
     "user": {
      "displayName": "Joon Chun",
      "photoUrl": "https://lh3.googleusercontent.com/a/default-user=s64",
      "userId": "11589729376972489768"
     },
     "user_tz": -540
    },
    "id": "584TTeZrk-oC",
    "outputId": "2a2a57f1-ddce-4daa-fbf4-8e22b121b5a6"
   },
   "outputs": [
    {
     "data": {
      "text/html": [
       "<div>\n",
       "<style scoped>\n",
       "    .dataframe tbody tr th:only-of-type {\n",
       "        vertical-align: middle;\n",
       "    }\n",
       "\n",
       "    .dataframe tbody tr th {\n",
       "        vertical-align: top;\n",
       "    }\n",
       "\n",
       "    .dataframe thead th {\n",
       "        text-align: right;\n",
       "    }\n",
       "</style>\n",
       "<table border=\"1\" class=\"dataframe\">\n",
       "  <thead>\n",
       "    <tr style=\"text-align: right;\">\n",
       "      <th></th>\n",
       "      <th>sex</th>\n",
       "      <th>age</th>\n",
       "      <th>city</th>\n",
       "      <th>upro</th>\n",
       "      <th>smoking</th>\n",
       "      <th>alcohol</th>\n",
       "      <th>fbs_L</th>\n",
       "      <th>fbs_L2</th>\n",
       "      <th>fbs_L3</th>\n",
       "      <th>ht</th>\n",
       "      <th>wt</th>\n",
       "      <th>waist</th>\n",
       "      <th>sbp</th>\n",
       "      <th>dbp</th>\n",
       "      <th>fbs</th>\n",
       "      <th>tchol</th>\n",
       "      <th>tg</th>\n",
       "      <th>hdl</th>\n",
       "      <th>ldl</th>\n",
       "      <th>hgb</th>\n",
       "      <th>cr</th>\n",
       "      <th>bmi</th>\n",
       "      <th>absi</th>\n",
       "    </tr>\n",
       "  </thead>\n",
       "  <tbody>\n",
       "    <tr>\n",
       "      <th>0</th>\n",
       "      <td>1.0</td>\n",
       "      <td>8.0</td>\n",
       "      <td>43.0</td>\n",
       "      <td>1.0</td>\n",
       "      <td>1.0</td>\n",
       "      <td>1.0</td>\n",
       "      <td>1</td>\n",
       "      <td>0</td>\n",
       "      <td>1</td>\n",
       "      <td>0.845058</td>\n",
       "      <td>0.963583</td>\n",
       "      <td>0.942117</td>\n",
       "      <td>-0.153753</td>\n",
       "      <td>0.422866</td>\n",
       "      <td>-0.045264</td>\n",
       "      <td>-0.049532</td>\n",
       "      <td>-0.448949</td>\n",
       "      <td>-0.623715</td>\n",
       "      <td>0.379437</td>\n",
       "      <td>1.835358</td>\n",
       "      <td>0.751550</td>\n",
       "      <td>0.598412</td>\n",
       "      <td>0.349529</td>\n",
       "    </tr>\n",
       "    <tr>\n",
       "      <th>1</th>\n",
       "      <td>1.0</td>\n",
       "      <td>7.0</td>\n",
       "      <td>11.0</td>\n",
       "      <td>1.0</td>\n",
       "      <td>3.0</td>\n",
       "      <td>0.0</td>\n",
       "      <td>1</td>\n",
       "      <td>0</td>\n",
       "      <td>1</td>\n",
       "      <td>1.923367</td>\n",
       "      <td>1.367985</td>\n",
       "      <td>0.837153</td>\n",
       "      <td>0.545054</td>\n",
       "      <td>0.628695</td>\n",
       "      <td>0.255760</td>\n",
       "      <td>0.887137</td>\n",
       "      <td>-0.036316</td>\n",
       "      <td>-0.146683</td>\n",
       "      <td>1.022727</td>\n",
       "      <td>1.008005</td>\n",
       "      <td>0.250285</td>\n",
       "      <td>0.236324</td>\n",
       "      <td>0.247538</td>\n",
       "    </tr>\n",
       "    <tr>\n",
       "      <th>2</th>\n",
       "      <td>1.0</td>\n",
       "      <td>9.0</td>\n",
       "      <td>41.0</td>\n",
       "      <td>1.0</td>\n",
       "      <td>1.0</td>\n",
       "      <td>0.0</td>\n",
       "      <td>0</td>\n",
       "      <td>0</td>\n",
       "      <td>0</td>\n",
       "      <td>0.305903</td>\n",
       "      <td>0.963583</td>\n",
       "      <td>1.047081</td>\n",
       "      <td>-0.153753</td>\n",
       "      <td>-0.606275</td>\n",
       "      <td>-0.088267</td>\n",
       "      <td>-1.574964</td>\n",
       "      <td>-0.278205</td>\n",
       "      <td>-1.100748</td>\n",
       "      <td>-1.141065</td>\n",
       "      <td>1.008005</td>\n",
       "      <td>0.250285</td>\n",
       "      <td>1.057174</td>\n",
       "      <td>0.135553</td>\n",
       "    </tr>\n",
       "    <tr>\n",
       "      <th>3</th>\n",
       "      <td>1.0</td>\n",
       "      <td>11.0</td>\n",
       "      <td>48.0</td>\n",
       "      <td>1.0</td>\n",
       "      <td>1.0</td>\n",
       "      <td>0.0</td>\n",
       "      <td>0</td>\n",
       "      <td>0</td>\n",
       "      <td>0</td>\n",
       "      <td>1.384212</td>\n",
       "      <td>1.367985</td>\n",
       "      <td>1.047081</td>\n",
       "      <td>1.593266</td>\n",
       "      <td>1.143266</td>\n",
       "      <td>-0.217278</td>\n",
       "      <td>0.164564</td>\n",
       "      <td>-0.249747</td>\n",
       "      <td>1.284413</td>\n",
       "      <td>-0.263852</td>\n",
       "      <td>2.153571</td>\n",
       "      <td>1.252815</td>\n",
       "      <td>0.647515</td>\n",
       "      <td>0.228161</td>\n",
       "    </tr>\n",
       "    <tr>\n",
       "      <th>4</th>\n",
       "      <td>1.0</td>\n",
       "      <td>11.0</td>\n",
       "      <td>30.0</td>\n",
       "      <td>1.0</td>\n",
       "      <td>1.0</td>\n",
       "      <td>0.0</td>\n",
       "      <td>1</td>\n",
       "      <td>0</td>\n",
       "      <td>1</td>\n",
       "      <td>0.305903</td>\n",
       "      <td>-0.249623</td>\n",
       "      <td>-0.107520</td>\n",
       "      <td>1.104101</td>\n",
       "      <td>0.628695</td>\n",
       "      <td>0.040743</td>\n",
       "      <td>0.111040</td>\n",
       "      <td>-0.278205</td>\n",
       "      <td>0.262202</td>\n",
       "      <td>0.116273</td>\n",
       "      <td>-0.264846</td>\n",
       "      <td>-0.250979</td>\n",
       "      <td>-0.525895</td>\n",
       "      <td>0.444896</td>\n",
       "    </tr>\n",
       "  </tbody>\n",
       "</table>\n",
       "</div>"
      ],
      "text/plain": [
       "   sex   age  city  upro  ...       hgb        cr       bmi      absi\n",
       "0  1.0   8.0  43.0   1.0  ...  1.835358  0.751550  0.598412  0.349529\n",
       "1  1.0   7.0  11.0   1.0  ...  1.008005  0.250285  0.236324  0.247538\n",
       "2  1.0   9.0  41.0   1.0  ...  1.008005  0.250285  1.057174  0.135553\n",
       "3  1.0  11.0  48.0   1.0  ...  2.153571  1.252815  0.647515  0.228161\n",
       "4  1.0  11.0  30.0   1.0  ... -0.264846 -0.250979 -0.525895  0.444896\n",
       "\n",
       "[5 rows x 23 columns]"
      ]
     },
     "execution_count": 342,
     "metadata": {},
     "output_type": "execute_result"
    }
   ],
   "source": [
    "# 스켈링 해야할 변수들\n",
    "columns = ['ht','wt','waist','sbp','dbp','fbs','tchol','tg','hdl','ldl','hgb','cr','bmi','absi']\n",
    "\n",
    "for i in columns :\n",
    "\n",
    "    DF_s[i] = StandardScaler().fit_transform(DF_1[[i]])\n",
    "\n",
    "DF_s.head()\n"
   ]
  },
  {
   "cell_type": "code",
   "execution_count": 343,
   "id": "9Ok9RulRAnn7",
   "metadata": {
    "colab": {
     "base_uri": "https://localhost:8080/",
     "height": 0
    },
    "executionInfo": {
     "elapsed": 332,
     "status": "ok",
     "timestamp": 1634499948329,
     "user": {
      "displayName": "Joon Chun",
      "photoUrl": "https://lh3.googleusercontent.com/a/default-user=s64",
      "userId": "11589729376972489768"
     },
     "user_tz": -540
    },
    "id": "9Ok9RulRAnn7",
    "outputId": "130ad7ce-223f-4246-9f5b-7280b095634d"
   },
   "outputs": [
    {
     "data": {
      "text/html": [
       "<div>\n",
       "<style scoped>\n",
       "    .dataframe tbody tr th:only-of-type {\n",
       "        vertical-align: middle;\n",
       "    }\n",
       "\n",
       "    .dataframe tbody tr th {\n",
       "        vertical-align: top;\n",
       "    }\n",
       "\n",
       "    .dataframe thead th {\n",
       "        text-align: right;\n",
       "    }\n",
       "</style>\n",
       "<table border=\"1\" class=\"dataframe\">\n",
       "  <thead>\n",
       "    <tr style=\"text-align: right;\">\n",
       "      <th></th>\n",
       "      <th>sex</th>\n",
       "      <th>age</th>\n",
       "      <th>city</th>\n",
       "      <th>upro</th>\n",
       "      <th>smoking</th>\n",
       "      <th>alcohol</th>\n",
       "      <th>fbs_L</th>\n",
       "      <th>fbs_L2</th>\n",
       "      <th>fbs_L3</th>\n",
       "      <th>ht</th>\n",
       "      <th>wt</th>\n",
       "      <th>waist</th>\n",
       "      <th>sbp</th>\n",
       "      <th>dbp</th>\n",
       "      <th>fbs</th>\n",
       "      <th>tchol</th>\n",
       "      <th>tg</th>\n",
       "      <th>hdl</th>\n",
       "      <th>ldl</th>\n",
       "      <th>hgb</th>\n",
       "      <th>cr</th>\n",
       "      <th>bmi</th>\n",
       "      <th>absi</th>\n",
       "    </tr>\n",
       "  </thead>\n",
       "  <tbody>\n",
       "    <tr>\n",
       "      <th>0</th>\n",
       "      <td>1.0</td>\n",
       "      <td>8.0</td>\n",
       "      <td>43.0</td>\n",
       "      <td>1.0</td>\n",
       "      <td>1.0</td>\n",
       "      <td>1.0</td>\n",
       "      <td>1</td>\n",
       "      <td>0</td>\n",
       "      <td>1</td>\n",
       "      <td>0.666667</td>\n",
       "      <td>0.555556</td>\n",
       "      <td>0.597826</td>\n",
       "      <td>0.423729</td>\n",
       "      <td>0.547619</td>\n",
       "      <td>0.128920</td>\n",
       "      <td>0.480826</td>\n",
       "      <td>0.218750</td>\n",
       "      <td>0.376</td>\n",
       "      <td>0.459559</td>\n",
       "      <td>0.685535</td>\n",
       "      <td>0.500000</td>\n",
       "      <td>0.506653</td>\n",
       "      <td>0.692663</td>\n",
       "    </tr>\n",
       "    <tr>\n",
       "      <th>1</th>\n",
       "      <td>1.0</td>\n",
       "      <td>7.0</td>\n",
       "      <td>11.0</td>\n",
       "      <td>1.0</td>\n",
       "      <td>3.0</td>\n",
       "      <td>0.0</td>\n",
       "      <td>1</td>\n",
       "      <td>0</td>\n",
       "      <td>1</td>\n",
       "      <td>0.833333</td>\n",
       "      <td>0.611111</td>\n",
       "      <td>0.586957</td>\n",
       "      <td>0.508475</td>\n",
       "      <td>0.571429</td>\n",
       "      <td>0.141115</td>\n",
       "      <td>0.584071</td>\n",
       "      <td>0.288462</td>\n",
       "      <td>0.432</td>\n",
       "      <td>0.540441</td>\n",
       "      <td>0.603774</td>\n",
       "      <td>0.444444</td>\n",
       "      <td>0.459234</td>\n",
       "      <td>0.685246</td>\n",
       "    </tr>\n",
       "    <tr>\n",
       "      <th>2</th>\n",
       "      <td>1.0</td>\n",
       "      <td>9.0</td>\n",
       "      <td>41.0</td>\n",
       "      <td>1.0</td>\n",
       "      <td>1.0</td>\n",
       "      <td>0.0</td>\n",
       "      <td>0</td>\n",
       "      <td>0</td>\n",
       "      <td>0</td>\n",
       "      <td>0.583333</td>\n",
       "      <td>0.555556</td>\n",
       "      <td>0.608696</td>\n",
       "      <td>0.423729</td>\n",
       "      <td>0.428571</td>\n",
       "      <td>0.127178</td>\n",
       "      <td>0.312684</td>\n",
       "      <td>0.247596</td>\n",
       "      <td>0.320</td>\n",
       "      <td>0.268382</td>\n",
       "      <td>0.603774</td>\n",
       "      <td>0.444444</td>\n",
       "      <td>0.566733</td>\n",
       "      <td>0.677103</td>\n",
       "    </tr>\n",
       "    <tr>\n",
       "      <th>3</th>\n",
       "      <td>1.0</td>\n",
       "      <td>11.0</td>\n",
       "      <td>48.0</td>\n",
       "      <td>1.0</td>\n",
       "      <td>1.0</td>\n",
       "      <td>0.0</td>\n",
       "      <td>0</td>\n",
       "      <td>0</td>\n",
       "      <td>0</td>\n",
       "      <td>0.750000</td>\n",
       "      <td>0.611111</td>\n",
       "      <td>0.608696</td>\n",
       "      <td>0.635593</td>\n",
       "      <td>0.630952</td>\n",
       "      <td>0.121951</td>\n",
       "      <td>0.504425</td>\n",
       "      <td>0.252404</td>\n",
       "      <td>0.600</td>\n",
       "      <td>0.378676</td>\n",
       "      <td>0.716981</td>\n",
       "      <td>0.555556</td>\n",
       "      <td>0.513084</td>\n",
       "      <td>0.683837</td>\n",
       "    </tr>\n",
       "    <tr>\n",
       "      <th>4</th>\n",
       "      <td>1.0</td>\n",
       "      <td>11.0</td>\n",
       "      <td>30.0</td>\n",
       "      <td>1.0</td>\n",
       "      <td>1.0</td>\n",
       "      <td>0.0</td>\n",
       "      <td>1</td>\n",
       "      <td>0</td>\n",
       "      <td>1</td>\n",
       "      <td>0.583333</td>\n",
       "      <td>0.388889</td>\n",
       "      <td>0.489130</td>\n",
       "      <td>0.576271</td>\n",
       "      <td>0.571429</td>\n",
       "      <td>0.132404</td>\n",
       "      <td>0.498525</td>\n",
       "      <td>0.247596</td>\n",
       "      <td>0.480</td>\n",
       "      <td>0.426471</td>\n",
       "      <td>0.477987</td>\n",
       "      <td>0.388889</td>\n",
       "      <td>0.359413</td>\n",
       "      <td>0.699599</td>\n",
       "    </tr>\n",
       "  </tbody>\n",
       "</table>\n",
       "</div>"
      ],
      "text/plain": [
       "   sex   age  city  upro  ...       hgb        cr       bmi      absi\n",
       "0  1.0   8.0  43.0   1.0  ...  0.685535  0.500000  0.506653  0.692663\n",
       "1  1.0   7.0  11.0   1.0  ...  0.603774  0.444444  0.459234  0.685246\n",
       "2  1.0   9.0  41.0   1.0  ...  0.603774  0.444444  0.566733  0.677103\n",
       "3  1.0  11.0  48.0   1.0  ...  0.716981  0.555556  0.513084  0.683837\n",
       "4  1.0  11.0  30.0   1.0  ...  0.477987  0.388889  0.359413  0.699599\n",
       "\n",
       "[5 rows x 23 columns]"
      ]
     },
     "execution_count": 343,
     "metadata": {},
     "output_type": "execute_result"
    }
   ],
   "source": [
    "DF_n = DF_1[['sex','age','city','upro','smoking','alcohol','fbs_L','fbs_L2','fbs_L3']]\n",
    "columns = ['ht','wt','waist','sbp','dbp','fbs','tchol','tg','hdl','ldl','hgb','cr','bmi','absi']\n",
    "\n",
    "for i in columns :\n",
    "\n",
    "    DF_n[i] = MinMaxScaler().fit_transform(DF_1[[i]])\n",
    "\n",
    "DF_n.head()"
   ]
  },
  {
   "cell_type": "markdown",
   "id": "MpBSIxYKfCqP",
   "metadata": {
    "id": "MpBSIxYKfCqP"
   },
   "source": [
    "### 2) 스케일링 후 시각화"
   ]
  },
  {
   "cell_type": "code",
   "execution_count": 343,
   "id": "CiD-P3q5fOze",
   "metadata": {
    "executionInfo": {
     "elapsed": 5,
     "status": "ok",
     "timestamp": 1634499948329,
     "user": {
      "displayName": "Joon Chun",
      "photoUrl": "https://lh3.googleusercontent.com/a/default-user=s64",
      "userId": "11589729376972489768"
     },
     "user_tz": -540
    },
    "id": "CiD-P3q5fOze"
   },
   "outputs": [],
   "source": []
  },
  {
   "cell_type": "markdown",
   "id": "zKi4VPgHPL3o",
   "metadata": {
    "id": "zKi4VPgHPL3o"
   },
   "source": [
    "## IV.모델링 - 공복혈당 추론하기 - liner regression\n",
    "- 적은수의 x : 나이, 성별, 키, 몸무게, 허리둘레, 음주, 흠연여부, (혹시 지역)\n",
    "- 모든가능한 x : 17가지 \n"
   ]
  },
  {
   "cell_type": "markdown",
   "id": "xDzFpP9xS_tW",
   "metadata": {
    "id": "xDzFpP9xS_tW"
   },
   "source": [
    "+ 1) 자가혈당 측정시 10~15%의 오차가 있다고 한다. (출처:삼성서울벼원 당뇨교육실)\n",
    "+ 2) 이른 아침 공복 시에는 동맥과 정맥의 혈당 농도 차이는 10정도, 식후에는 20-25 차이가 있다 (네이버: 내과의사 너구리스)"
   ]
  },
  {
   "cell_type": "code",
   "execution_count": 40,
   "id": "B-AR2GbJpDxc",
   "metadata": {
    "colab": {
     "base_uri": "https://localhost:8080/"
    },
    "executionInfo": {
     "elapsed": 297,
     "status": "ok",
     "timestamp": 1634495456376,
     "user": {
      "displayName": "Joon Chun",
      "photoUrl": "https://lh3.googleusercontent.com/a/default-user=s64",
      "userId": "11589729376972489768"
     },
     "user_tz": -540
    },
    "id": "B-AR2GbJpDxc",
    "outputId": "9c589e3e-7115-4667-f1f0-4e16dcaca120",
    "scrolled": true
   },
   "outputs": [
    {
     "data": {
      "text/plain": [
       "count    968982.000000\n",
       "mean        100.058702\n",
       "std          23.333873\n",
       "min          25.000000\n",
       "25%          88.000000\n",
       "50%          96.000000\n",
       "75%         105.000000\n",
       "max         852.000000\n",
       "Name: fbs, dtype: float64"
      ]
     },
     "execution_count": 40,
     "metadata": {},
     "output_type": "execute_result"
    }
   ],
   "source": [
    "DF_1['fbs'].describe()"
   ]
  },
  {
   "cell_type": "code",
   "execution_count": 41,
   "id": "9XJo5zFjpN98",
   "metadata": {
    "colab": {
     "base_uri": "https://localhost:8080/"
    },
    "executionInfo": {
     "elapsed": 5,
     "status": "ok",
     "timestamp": 1634495456678,
     "user": {
      "displayName": "Joon Chun",
      "photoUrl": "https://lh3.googleusercontent.com/a/default-user=s64",
      "userId": "11589729376972489768"
     },
     "user_tz": -540
    },
    "id": "9XJo5zFjpN98",
    "outputId": "af7c302f-58c1-4921-e73e-1526a8171e5a",
    "scrolled": false
   },
   "outputs": [
    {
     "data": {
      "text/plain": [
       "count    9.689820e+05\n",
       "mean     7.777888e-17\n",
       "std      1.000001e+00\n",
       "min     -3.216729e+00\n",
       "25%     -5.167898e-01\n",
       "50%     -1.739404e-01\n",
       "75%      2.117651e-01\n",
       "max      3.222533e+01\n",
       "Name: fbs, dtype: float64"
      ]
     },
     "execution_count": 41,
     "metadata": {},
     "output_type": "execute_result"
    }
   ],
   "source": [
    "# 표준화한 데이터 체크\n",
    "DF_s['fbs'].describe()"
   ]
  },
  {
   "cell_type": "markdown",
   "id": "ucm2IMmfUIHA",
   "metadata": {
    "id": "ucm2IMmfUIHA"
   },
   "source": [
    "### 1)일반 모델 - sklearn의 linearRegression"
   ]
  },
  {
   "cell_type": "code",
   "execution_count": 42,
   "id": "EQEAf5XpPBBr",
   "metadata": {
    "colab": {
     "base_uri": "https://localhost:8080/"
    },
    "executionInfo": {
     "elapsed": 313,
     "status": "ok",
     "timestamp": 1634495456988,
     "user": {
      "displayName": "Joon Chun",
      "photoUrl": "https://lh3.googleusercontent.com/a/default-user=s64",
      "userId": "11589729376972489768"
     },
     "user_tz": -540
    },
    "id": "EQEAf5XpPBBr",
    "outputId": "7e5eaa6d-a413-483f-c2ef-ea1560c07e01"
   },
   "outputs": [
    {
     "name": "stdout",
     "output_type": "stream",
     "text": [
      "Train Data :  (678287, 8) (678287,)\n",
      "Test Data :  (290695, 8) (290695,)\n"
     ]
    }
   ],
   "source": [
    "X = DF_s[['age', 'sex','city','ht','wt','waist','smoking','alcohol']]\n",
    "y = DF_s['fbs']\n",
    "X_train, X_test, y_train, y_test = train_test_split(X, y,\n",
    "                                                    test_size = 0.3,\n",
    "                                                    random_state = 2045)\n",
    "print('Train Data : ', X_train.shape, y_train.shape)\n",
    "print('Test Data : ', X_test.shape, y_test.shape)"
   ]
  },
  {
   "cell_type": "code",
   "execution_count": 43,
   "id": "bTVyWl99SA4u",
   "metadata": {
    "colab": {
     "base_uri": "https://localhost:8080/"
    },
    "executionInfo": {
     "elapsed": 289,
     "status": "ok",
     "timestamp": 1634495457274,
     "user": {
      "displayName": "Joon Chun",
      "photoUrl": "https://lh3.googleusercontent.com/a/default-user=s64",
      "userId": "11589729376972489768"
     },
     "user_tz": -540
    },
    "id": "bTVyWl99SA4u",
    "outputId": "1e185058-80d0-41a6-bb41-04a594a34da3"
   },
   "outputs": [
    {
     "data": {
      "text/plain": [
       "LinearRegression(copy_X=True, fit_intercept=True, n_jobs=None, normalize=False)"
      ]
     },
     "execution_count": 43,
     "metadata": {},
     "output_type": "execute_result"
    }
   ],
   "source": [
    "fbs_model_1 = LinearRegression()\n",
    "fbs_model_1.fit(X_train, y_train)"
   ]
  },
  {
   "cell_type": "code",
   "execution_count": 44,
   "id": "blantlJ9SYZP",
   "metadata": {
    "executionInfo": {
     "elapsed": 7,
     "status": "ok",
     "timestamp": 1634495457276,
     "user": {
      "displayName": "Joon Chun",
      "photoUrl": "https://lh3.googleusercontent.com/a/default-user=s64",
      "userId": "11589729376972489768"
     },
     "user_tz": -540
    },
    "id": "blantlJ9SYZP"
   },
   "outputs": [],
   "source": [
    "y_hat = fbs_model_1.predict(X_test)"
   ]
  },
  {
   "cell_type": "code",
   "execution_count": 45,
   "id": "vgB79yAsSgu2",
   "metadata": {
    "colab": {
     "base_uri": "https://localhost:8080/"
    },
    "executionInfo": {
     "elapsed": 6,
     "status": "ok",
     "timestamp": 1634495457276,
     "user": {
      "displayName": "Joon Chun",
      "photoUrl": "https://lh3.googleusercontent.com/a/default-user=s64",
      "userId": "11589729376972489768"
     },
     "user_tz": -540
    },
    "id": "vgB79yAsSgu2",
    "outputId": "eee5acbc-6f69-45fe-8a05-e90421726618"
   },
   "outputs": [
    {
     "data": {
      "text/plain": [
       "0.957150352051771"
      ]
     },
     "execution_count": 45,
     "metadata": {},
     "output_type": "execute_result"
    }
   ],
   "source": [
    "mse1 = mean_squared_error(y_test, y_hat)\n",
    "np.sqrt(mse1)"
   ]
  },
  {
   "cell_type": "markdown",
   "id": "muPyWUosT-0F",
   "metadata": {
    "id": "muPyWUosT-0F"
   },
   "source": [
    "### 2) 일반모델 확인 - statsmodels의 linearRegression"
   ]
  },
  {
   "cell_type": "code",
   "execution_count": 46,
   "id": "QsAmZTLpV3wk",
   "metadata": {
    "colab": {
     "base_uri": "https://localhost:8080/"
    },
    "executionInfo": {
     "elapsed": 325,
     "status": "ok",
     "timestamp": 1634495457596,
     "user": {
      "displayName": "Joon Chun",
      "photoUrl": "https://lh3.googleusercontent.com/a/default-user=s64",
      "userId": "11589729376972489768"
     },
     "user_tz": -540
    },
    "id": "QsAmZTLpV3wk",
    "outputId": "4d73bdd6-19b3-4958-8bf4-8fa6edded541"
   },
   "outputs": [
    {
     "data": {
      "text/plain": [
       "((678287, 23), (290695, 23))"
      ]
     },
     "execution_count": 46,
     "metadata": {},
     "output_type": "execute_result"
    }
   ],
   "source": [
    "train_set, test_set = train_test_split(DF_s,\n",
    "                                       test_size = 0.3,\n",
    "                                       random_state = 2045)\n",
    "train_set.shape, test_set.shape"
   ]
  },
  {
   "cell_type": "code",
   "execution_count": 47,
   "id": "eMiJUGfrTw_Z",
   "metadata": {
    "executionInfo": {
     "elapsed": 652,
     "status": "ok",
     "timestamp": 1634495458246,
     "user": {
      "displayName": "Joon Chun",
      "photoUrl": "https://lh3.googleusercontent.com/a/default-user=s64",
      "userId": "11589729376972489768"
     },
     "user_tz": -540
    },
    "id": "eMiJUGfrTw_Z"
   },
   "outputs": [],
   "source": [
    "fbs_model_2 = smf.ols(formula = 'fbs ~ age + sex + city + ht + wt + waist + smoking + alcohol',\n",
    "                      data = train_set).fit()"
   ]
  },
  {
   "cell_type": "code",
   "execution_count": 48,
   "id": "4vKEzejhWHSi",
   "metadata": {
    "executionInfo": {
     "elapsed": 6,
     "status": "ok",
     "timestamp": 1634495458247,
     "user": {
      "displayName": "Joon Chun",
      "photoUrl": "https://lh3.googleusercontent.com/a/default-user=s64",
      "userId": "11589729376972489768"
     },
     "user_tz": -540
    },
    "id": "4vKEzejhWHSi"
   },
   "outputs": [],
   "source": [
    "y_hat_2 = fbs_model_2.predict(test_set[['age', 'sex','city','ht','wt','waist','smoking','alcohol']])"
   ]
  },
  {
   "cell_type": "code",
   "execution_count": 49,
   "id": "4e2yHW7oWYUW",
   "metadata": {
    "colab": {
     "base_uri": "https://localhost:8080/"
    },
    "executionInfo": {
     "elapsed": 5,
     "status": "ok",
     "timestamp": 1634495458247,
     "user": {
      "displayName": "Joon Chun",
      "photoUrl": "https://lh3.googleusercontent.com/a/default-user=s64",
      "userId": "11589729376972489768"
     },
     "user_tz": -540
    },
    "id": "4e2yHW7oWYUW",
    "outputId": "ddcc2b66-edcd-422b-8424-780a1606bf8d"
   },
   "outputs": [
    {
     "data": {
      "text/plain": [
       "0.957150352051771"
      ]
     },
     "execution_count": 49,
     "metadata": {},
     "output_type": "execute_result"
    }
   ],
   "source": [
    "mse2 = mean_squared_error(test_set.fbs, y_hat_2)\n",
    "np.sqrt(mse2)\n"
   ]
  },
  {
   "cell_type": "markdown",
   "id": "WvWx2W6xYhg8",
   "metadata": {
    "id": "WvWx2W6xYhg8"
   },
   "source": [
    "- 1)과2) 당현히 같고 0.96을 거꾸로 실제 값으로 돌려 계산하면 약 23 정도로 평균 100의 혈당치에서 23%의 오차가 남을 알 수 있다.\n",
    "- std          24.102862 * mse = 23.2\n"
   ]
  },
  {
   "cell_type": "markdown",
   "id": "JrQmQjDIq6u1",
   "metadata": {
    "id": "JrQmQjDIq6u1"
   },
   "source": [
    "### 2) 2) bmi 와 absi 를 추가해서 시행"
   ]
  },
  {
   "cell_type": "code",
   "execution_count": 50,
   "id": "fDYFH_FPq6J-",
   "metadata": {
    "colab": {
     "base_uri": "https://localhost:8080/"
    },
    "executionInfo": {
     "elapsed": 298,
     "status": "ok",
     "timestamp": 1634495458542,
     "user": {
      "displayName": "Joon Chun",
      "photoUrl": "https://lh3.googleusercontent.com/a/default-user=s64",
      "userId": "11589729376972489768"
     },
     "user_tz": -540
    },
    "id": "fDYFH_FPq6J-",
    "outputId": "c9ff7eb9-a408-4e3b-e42e-6aac0ac3249b"
   },
   "outputs": [
    {
     "data": {
      "text/plain": [
       "((678287, 23), (290695, 23))"
      ]
     },
     "execution_count": 50,
     "metadata": {},
     "output_type": "execute_result"
    }
   ],
   "source": [
    "train_set, test_set = train_test_split(DF_s,\n",
    "                                       test_size = 0.3,\n",
    "                                       random_state = 2045)\n",
    "train_set.shape, test_set.shape"
   ]
  },
  {
   "cell_type": "code",
   "execution_count": 51,
   "id": "Pic7eeverNLy",
   "metadata": {
    "executionInfo": {
     "elapsed": 1338,
     "status": "ok",
     "timestamp": 1634495459877,
     "user": {
      "displayName": "Joon Chun",
      "photoUrl": "https://lh3.googleusercontent.com/a/default-user=s64",
      "userId": "11589729376972489768"
     },
     "user_tz": -540
    },
    "id": "Pic7eeverNLy"
   },
   "outputs": [],
   "source": [
    "fbs_model_2_2 = smf.ols(formula = 'fbs ~ age + sex + city + ht + wt + waist + smoking + alcohol+ bmi + absi',\n",
    "                      data = train_set).fit()"
   ]
  },
  {
   "cell_type": "code",
   "execution_count": 52,
   "id": "1e5Hs_WZrXWk",
   "metadata": {
    "executionInfo": {
     "elapsed": 10,
     "status": "ok",
     "timestamp": 1634495459877,
     "user": {
      "displayName": "Joon Chun",
      "photoUrl": "https://lh3.googleusercontent.com/a/default-user=s64",
      "userId": "11589729376972489768"
     },
     "user_tz": -540
    },
    "id": "1e5Hs_WZrXWk"
   },
   "outputs": [],
   "source": [
    "y_hat_2_2 = fbs_model_2_2.predict(test_set[['age', 'sex','city','ht','wt','waist','smoking','alcohol','bmi','absi']])"
   ]
  },
  {
   "cell_type": "code",
   "execution_count": 53,
   "id": "Sq9VJGq2rfo-",
   "metadata": {
    "colab": {
     "base_uri": "https://localhost:8080/"
    },
    "executionInfo": {
     "elapsed": 9,
     "status": "ok",
     "timestamp": 1634495459878,
     "user": {
      "displayName": "Joon Chun",
      "photoUrl": "https://lh3.googleusercontent.com/a/default-user=s64",
      "userId": "11589729376972489768"
     },
     "user_tz": -540
    },
    "id": "Sq9VJGq2rfo-",
    "outputId": "cccab287-5495-49bd-9eb1-d0b0c8e1bc85"
   },
   "outputs": [
    {
     "data": {
      "text/plain": [
       "0.9570733928106128"
      ]
     },
     "execution_count": 53,
     "metadata": {},
     "output_type": "execute_result"
    }
   ],
   "source": [
    "mse2_2 = mean_squared_error(test_set.fbs, y_hat_2_2)\n",
    "np.sqrt(mse2_2)"
   ]
  },
  {
   "cell_type": "markdown",
   "id": "l3AT05FlsHjo",
   "metadata": {
    "id": "l3AT05FlsHjo"
   },
   "source": [
    "### bmi 와 absi 를 추가 했을시 향상한점이 보니나 충분하지 못하다."
   ]
  },
  {
   "cell_type": "markdown",
   "id": "j1ATgpeyp_E1",
   "metadata": {
    "id": "j1ATgpeyp_E1"
   },
   "source": [
    "### 3) 변수 다항화 - ABSI 변수 추가해서 \n",
    "- MSE 작을수록 좋은 모델\n",
    "- A Body Shape Index(ABSI) : ABSI waist/(BMI *2/3) * (ht *1/2) = A * waist X wt^2 : 약간 줄어들고,별차의 없음"
   ]
  },
  {
   "cell_type": "code",
   "execution_count": 54,
   "id": "klsmaxvdqEmm",
   "metadata": {
    "executionInfo": {
     "elapsed": 511,
     "status": "ok",
     "timestamp": 1634495460383,
     "user": {
      "displayName": "Joon Chun",
      "photoUrl": "https://lh3.googleusercontent.com/a/default-user=s64",
      "userId": "11589729376972489768"
     },
     "user_tz": -540
    },
    "id": "klsmaxvdqEmm"
   },
   "outputs": [],
   "source": [
    "fbs_model_3 = smf.ols(formula = 'fbs ~ age + sex + city + ht + wt + waist + smoking + alcohol + absi',\n",
    "                      data = train_set).fit()"
   ]
  },
  {
   "cell_type": "code",
   "execution_count": 55,
   "id": "M6htL_IVqWh2",
   "metadata": {
    "executionInfo": {
     "elapsed": 430,
     "status": "ok",
     "timestamp": 1634495460810,
     "user": {
      "displayName": "Joon Chun",
      "photoUrl": "https://lh3.googleusercontent.com/a/default-user=s64",
      "userId": "11589729376972489768"
     },
     "user_tz": -540
    },
    "id": "M6htL_IVqWh2"
   },
   "outputs": [],
   "source": [
    "y_hat_3 = fbs_model_3.predict(test_set[['age', 'sex','ht','wt','city','waist','smoking','alcohol','absi']])"
   ]
  },
  {
   "cell_type": "code",
   "execution_count": 56,
   "id": "3hRZY4X0qzmw",
   "metadata": {
    "colab": {
     "base_uri": "https://localhost:8080/"
    },
    "executionInfo": {
     "elapsed": 5,
     "status": "ok",
     "timestamp": 1634495460811,
     "user": {
      "displayName": "Joon Chun",
      "photoUrl": "https://lh3.googleusercontent.com/a/default-user=s64",
      "userId": "11589729376972489768"
     },
     "user_tz": -540
    },
    "id": "3hRZY4X0qzmw",
    "outputId": "f5f4531d-4531-4879-d80b-0aca53fa2b05"
   },
   "outputs": [
    {
     "name": "stdout",
     "output_type": "stream",
     "text": [
      "0.957150352051771\n",
      "0.9571148973034289\n"
     ]
    }
   ],
   "source": [
    "mse3 = mean_squared_error(test_set.fbs, y_hat_3)\n",
    "\n",
    "print(np.sqrt(mse2))\n",
    "print(np.sqrt(mse3))"
   ]
  },
  {
   "cell_type": "markdown",
   "id": "3qsSYTCIvJ4h",
   "metadata": {
    "id": "3qsSYTCIvJ4h"
   },
   "source": [
    "### 4) 변수 축소 - 변수 최소화 영향 안미치는 변수 제거"
   ]
  },
  {
   "cell_type": "code",
   "execution_count": 57,
   "id": "VMtcSzHq4TTk",
   "metadata": {
    "colab": {
     "base_uri": "https://localhost:8080/"
    },
    "executionInfo": {
     "elapsed": 282,
     "status": "ok",
     "timestamp": 1634495461090,
     "user": {
      "displayName": "Joon Chun",
      "photoUrl": "https://lh3.googleusercontent.com/a/default-user=s64",
      "userId": "11589729376972489768"
     },
     "user_tz": -540
    },
    "id": "VMtcSzHq4TTk",
    "outputId": "6b2dec5b-0636-4546-fb41-e9fb24780da9"
   },
   "outputs": [
    {
     "name": "stdout",
     "output_type": "stream",
     "text": [
      "0.957150352051771\n",
      "0.9575504620396806\n"
     ]
    }
   ],
   "source": [
    "#변수를 최대한 줄인 모델\n",
    "fbs_model_4 = smf.ols(formula = 'fbs ~ age + ht + wt + waist + smoking + alcohol ',\n",
    "                      data = train_set).fit()\n",
    "\n",
    "y_hat_4 = fbs_model_4.predict(test_set[['age', 'sex','ht','wt','city','waist','smoking','alcohol']])\n",
    "\n",
    "mse4 = mean_squared_error(test_set.fbs, y_hat_4)\n",
    "\n",
    "print(np.sqrt(mse2))\n",
    "print(np.sqrt(mse4))"
   ]
  },
  {
   "cell_type": "markdown",
   "id": "53Jqh25LvTtF",
   "metadata": {
    "id": "53Jqh25LvTtF"
   },
   "source": [
    "### 5) 변수 다양화 - 내생각 변수 생성"
   ]
  },
  {
   "cell_type": "code",
   "execution_count": 58,
   "id": "8khWKSbL9auu",
   "metadata": {
    "colab": {
     "base_uri": "https://localhost:8080/"
    },
    "executionInfo": {
     "elapsed": 1011,
     "status": "ok",
     "timestamp": 1634495462097,
     "user": {
      "displayName": "Joon Chun",
      "photoUrl": "https://lh3.googleusercontent.com/a/default-user=s64",
      "userId": "11589729376972489768"
     },
     "user_tz": -540
    },
    "id": "8khWKSbL9auu",
    "outputId": "0c7c80dc-d80b-4ead-db7b-eff6a6cd20ca"
   },
   "outputs": [
    {
     "name": "stdout",
     "output_type": "stream",
     "text": [
      "0.957150352051771\n",
      "0.9569678351373166\n"
     ]
    }
   ],
   "source": [
    "fbs_model_5 = smf.ols(formula = 'fbs ~ age + ht + wt + waist + smoking + alcohol + wt/(waist*ht)',\n",
    "                      data = train_set).fit()\n",
    "\n",
    "y_hat_5 = fbs_model_5.predict(test_set[['age', 'sex','ht','wt','city','waist','smoking','alcohol']])\n",
    "\n",
    "mse5 = mean_squared_error(test_set.fbs, y_hat_5)\n",
    "\n",
    "print(np.sqrt(mse2))\n",
    "print(np.sqrt(mse5))"
   ]
  },
  {
   "cell_type": "code",
   "execution_count": 59,
   "id": "beWaQxOgvquG",
   "metadata": {
    "colab": {
     "base_uri": "https://localhost:8080/"
    },
    "executionInfo": {
     "elapsed": 729,
     "status": "ok",
     "timestamp": 1634495462823,
     "user": {
      "displayName": "Joon Chun",
      "photoUrl": "https://lh3.googleusercontent.com/a/default-user=s64",
      "userId": "11589729376972489768"
     },
     "user_tz": -540
    },
    "id": "beWaQxOgvquG",
    "outputId": "d3061778-242f-4b25-de22-14c9f8b70a2e"
   },
   "outputs": [
    {
     "name": "stdout",
     "output_type": "stream",
     "text": [
      "0.957150352051771\n",
      "0.9572123497524354\n"
     ]
    }
   ],
   "source": [
    "fbs_model_6 = smf.ols(formula = 'fbs ~ age + ht + wt + waist + smoking + alcohol + ht/(waist*wt)',\n",
    "                      data = train_set).fit()\n",
    "\n",
    "y_hat_6 = fbs_model_6.predict(test_set[['age', 'sex','ht','wt','city','waist','smoking','alcohol']])\n",
    "\n",
    "mse6 = mean_squared_error(test_set.fbs, y_hat_6)\n",
    "\n",
    "print(np.sqrt(mse2))\n",
    "print(np.sqrt(mse6))"
   ]
  },
  {
   "cell_type": "markdown",
   "id": "217b928f",
   "metadata": {
    "id": "217b928f"
   },
   "source": [
    "### 6) 코드 다시 모아서 실행"
   ]
  },
  {
   "cell_type": "code",
   "execution_count": 345,
   "id": "413e64e4",
   "metadata": {
    "colab": {
     "base_uri": "https://localhost:8080/"
    },
    "executionInfo": {
     "elapsed": 286,
     "status": "ok",
     "timestamp": 1634500047261,
     "user": {
      "displayName": "Joon Chun",
      "photoUrl": "https://lh3.googleusercontent.com/a/default-user=s64",
      "userId": "11589729376972489768"
     },
     "user_tz": -540
    },
    "id": "413e64e4",
    "outputId": "9057329d-6433-4a57-d875-12e1e770fe9e"
   },
   "outputs": [
    {
     "data": {
      "text/plain": [
       "count    968972.000000\n",
       "mean        100.052567\n",
       "std          23.253971\n",
       "min          25.000000\n",
       "25%          88.000000\n",
       "50%          96.000000\n",
       "75%         105.000000\n",
       "max         599.000000\n",
       "Name: fbs, dtype: float64"
      ]
     },
     "execution_count": 345,
     "metadata": {},
     "output_type": "execute_result"
    }
   ],
   "source": [
    "# DF_a = DF\n",
    "DF_a = DF_1\n",
    "# DF_a = DF_s\n",
    "# DF_a = DF_n\n",
    "DF_a['fbs'].describe()"
   ]
  },
  {
   "cell_type": "code",
   "execution_count": 61,
   "id": "d883ac9a",
   "metadata": {
    "colab": {
     "base_uri": "https://localhost:8080/"
    },
    "executionInfo": {
     "elapsed": 1628,
     "status": "ok",
     "timestamp": 1634495464449,
     "user": {
      "displayName": "Joon Chun",
      "photoUrl": "https://lh3.googleusercontent.com/a/default-user=s64",
      "userId": "11589729376972489768"
     },
     "user_tz": -540
    },
    "id": "d883ac9a",
    "outputId": "6a5fd82a-cf33-43a2-ffbc-1d4c23f3815f",
    "scrolled": true
   },
   "outputs": [
    {
     "data": {
      "text/plain": [
       "0.02700388998923296"
      ]
     },
     "execution_count": 61,
     "metadata": {},
     "output_type": "execute_result"
    }
   ],
   "source": [
    "X = DF_a[['age', 'sex','city','ht','wt','waist','smoking','alcohol','bmi','absi']]\n",
    "y = DF_a['fbs']\n",
    "\n",
    "train_set, test_set = train_test_split(DF_a,\n",
    "                                       test_size = 0.3,\n",
    "                                       random_state = 2045)\n",
    "train_set.shape, test_set.shape\n",
    "\n",
    "fbs_model_a = smf.ols(formula = 'fbs ~ age + sex + city + ht + wt + waist + smoking + alcohol + bmi + absi',\n",
    "                      data = train_set).fit()\n",
    "\n",
    "y_hat_a = fbs_model_a.predict(test_set[['age', 'sex','city','ht','wt','waist','smoking','alcohol','bmi','absi']])\n",
    "\n",
    "mse_a = mean_squared_error(test_set.fbs, y_hat_a)\n",
    "np.sqrt(mse_a)\n"
   ]
  },
  {
   "cell_type": "markdown",
   "id": "89d3f010",
   "metadata": {
    "id": "89d3f010"
   },
   "source": [
    "### - sns 으로 해보기"
   ]
  },
  {
   "cell_type": "code",
   "execution_count": 62,
   "id": "d64251a1",
   "metadata": {
    "colab": {
     "base_uri": "https://localhost:8080/"
    },
    "executionInfo": {
     "elapsed": 324,
     "status": "ok",
     "timestamp": 1634495464769,
     "user": {
      "displayName": "Joon Chun",
      "photoUrl": "https://lh3.googleusercontent.com/a/default-user=s64",
      "userId": "11589729376972489768"
     },
     "user_tz": -540
    },
    "id": "d64251a1",
    "outputId": "7eca75b1-7f13-4e7a-cd40-2bd7b7b52217"
   },
   "outputs": [
    {
     "name": "stdout",
     "output_type": "stream",
     "text": [
      "Train Data :  (678287, 10) (678287,)\n",
      "Test Data :  (290695, 10) (290695,)\n"
     ]
    },
    {
     "data": {
      "text/plain": [
       "0.027003889989232963"
      ]
     },
     "execution_count": 62,
     "metadata": {},
     "output_type": "execute_result"
    }
   ],
   "source": [
    "X = DF_a[['age', 'sex','city','ht','wt','waist','smoking','alcohol', 'bmi', 'absi']]\n",
    "y = DF_a['fbs']\n",
    "X_train, X_test, y_train, y_test = train_test_split(X, y,\n",
    "                                                    test_size = 0.3,\n",
    "                                                    random_state = 2045)\n",
    "print('Train Data : ', X_train.shape, y_train.shape)\n",
    "print('Test Data : ', X_test.shape, y_test.shape)\n",
    "\n",
    "fbs_model_a = LinearRegression()\n",
    "fbs_model_a.fit(X_train, y_train)\n",
    "\n",
    "y_hat_a = fbs_model_a.predict(X_test)\n",
    "\n",
    "mse_a = mean_squared_error(y_test, y_hat_a)\n",
    "np.sqrt(mse_a)"
   ]
  },
  {
   "cell_type": "markdown",
   "id": "UzsTYxxuF25y",
   "metadata": {
    "id": "UzsTYxxuF25y"
   },
   "source": [
    "### 7)재미를 위해 x변수 중 하나를 y로, y를 x로"
   ]
  },
  {
   "cell_type": "code",
   "execution_count": 62,
   "id": "jMYDnY-YxO3K",
   "metadata": {
    "executionInfo": {
     "elapsed": 9,
     "status": "ok",
     "timestamp": 1634495464770,
     "user": {
      "displayName": "Joon Chun",
      "photoUrl": "https://lh3.googleusercontent.com/a/default-user=s64",
      "userId": "11589729376972489768"
     },
     "user_tz": -540
    },
    "id": "jMYDnY-YxO3K"
   },
   "outputs": [],
   "source": []
  },
  {
   "cell_type": "markdown",
   "id": "AmPNlMacqmXu",
   "metadata": {
    "id": "AmPNlMacqmXu"
   },
   "source": [
    "## V. 1) 모델링 - 공복혈당 추론하기 - Decision Tree\n",
    "- 혈당수치가 연속적을 나와있어 분류모델을 적용하기 위해 레이블을 붙여 넣었음.\n",
    "- -99 정상, 100-125 당뇨 전단계, 126이상 당뇨\n",
    "- 만약 레이블이 없다면 최소단위\n"
   ]
  },
  {
   "cell_type": "markdown",
   "id": "t-eEXbqh5sR7",
   "metadata": {
    "id": "t-eEXbqh5sR7"
   },
   "source": [
    "### 1) 1) 4그룹 분류 Decision Tree"
   ]
  },
  {
   "cell_type": "code",
   "execution_count": 63,
   "id": "Vyy_7Lhj0nJH",
   "metadata": {
    "colab": {
     "base_uri": "https://localhost:8080/"
    },
    "executionInfo": {
     "elapsed": 5,
     "status": "ok",
     "timestamp": 1634495467421,
     "user": {
      "displayName": "Joon Chun",
      "photoUrl": "https://lh3.googleusercontent.com/a/default-user=s64",
      "userId": "11589729376972489768"
     },
     "user_tz": -540
    },
    "id": "Vyy_7Lhj0nJH",
    "outputId": "467b2bef-8e70-48a8-89e1-49a96b3385df",
    "scrolled": true
   },
   "outputs": [
    {
     "data": {
      "text/plain": [
       "0    580056\n",
       "1    313798\n",
       "2     65756\n",
       "3      9372\n",
       "Name: fbs_L, dtype: int64"
      ]
     },
     "execution_count": 63,
     "metadata": {},
     "output_type": "execute_result"
    }
   ],
   "source": [
    "DF_1['fbs_L'].value_counts()"
   ]
  },
  {
   "cell_type": "code",
   "execution_count": 64,
   "id": "csmu3hZp1yyF",
   "metadata": {
    "colab": {
     "base_uri": "https://localhost:8080/"
    },
    "executionInfo": {
     "elapsed": 459,
     "status": "ok",
     "timestamp": 1634495467877,
     "user": {
      "displayName": "Joon Chun",
      "photoUrl": "https://lh3.googleusercontent.com/a/default-user=s64",
      "userId": "11589729376972489768"
     },
     "user_tz": -540
    },
    "id": "csmu3hZp1yyF",
    "outputId": "5641be86-1518-42d7-ad5e-ff20d82d6fe2"
   },
   "outputs": [
    {
     "name": "stdout",
     "output_type": "stream",
     "text": [
      "Train Data :  (678287, 10) (678287,)\n",
      "Test Data :  (290695, 10) (290695,)\n"
     ]
    }
   ],
   "source": [
    "X = DF_1[['age', 'sex','city','ht','wt','waist','smoking','alcohol','bmi','absi']]\n",
    "y = DF_1['fbs_L']\n",
    "\n",
    "X_train, X_test, y_train, y_test = train_test_split(X, y,\n",
    "                                                    test_size = 0.3,\n",
    "                                                    random_state = 2045)\n",
    "print('Train Data : ', X_train.shape, y_train.shape)\n",
    "print('Test Data : ', X_test.shape, y_test.shape)"
   ]
  },
  {
   "cell_type": "code",
   "execution_count": 65,
   "id": "1Gj8FQax3XGP",
   "metadata": {
    "colab": {
     "base_uri": "https://localhost:8080/"
    },
    "executionInfo": {
     "elapsed": 5064,
     "status": "ok",
     "timestamp": 1634495472938,
     "user": {
      "displayName": "Joon Chun",
      "photoUrl": "https://lh3.googleusercontent.com/a/default-user=s64",
      "userId": "11589729376972489768"
     },
     "user_tz": -540
    },
    "id": "1Gj8FQax3XGP",
    "outputId": "38c04c21-1ff0-4f71-a888-e04a8a7a5474"
   },
   "outputs": [
    {
     "data": {
      "text/plain": [
       "DecisionTreeClassifier(ccp_alpha=0.0, class_weight=None, criterion='gini',\n",
       "                       max_depth=None, max_features=None, max_leaf_nodes=None,\n",
       "                       min_impurity_decrease=0.0, min_impurity_split=None,\n",
       "                       min_samples_leaf=1, min_samples_split=2,\n",
       "                       min_weight_fraction_leaf=0.0, presort='deprecated',\n",
       "                       random_state=2045, splitter='best')"
      ]
     },
     "execution_count": 65,
     "metadata": {},
     "output_type": "execute_result"
    }
   ],
   "source": [
    "Model_dt1 = DecisionTreeClassifier(random_state = 2045)\n",
    "# Model_dt = DecisionTreeClassifier(max_depth = 3,\n",
    "#                                   random_state = 2045)\n",
    "Model_dt1.fit(X_train, y_train)"
   ]
  },
  {
   "cell_type": "code",
   "execution_count": 66,
   "id": "W4DzBmCo3i2P",
   "metadata": {
    "executionInfo": {
     "elapsed": 8,
     "status": "ok",
     "timestamp": 1634495472939,
     "user": {
      "displayName": "Joon Chun",
      "photoUrl": "https://lh3.googleusercontent.com/a/default-user=s64",
      "userId": "11589729376972489768"
     },
     "user_tz": -540
    },
    "id": "W4DzBmCo3i2P"
   },
   "outputs": [],
   "source": [
    "# 시간이 오래걸림\n",
    "# graphviz.Source(export_graphviz(Model_dt1,\n",
    "#                                 class_names = (['0', '1', '2']),\n",
    "#                                 feature_names = (['age', 'sex','city','ht','wt','waist','smoking','alcohol','bmi','absi']),\n",
    "#                                 filled = True))"
   ]
  },
  {
   "cell_type": "code",
   "execution_count": 67,
   "id": "zoImB0ud4Eiq",
   "metadata": {
    "colab": {
     "base_uri": "https://localhost:8080/"
    },
    "executionInfo": {
     "elapsed": 7,
     "status": "ok",
     "timestamp": 1634495472939,
     "user": {
      "displayName": "Joon Chun",
      "photoUrl": "https://lh3.googleusercontent.com/a/default-user=s64",
      "userId": "11589729376972489768"
     },
     "user_tz": -540
    },
    "id": "zoImB0ud4Eiq",
    "outputId": "a8b58a5c-ba93-4eee-a3c8-e9f6a06706aa"
   },
   "outputs": [
    {
     "data": {
      "text/plain": [
       "array([0, 0, 0, ..., 2, 1, 1])"
      ]
     },
     "execution_count": 67,
     "metadata": {},
     "output_type": "execute_result"
    }
   ],
   "source": [
    "y_hat1 = Model_dt1.predict(X_test)\n",
    "y_hat1\n"
   ]
  },
  {
   "cell_type": "code",
   "execution_count": 68,
   "id": "JAevMBXW4JdJ",
   "metadata": {
    "colab": {
     "base_uri": "https://localhost:8080/"
    },
    "executionInfo": {
     "elapsed": 6,
     "status": "ok",
     "timestamp": 1634495472940,
     "user": {
      "displayName": "Joon Chun",
      "photoUrl": "https://lh3.googleusercontent.com/a/default-user=s64",
      "userId": "11589729376972489768"
     },
     "user_tz": -540
    },
    "id": "JAevMBXW4JdJ",
    "outputId": "bc683bd3-7951-4f42-e758-71b21f79423b"
   },
   "outputs": [
    {
     "data": {
      "text/plain": [
       "array([[126198,  40911,   6092,    862],\n",
       "       [ 59358,  28684,   5424,    737],\n",
       "       [ 10777,   6906,   1721,    206],\n",
       "       [  1597,    967,    219,     36]])"
      ]
     },
     "execution_count": 68,
     "metadata": {},
     "output_type": "execute_result"
    }
   ],
   "source": [
    "confusion_matrix(y_test, y_hat1)"
   ]
  },
  {
   "cell_type": "code",
   "execution_count": 69,
   "id": "MFj5b4LoBExz",
   "metadata": {
    "colab": {
     "base_uri": "https://localhost:8080/",
     "height": 0
    },
    "executionInfo": {
     "elapsed": 451,
     "status": "ok",
     "timestamp": 1634495473386,
     "user": {
      "displayName": "Joon Chun",
      "photoUrl": "https://lh3.googleusercontent.com/a/default-user=s64",
      "userId": "11589729376972489768"
     },
     "user_tz": -540
    },
    "id": "MFj5b4LoBExz",
    "outputId": "2c67af5e-800e-4e55-aef6-b4331d8fb844"
   },
   "outputs": [
    {
     "data": {
      "image/png": "[encoded data removed]",
      "text/plain": [
       "<Figure size 648x432 with 1 Axes>"
      ]
     },
     "metadata": {
      "needs_background": "light"
     },
     "output_type": "display_data"
    }
   ],
   "source": [
    "plt.figure(figsize=(9, 6))\n",
    "sns.barplot(Model_dt1.feature_importances_, ['age', 'sex','city','ht','wt','waist','smoking','alcohol','bmi','absi'])\n",
    "plt.show()"
   ]
  },
  {
   "cell_type": "markdown",
   "id": "w2jBoh8yvDvg",
   "metadata": {
    "id": "w2jBoh8yvDvg"
   },
   "source": [
    "### 1) 2) 변수 최대한 줄여보기, 복합변수는 넣기"
   ]
  },
  {
   "cell_type": "code",
   "execution_count": 70,
   "id": "pVpNjjYPvDV5",
   "metadata": {
    "colab": {
     "base_uri": "https://localhost:8080/"
    },
    "executionInfo": {
     "elapsed": 2991,
     "status": "ok",
     "timestamp": 1634495476372,
     "user": {
      "displayName": "Joon Chun",
      "photoUrl": "https://lh3.googleusercontent.com/a/default-user=s64",
      "userId": "11589729376972489768"
     },
     "user_tz": -540
    },
    "id": "pVpNjjYPvDV5",
    "outputId": "499c9b58-b918-4c52-cbab-3de941bddbea"
   },
   "outputs": [
    {
     "name": "stdout",
     "output_type": "stream",
     "text": [
      "Train Data :  (678287, 6) (678287,)\n",
      "Test Data :  (290695, 6) (290695,)\n"
     ]
    },
    {
     "data": {
      "text/plain": [
       "array([[141274,  30056,   2431,    302],\n",
       "       [ 66999,  24565,   2405,    234],\n",
       "       [ 12044,   6646,    831,     89],\n",
       "       [  1848,    835,    119,     17]])"
      ]
     },
     "execution_count": 70,
     "metadata": {},
     "output_type": "execute_result"
    }
   ],
   "source": [
    "X = DF_1[['age', 'sex','smoking','alcohol','bmi','absi']]\n",
    "y = DF_1['fbs_L']\n",
    "\n",
    "X_train, X_test, y_train, y_test = train_test_split(X, y,\n",
    "                                                    test_size = 0.3,\n",
    "                                                    random_state = 2045)\n",
    "print('Train Data : ', X_train.shape, y_train.shape)\n",
    "print('Test Data : ', X_test.shape, y_test.shape)\n",
    "\n",
    "\n",
    "Model_dt1_2 = DecisionTreeClassifier(random_state = 2045)\n",
    "# Model_dt1_2 = DecisionTreeClassifier(max_depth = 3,\n",
    "#                                   random_state = 2045)\n",
    "Model_dt1_2.fit(X_train, y_train)\n",
    "\n",
    "\n",
    "y_hat1_2 = Model_dt1_2.predict(X_test)\n",
    "confusion_matrix(y_test, y_hat1_2)"
   ]
  },
  {
   "cell_type": "code",
   "execution_count": 71,
   "id": "EeuaLWnLEpSb",
   "metadata": {
    "colab": {
     "base_uri": "https://localhost:8080/",
     "height": 0
    },
    "executionInfo": {
     "elapsed": 11,
     "status": "ok",
     "timestamp": 1634495476374,
     "user": {
      "displayName": "Joon Chun",
      "photoUrl": "https://lh3.googleusercontent.com/a/default-user=s64",
      "userId": "11589729376972489768"
     },
     "user_tz": -540
    },
    "id": "EeuaLWnLEpSb",
    "outputId": "b8bc5405-0d38-46f1-ca0e-a4fe0633e003"
   },
   "outputs": [
    {
     "data": {
      "image/png": "[encoded data removed]",
      "text/plain": [
       "<Figure size 648x432 with 1 Axes>"
      ]
     },
     "metadata": {
      "needs_background": "light"
     },
     "output_type": "display_data"
    }
   ],
   "source": [
    "plt.figure(figsize=(9, 6))\n",
    "sns.barplot(Model_dt1_2.feature_importances_, ['age', 'sex','smoking','alcohol','bmi','absi'])\n",
    "plt.show()"
   ]
  },
  {
   "cell_type": "markdown",
   "id": "IfCNXMw0wMEl",
   "metadata": {
    "id": "IfCNXMw0wMEl"
   },
   "source": [
    "- 정상 분리는 많아졌으나 중요한 위험군과 당뇨 범위 정확도는 낮아짐"
   ]
  },
  {
   "cell_type": "markdown",
   "id": "d4S-8XqA5zwc",
   "metadata": {
    "id": "d4S-8XqA5zwc"
   },
   "source": [
    "### 2) 1) 2그룹 분류 (fbs_L2): 일반+ 위험군 : 당뇨"
   ]
  },
  {
   "cell_type": "code",
   "execution_count": 72,
   "id": "k_brqq7u6JG0",
   "metadata": {
    "colab": {
     "base_uri": "https://localhost:8080/"
    },
    "executionInfo": {
     "elapsed": 9,
     "status": "ok",
     "timestamp": 1634495476375,
     "user": {
      "displayName": "Joon Chun",
      "photoUrl": "https://lh3.googleusercontent.com/a/default-user=s64",
      "userId": "11589729376972489768"
     },
     "user_tz": -540
    },
    "id": "k_brqq7u6JG0",
    "outputId": "4af2bbb3-df00-433f-b1b2-355673de4ab4",
    "scrolled": true
   },
   "outputs": [
    {
     "data": {
      "text/plain": [
       "0    893854\n",
       "1     75128\n",
       "Name: fbs_L2, dtype: int64"
      ]
     },
     "execution_count": 72,
     "metadata": {},
     "output_type": "execute_result"
    }
   ],
   "source": [
    "DF_1['fbs_L2'].value_counts()"
   ]
  },
  {
   "cell_type": "code",
   "execution_count": 73,
   "id": "VEGRvRtI6Uc3",
   "metadata": {
    "colab": {
     "base_uri": "https://localhost:8080/"
    },
    "executionInfo": {
     "elapsed": 407,
     "status": "ok",
     "timestamp": 1634495476775,
     "user": {
      "displayName": "Joon Chun",
      "photoUrl": "https://lh3.googleusercontent.com/a/default-user=s64",
      "userId": "11589729376972489768"
     },
     "user_tz": -540
    },
    "id": "VEGRvRtI6Uc3",
    "outputId": "bfcb9572-9bca-4f7f-fef4-2ceab8a3816f"
   },
   "outputs": [
    {
     "name": "stdout",
     "output_type": "stream",
     "text": [
      "Train Data :  (678287, 10) (678287,)\n",
      "Test Data :  (290695, 10) (290695,)\n"
     ]
    }
   ],
   "source": [
    "X = DF_1[['age', 'sex','city','ht','wt','waist','smoking','alcohol','bmi','absi']]\n",
    "y = DF_1['fbs_L2']\n",
    "\n",
    "X_train, X_test, y_train, y_test = train_test_split(X, y,\n",
    "                                                    test_size = 0.3,\n",
    "                                                    random_state = 2045)\n",
    "print('Train Data : ', X_train.shape, y_train.shape)\n",
    "print('Test Data : ', X_test.shape, y_test.shape)"
   ]
  },
  {
   "cell_type": "code",
   "execution_count": 74,
   "id": "rL_O2Reg6ZK6",
   "metadata": {
    "colab": {
     "base_uri": "https://localhost:8080/"
    },
    "executionInfo": {
     "elapsed": 4437,
     "status": "ok",
     "timestamp": 1634495481209,
     "user": {
      "displayName": "Joon Chun",
      "photoUrl": "https://lh3.googleusercontent.com/a/default-user=s64",
      "userId": "11589729376972489768"
     },
     "user_tz": -540
    },
    "id": "rL_O2Reg6ZK6",
    "outputId": "d4a50d30-fce5-4315-b168-a2dcc826897c"
   },
   "outputs": [
    {
     "data": {
      "text/plain": [
       "DecisionTreeClassifier(ccp_alpha=0.0, class_weight=None, criterion='gini',\n",
       "                       max_depth=None, max_features=None, max_leaf_nodes=None,\n",
       "                       min_impurity_decrease=0.0, min_impurity_split=None,\n",
       "                       min_samples_leaf=1, min_samples_split=2,\n",
       "                       min_weight_fraction_leaf=0.0, presort='deprecated',\n",
       "                       random_state=2045, splitter='best')"
      ]
     },
     "execution_count": 74,
     "metadata": {},
     "output_type": "execute_result"
    }
   ],
   "source": [
    "Model_dt_2 = DecisionTreeClassifier(random_state = 2045)\n",
    "# Model_dt_2 = DecisionTreeClassifier(max_depth = 2,\n",
    "#                                   random_state = 2045)\n",
    "Model_dt_2.fit(X_train, y_train)"
   ]
  },
  {
   "cell_type": "code",
   "execution_count": 75,
   "id": "05XdyE1x6rg8",
   "metadata": {
    "colab": {
     "base_uri": "https://localhost:8080/"
    },
    "executionInfo": {
     "elapsed": 15,
     "status": "ok",
     "timestamp": 1634495481210,
     "user": {
      "displayName": "Joon Chun",
      "photoUrl": "https://lh3.googleusercontent.com/a/default-user=s64",
      "userId": "11589729376972489768"
     },
     "user_tz": -540
    },
    "id": "05XdyE1x6rg8",
    "outputId": "db5e6177-5cdb-42f1-ceab-d7892153e887"
   },
   "outputs": [
    {
     "data": {
      "text/plain": [
       "array([0, 0, 0, ..., 1, 0, 0])"
      ]
     },
     "execution_count": 75,
     "metadata": {},
     "output_type": "execute_result"
    }
   ],
   "source": [
    "y_hat2 = Model_dt_2.predict(X_test)\n",
    "y_hat2\n"
   ]
  },
  {
   "cell_type": "code",
   "execution_count": 76,
   "id": "mPN-SrlC7EXU",
   "metadata": {
    "executionInfo": {
     "elapsed": 12,
     "status": "ok",
     "timestamp": 1634495481210,
     "user": {
      "displayName": "Joon Chun",
      "photoUrl": "https://lh3.googleusercontent.com/a/default-user=s64",
      "userId": "11589729376972489768"
     },
     "user_tz": -540
    },
    "id": "mPN-SrlC7EXU"
   },
   "outputs": [],
   "source": [
    "# 시간이 많이 걸림\n",
    "# graphviz.Source(export_graphviz(Model_dt_2,\n",
    "#                                 class_names = (['0', '1']),\n",
    "#                                 feature_names = (['age', 'sex','city','ht','wt','waist','smoking','alcohol']),\n",
    "#                                 filled = True))"
   ]
  },
  {
   "cell_type": "code",
   "execution_count": 77,
   "id": "9TtDssMC60Zx",
   "metadata": {
    "colab": {
     "base_uri": "https://localhost:8080/"
    },
    "executionInfo": {
     "elapsed": 635,
     "status": "ok",
     "timestamp": 1634495481833,
     "user": {
      "displayName": "Joon Chun",
      "photoUrl": "https://lh3.googleusercontent.com/a/default-user=s64",
      "userId": "11589729376972489768"
     },
     "user_tz": -540
    },
    "id": "9TtDssMC60Zx",
    "outputId": "1a4c0932-29d7-436d-980c-d18f17cbd24b"
   },
   "outputs": [
    {
     "name": "stdout",
     "output_type": "stream",
     "text": [
      "[[254302  13964]\n",
      " [ 20149   2280]]\n",
      "accuray :  0.8826502003818435\n",
      "prescision : 0.1403595173602561\n",
      "recall : 0.10165410852021936\n"
     ]
    }
   ],
   "source": [
    "print(confusion_matrix(y_test, y_hat2))\n",
    "print('accuray : ' , accuracy_score(y_test, y_hat2))\n",
    "print('prescision :' , precision_score(y_test, y_hat2))\n",
    "print('recall :' , recall_score(y_test, y_hat2))"
   ]
  },
  {
   "cell_type": "code",
   "execution_count": 78,
   "id": "qx4lBjTsFHNB",
   "metadata": {
    "colab": {
     "base_uri": "https://localhost:8080/",
     "height": 0
    },
    "executionInfo": {
     "elapsed": 73,
     "status": "ok",
     "timestamp": 1634495481839,
     "user": {
      "displayName": "Joon Chun",
      "photoUrl": "https://lh3.googleusercontent.com/a/default-user=s64",
      "userId": "11589729376972489768"
     },
     "user_tz": -540
    },
    "id": "qx4lBjTsFHNB",
    "outputId": "6d0451e7-a98d-445d-88d4-5a013995a2f2"
   },
   "outputs": [
    {
     "data": {
      "image/png": "[encoded data removed]",
      "text/plain": [
       "<Figure size 648x432 with 1 Axes>"
      ]
     },
     "metadata": {
      "needs_background": "light"
     },
     "output_type": "display_data"
    }
   ],
   "source": [
    "plt.figure(figsize=(9, 6))\n",
    "sns.barplot(Model_dt_2.feature_importances_, ['age', 'sex','city','ht','wt','waist','smoking','alcohol','bmi','absi'])\n",
    "plt.show()"
   ]
  },
  {
   "cell_type": "markdown",
   "id": "t5w9gnRtxJ3Z",
   "metadata": {
    "id": "t5w9gnRtxJ3Z"
   },
   "source": [
    "### 2) 2) 2그룹으로 분류 (fbs_L3) : 일반 : 위험+당뇨"
   ]
  },
  {
   "cell_type": "code",
   "execution_count": 79,
   "id": "ILiHAIbvx3Lq",
   "metadata": {
    "colab": {
     "base_uri": "https://localhost:8080/"
    },
    "executionInfo": {
     "elapsed": 67,
     "status": "ok",
     "timestamp": 1634495481841,
     "user": {
      "displayName": "Joon Chun",
      "photoUrl": "https://lh3.googleusercontent.com/a/default-user=s64",
      "userId": "11589729376972489768"
     },
     "user_tz": -540
    },
    "id": "ILiHAIbvx3Lq",
    "outputId": "dd317b35-d9c5-408e-cf5f-dc9f752709ec"
   },
   "outputs": [
    {
     "data": {
      "text/plain": [
       "0    580056\n",
       "1    388926\n",
       "Name: fbs_L3, dtype: int64"
      ]
     },
     "execution_count": 79,
     "metadata": {},
     "output_type": "execute_result"
    }
   ],
   "source": [
    "DF_1['fbs_L3'].value_counts()"
   ]
  },
  {
   "cell_type": "code",
   "execution_count": 80,
   "id": "7XI1LNAcx_YY",
   "metadata": {
    "colab": {
     "base_uri": "https://localhost:8080/"
    },
    "executionInfo": {
     "elapsed": 67,
     "status": "ok",
     "timestamp": 1634495481844,
     "user": {
      "displayName": "Joon Chun",
      "photoUrl": "https://lh3.googleusercontent.com/a/default-user=s64",
      "userId": "11589729376972489768"
     },
     "user_tz": -540
    },
    "id": "7XI1LNAcx_YY",
    "outputId": "3d8e9d6a-4dd1-4c7d-bcaa-5d521f94ae5d"
   },
   "outputs": [
    {
     "name": "stdout",
     "output_type": "stream",
     "text": [
      "Train Data :  (678287, 10) (678287,)\n",
      "Test Data :  (290695, 10) (290695,)\n"
     ]
    }
   ],
   "source": [
    "X = DF_1[['age', 'sex','city','ht','wt','waist','smoking','alcohol','bmi','absi']]\n",
    "y = DF_1['fbs_L3']\n",
    "\n",
    "X_train, X_test, y_train, y_test = train_test_split(X, y,\n",
    "                                                    test_size = 0.3,\n",
    "                                                    random_state = 2045)\n",
    "print('Train Data : ', X_train.shape, y_train.shape)\n",
    "print('Test Data : ', X_test.shape, y_test.shape)"
   ]
  },
  {
   "cell_type": "code",
   "execution_count": 81,
   "id": "pM9oqHhhyE5o",
   "metadata": {
    "colab": {
     "base_uri": "https://localhost:8080/"
    },
    "executionInfo": {
     "elapsed": 4421,
     "status": "ok",
     "timestamp": 1634495486203,
     "user": {
      "displayName": "Joon Chun",
      "photoUrl": "https://lh3.googleusercontent.com/a/default-user=s64",
      "userId": "11589729376972489768"
     },
     "user_tz": -540
    },
    "id": "pM9oqHhhyE5o",
    "outputId": "0150c9a4-c397-4ce2-c3e6-43ce56be6fbc"
   },
   "outputs": [
    {
     "data": {
      "text/plain": [
       "DecisionTreeClassifier(ccp_alpha=0.0, class_weight=None, criterion='gini',\n",
       "                       max_depth=None, max_features=None, max_leaf_nodes=None,\n",
       "                       min_impurity_decrease=0.0, min_impurity_split=None,\n",
       "                       min_samples_leaf=1, min_samples_split=2,\n",
       "                       min_weight_fraction_leaf=0.0, presort='deprecated',\n",
       "                       random_state=2045, splitter='best')"
      ]
     },
     "execution_count": 81,
     "metadata": {},
     "output_type": "execute_result"
    }
   ],
   "source": [
    "Model_dt_2_2 = DecisionTreeClassifier(random_state = 2045)\n",
    "# Model_dt_2_2 = DecisionTreeClassifier(max_depth = 2,\n",
    "#                                   random_state = 2045)\n",
    "Model_dt_2_2.fit(X_train, y_train)"
   ]
  },
  {
   "cell_type": "code",
   "execution_count": 82,
   "id": "uM4VT5LLyMKY",
   "metadata": {
    "colab": {
     "base_uri": "https://localhost:8080/"
    },
    "executionInfo": {
     "elapsed": 693,
     "status": "ok",
     "timestamp": 1634495486893,
     "user": {
      "displayName": "Joon Chun",
      "photoUrl": "https://lh3.googleusercontent.com/a/default-user=s64",
      "userId": "11589729376972489768"
     },
     "user_tz": -540
    },
    "id": "uM4VT5LLyMKY",
    "outputId": "8f256d5d-f667-4d33-ad53-8de64e0ef05c"
   },
   "outputs": [
    {
     "name": "stdout",
     "output_type": "stream",
     "text": [
      "[[123661  50402]\n",
      " [ 69229  47403]]\n",
      "accuray :  0.5884655738832797\n",
      "prescision : 0.48466847298195387\n",
      "recall : 0.40643219699567873\n"
     ]
    }
   ],
   "source": [
    "y_hat2_2 = Model_dt_2_2.predict(X_test)\n",
    "\n",
    "print(confusion_matrix(y_test, y_hat2_2))\n",
    "print('accuray : ' , accuracy_score(y_test, y_hat2_2))\n",
    "print('prescision :' , precision_score(y_test, y_hat2_2))\n",
    "print('recall :' , recall_score(y_test, y_hat2_2))"
   ]
  },
  {
   "cell_type": "code",
   "execution_count": 83,
   "id": "eRLLRdrXFiIV",
   "metadata": {
    "colab": {
     "base_uri": "https://localhost:8080/",
     "height": 0
    },
    "executionInfo": {
     "elapsed": 462,
     "status": "ok",
     "timestamp": 1634495487351,
     "user": {
      "displayName": "Joon Chun",
      "photoUrl": "https://lh3.googleusercontent.com/a/default-user=s64",
      "userId": "11589729376972489768"
     },
     "user_tz": -540
    },
    "id": "eRLLRdrXFiIV",
    "outputId": "7033b472-0063-4c7a-b073-74dce175edc7"
   },
   "outputs": [
    {
     "data": {
      "image/png": "[encoded data removed]",
      "text/plain": [
       "<Figure size 648x432 with 1 Axes>"
      ]
     },
     "metadata": {
      "needs_background": "light"
     },
     "output_type": "display_data"
    }
   ],
   "source": [
    "plt.figure(figsize=(9, 6))\n",
    "sns.barplot(Model_dt_2_2.feature_importances_, ['age', 'sex','city','ht','wt','waist','smoking','alcohol','bmi','absi'])\n",
    "plt.show()"
   ]
  },
  {
   "cell_type": "markdown",
   "id": "USjjDhu_y2VO",
   "metadata": {
    "id": "USjjDhu_y2VO"
   },
   "source": [
    "### 3) 결론\n",
    "- DT 로 혈당을 측정할때 가지고 있는 변수만 사용하면 높은 정확도를 낼 수 없다\n",
    "- 당뇨환자만 추출하는 것이 목적이라 정상+위험: 당뇨 그룹으로 나누워도 측정하기가 힘들었다\n",
    "- 고혈압 판정으로 약복용하여 위험군 수준으로 혈당을 나추었다 가정하여. 정상:위험+당뇨 군으로 나누어 하더라도 정확도 가 높지 않았다"
   ]
  },
  {
   "cell_type": "markdown",
   "id": "pHDcwPvOKZ5G",
   "metadata": {
    "id": "pHDcwPvOKZ5G"
   },
   "source": [
    "## V. 2) 모델링 - 공복혈당 추론하기 - Decision Tree - 연속형 데이터로"
   ]
  },
  {
   "cell_type": "code",
   "execution_count": 300,
   "id": "gCQNSYYELB9U",
   "metadata": {
    "colab": {
     "base_uri": "https://localhost:8080/"
    },
    "executionInfo": {
     "elapsed": 307,
     "status": "ok",
     "timestamp": 1634499532392,
     "user": {
      "displayName": "Joon Chun",
      "photoUrl": "https://lh3.googleusercontent.com/a/default-user=s64",
      "userId": "11589729376972489768"
     },
     "user_tz": -540
    },
    "id": "gCQNSYYELB9U",
    "outputId": "afb36475-157b-4620-9164-4e2285749b28"
   },
   "outputs": [
    {
     "data": {
      "text/plain": [
       "count    968972.000000\n",
       "mean          0.130754\n",
       "std           0.040512\n",
       "min           0.000000\n",
       "25%           0.109756\n",
       "50%           0.123693\n",
       "75%           0.139373\n",
       "max           1.000000\n",
       "Name: fbs, dtype: float64"
      ]
     },
     "execution_count": 300,
     "metadata": {},
     "output_type": "execute_result"
    }
   ],
   "source": [
    "# DF_a = DF\n",
    "# DF_a = DF_1\n",
    "# DF_a = DF_s\n",
    "DF_a = DF_n\n",
    "DF_a['fbs'].describe()"
   ]
  },
  {
   "cell_type": "code",
   "execution_count": 301,
   "id": "Ia9WQJwEKnMV",
   "metadata": {
    "colab": {
     "base_uri": "https://localhost:8080/"
    },
    "executionInfo": {
     "elapsed": 298,
     "status": "ok",
     "timestamp": 1634499536616,
     "user": {
      "displayName": "Joon Chun",
      "photoUrl": "https://lh3.googleusercontent.com/a/default-user=s64",
      "userId": "11589729376972489768"
     },
     "user_tz": -540
    },
    "id": "Ia9WQJwEKnMV",
    "outputId": "6d0def1f-0103-47b2-c6db-4a087ba9a7a6"
   },
   "outputs": [
    {
     "name": "stdout",
     "output_type": "stream",
     "text": [
      "Train Data :  (678280, 10) (678280,)\n",
      "Test Data :  (290692, 10) (290692,)\n"
     ]
    }
   ],
   "source": [
    "X = DF_a[['age', 'sex','ht','city','wt','waist','smoking','alcohol','bmi','absi']]\n",
    "y = DF_a['fbs']\n",
    "\n",
    "X_train, X_test, y_train, y_test = train_test_split(X, y,\n",
    "                                                    test_size = 0.3,\n",
    "                                                    random_state = 2045)\n",
    "print('Train Data : ', X_train.shape, y_train.shape)\n",
    "print('Test Data : ', X_test.shape, y_test.shape)"
   ]
  },
  {
   "cell_type": "code",
   "execution_count": 302,
   "id": "Q5RtV4k6LdJ9",
   "metadata": {
    "colab": {
     "base_uri": "https://localhost:8080/"
    },
    "executionInfo": {
     "elapsed": 6851,
     "status": "ok",
     "timestamp": 1634499545266,
     "user": {
      "displayName": "Joon Chun",
      "photoUrl": "https://lh3.googleusercontent.com/a/default-user=s64",
      "userId": "11589729376972489768"
     },
     "user_tz": -540
    },
    "id": "Q5RtV4k6LdJ9",
    "outputId": "f9e4ae01-1905-4d51-ae45-494f9c577f94"
   },
   "outputs": [
    {
     "data": {
      "text/plain": [
       "DecisionTreeRegressor(ccp_alpha=0.0, criterion='mse', max_depth=None,\n",
       "                      max_features=None, max_leaf_nodes=None,\n",
       "                      min_impurity_decrease=0.0, min_impurity_split=None,\n",
       "                      min_samples_leaf=1, min_samples_split=2,\n",
       "                      min_weight_fraction_leaf=0.0, presort='deprecated',\n",
       "                      random_state=2045, splitter='best')"
      ]
     },
     "execution_count": 302,
     "metadata": {},
     "output_type": "execute_result"
    }
   ],
   "source": [
    "Model_dt_a = DecisionTreeRegressor(random_state = 2045)\n",
    "\n",
    "Model_dt_a.fit(X_train, y_train)"
   ]
  },
  {
   "cell_type": "code",
   "execution_count": 303,
   "id": "e0knM0qWMCuk",
   "metadata": {
    "colab": {
     "base_uri": "https://localhost:8080/"
    },
    "executionInfo": {
     "elapsed": 721,
     "status": "ok",
     "timestamp": 1634499547833,
     "user": {
      "displayName": "Joon Chun",
      "photoUrl": "https://lh3.googleusercontent.com/a/default-user=s64",
      "userId": "11589729376972489768"
     },
     "user_tz": -540
    },
    "id": "e0knM0qWMCuk",
    "outputId": "ab708cca-95ae-4666-9068-4ba7c969a636",
    "scrolled": true
   },
   "outputs": [
    {
     "name": "stdout",
     "output_type": "stream",
     "text": [
      "0.0027709626438465196\n"
     ]
    }
   ],
   "source": [
    "y_hat_dt_a = Model_dt_a.predict(X_test)\n",
    "mse_dt_a = mean_squared_error(y_test, y_hat_dt_a)\n",
    "print(mse_dt_a)"
   ]
  },
  {
   "cell_type": "markdown",
   "id": "DlS70AOdPpJd",
   "metadata": {
    "id": "DlS70AOdPpJd"
   },
   "source": [
    "- 도시 변수를 넣었을때 너무 높게 나옴 "
   ]
  },
  {
   "cell_type": "code",
   "execution_count": 304,
   "id": "gBWfkn6oPowS",
   "metadata": {
    "colab": {
     "base_uri": "https://localhost:8080/",
     "height": 374
    },
    "executionInfo": {
     "elapsed": 565,
     "status": "ok",
     "timestamp": 1634499568087,
     "user": {
      "displayName": "Joon Chun",
      "photoUrl": "https://lh3.googleusercontent.com/a/default-user=s64",
      "userId": "11589729376972489768"
     },
     "user_tz": -540
    },
    "id": "gBWfkn6oPowS",
    "outputId": "e3ad90f1-ad9c-4f32-e54c-fcbd1992704b",
    "scrolled": true
   },
   "outputs": [
    {
     "data": {
      "image/png": "[encoded data removed]",
      "text/plain": [
       "<Figure size 648x432 with 1 Axes>"
      ]
     },
     "metadata": {
      "needs_background": "light"
     },
     "output_type": "display_data"
    }
   ],
   "source": [
    "plt.figure(figsize=(9, 6))\n",
    "sns.barplot(Model_dt_a.feature_importances_, ['age', 'sex','city','ht','wt','waist','smoking','alcohol','bmi','absi'])\n",
    "plt.show()"
   ]
  },
  {
   "cell_type": "markdown",
   "id": "O6-gxgZs2EAa",
   "metadata": {
    "id": "O6-gxgZs2EAa"
   },
   "source": [
    "## VI.모델링 - 공복혈당 추론하기 - Decision Tree - 연령대별\n",
    "- 만약 머신이 약 처방받은 사람의 특징때문에 "
   ]
  },
  {
   "cell_type": "markdown",
   "id": "264ImwZa9D9B",
   "metadata": {
    "id": "264ImwZa9D9B"
   },
   "source": [
    "## VII. 1) 모델링 - 공복혈당 추론하기 - Random forest"
   ]
  },
  {
   "cell_type": "markdown",
   "id": "Mp5gM2RlGwU6",
   "metadata": {
    "id": "Mp5gM2RlGwU6"
   },
   "source": [
    "- 매우 중요한 팩터들만 추려내보기"
   ]
  },
  {
   "cell_type": "code",
   "execution_count": 89,
   "id": "7B_g_fpA-O4a",
   "metadata": {
    "executionInfo": {
     "elapsed": 590,
     "status": "ok",
     "timestamp": 1634495501763,
     "user": {
      "displayName": "Joon Chun",
      "photoUrl": "https://lh3.googleusercontent.com/a/default-user=s64",
      "userId": "11589729376972489768"
     },
     "user_tz": -540
    },
    "id": "7B_g_fpA-O4a"
   },
   "outputs": [],
   "source": [
    "# 7분정도 소요\n",
    "# DF_t = DF_1[['age','bmi','absi','fbs_L3']]\n",
    "# sns.pairplot(hue= 'fbs_L3',data = DF_t)\n",
    "# plt.show()"
   ]
  },
  {
   "cell_type": "code",
   "execution_count": 90,
   "id": "L9589BieXMK6",
   "metadata": {
    "executionInfo": {
     "elapsed": 7,
     "status": "ok",
     "timestamp": 1634495501764,
     "user": {
      "displayName": "Joon Chun",
      "photoUrl": "https://lh3.googleusercontent.com/a/default-user=s64",
      "userId": "11589729376972489768"
     },
     "user_tz": -540
    },
    "id": "L9589BieXMK6"
   },
   "outputs": [],
   "source": [
    "# 14분 소요\n",
    "# DF_t2 = DF_1[['age','bmi','absi','city','fbs_L3']]\n",
    "# sns.pairplot(hue= 'fbs_L3',data = DF_t2)\n",
    "# plt.show()"
   ]
  },
  {
   "cell_type": "markdown",
   "id": "ViGXQd_YJ616",
   "metadata": {
    "id": "ViGXQd_YJ616"
   },
   "source": [
    "### 1) 기본 random_state"
   ]
  },
  {
   "cell_type": "code",
   "execution_count": 347,
   "id": "-nLT-mrxG2fL",
   "metadata": {
    "colab": {
     "base_uri": "https://localhost:8080/"
    },
    "executionInfo": {
     "elapsed": 348,
     "status": "ok",
     "timestamp": 1634500119788,
     "user": {
      "displayName": "Joon Chun",
      "photoUrl": "https://lh3.googleusercontent.com/a/default-user=s64",
      "userId": "11589729376972489768"
     },
     "user_tz": -540
    },
    "id": "-nLT-mrxG2fL",
    "outputId": "ec1598f2-b2d7-4f3a-e0e5-6ca5e309d2d9"
   },
   "outputs": [
    {
     "data": {
      "text/plain": [
       "count    968972.000000\n",
       "mean        100.052567\n",
       "std          23.253971\n",
       "min          25.000000\n",
       "25%          88.000000\n",
       "50%          96.000000\n",
       "75%         105.000000\n",
       "max         599.000000\n",
       "Name: fbs, dtype: float64"
      ]
     },
     "execution_count": 347,
     "metadata": {},
     "output_type": "execute_result"
    }
   ],
   "source": [
    "# 데이터 프레임 변경용\n",
    "# DF_a = DF\n",
    "DF_a = DF_1\n",
    "# DF_a = DF_s\n",
    "# DF_a = DF_n\n",
    "DF_a['fbs'].describe()"
   ]
  },
  {
   "cell_type": "code",
   "execution_count": 348,
   "id": "H-nSFkb5Iift",
   "metadata": {
    "executionInfo": {
     "elapsed": 290,
     "status": "ok",
     "timestamp": 1634500123085,
     "user": {
      "displayName": "Joon Chun",
      "photoUrl": "https://lh3.googleusercontent.com/a/default-user=s64",
      "userId": "11589729376972489768"
     },
     "user_tz": -540
    },
    "id": "H-nSFkb5Iift"
   },
   "outputs": [],
   "source": [
    "X = DF_a[['age', 'sex','city','ht','wt','waist','smoking','alcohol','bmi','absi']]\n",
    "y = DF_a['fbs_L']"
   ]
  },
  {
   "cell_type": "code",
   "execution_count": 349,
   "id": "kEoNjSbbJkax",
   "metadata": {
    "colab": {
     "base_uri": "https://localhost:8080/"
    },
    "executionInfo": {
     "elapsed": 367,
     "status": "ok",
     "timestamp": 1634500125323,
     "user": {
      "displayName": "Joon Chun",
      "photoUrl": "https://lh3.googleusercontent.com/a/default-user=s64",
      "userId": "11589729376972489768"
     },
     "user_tz": -540
    },
    "id": "kEoNjSbbJkax",
    "outputId": "87b24fc3-5a2e-45b5-94db-077bda394478"
   },
   "outputs": [
    {
     "name": "stdout",
     "output_type": "stream",
     "text": [
      "Train Data :  (678280, 10) (678280,)\n",
      "Test Data :  (290692, 10) (290692,)\n"
     ]
    }
   ],
   "source": [
    "X_train, X_test, y_train, y_test = train_test_split(X, y,\n",
    "                                                    test_size = 0.3,\n",
    "                                                    random_state = 2045)\n",
    "\n",
    "print('Train Data : ', X_train.shape, y_train.shape)\n",
    "print('Test Data : ', X_test.shape, y_test.shape)"
   ]
  },
  {
   "cell_type": "code",
   "execution_count": 350,
   "id": "nYhaKhdVJred",
   "metadata": {
    "colab": {
     "base_uri": "https://localhost:8080/"
    },
    "executionInfo": {
     "elapsed": 12930,
     "status": "ok",
     "timestamp": 1634500140290,
     "user": {
      "displayName": "Joon Chun",
      "photoUrl": "https://lh3.googleusercontent.com/a/default-user=s64",
      "userId": "11589729376972489768"
     },
     "user_tz": -540
    },
    "id": "nYhaKhdVJred",
    "outputId": "d287013d-4459-4cb4-820d-5b8c286d6649"
   },
   "outputs": [
    {
     "data": {
      "text/plain": [
       "RandomForestClassifier(bootstrap=True, ccp_alpha=0.0, class_weight=None,\n",
       "                       criterion='gini', max_depth=None, max_features=3,\n",
       "                       max_leaf_nodes=None, max_samples=None,\n",
       "                       min_impurity_decrease=0.0, min_impurity_split=None,\n",
       "                       min_samples_leaf=1, min_samples_split=2,\n",
       "                       min_weight_fraction_leaf=0.0, n_estimators=10, n_jobs=-1,\n",
       "                       oob_score=False, random_state=2045, verbose=0,\n",
       "                       warm_start=False)"
      ]
     },
     "execution_count": 350,
     "metadata": {},
     "output_type": "execute_result"
    }
   ],
   "source": [
    "Model_rf1 = RandomForestClassifier(n_estimators = 10,\n",
    "                                  max_features = 3,\n",
    "                                  random_state = 2045,\n",
    "                                  n_jobs = -1)\n",
    "Model_rf1.fit(X_train, y_train)"
   ]
  },
  {
   "cell_type": "code",
   "execution_count": 351,
   "id": "zsj3IoDxKSvF",
   "metadata": {
    "executionInfo": {
     "elapsed": 1690,
     "status": "ok",
     "timestamp": 1634500144247,
     "user": {
      "displayName": "Joon Chun",
      "photoUrl": "https://lh3.googleusercontent.com/a/default-user=s64",
      "userId": "11589729376972489768"
     },
     "user_tz": -540
    },
    "id": "zsj3IoDxKSvF"
   },
   "outputs": [],
   "source": [
    "y_hat_rf1 = Model_rf1.predict(X_test)"
   ]
  },
  {
   "cell_type": "code",
   "execution_count": 352,
   "id": "QOiIJX_PKaNE",
   "metadata": {
    "colab": {
     "base_uri": "https://localhost:8080/"
    },
    "executionInfo": {
     "elapsed": 706,
     "status": "ok",
     "timestamp": 1634500146546,
     "user": {
      "displayName": "Joon Chun",
      "photoUrl": "https://lh3.googleusercontent.com/a/default-user=s64",
      "userId": "11589729376972489768"
     },
     "user_tz": -540
    },
    "id": "QOiIJX_PKaNE",
    "outputId": "bdd7dfec-b5ef-4048-c78a-27c9c18cfceb"
   },
   "outputs": [
    {
     "name": "stdout",
     "output_type": "stream",
     "text": [
      "[[128235  40018   4780    546]\n",
      " [ 59461  30052   4393    440]\n",
      " [ 10685   7687   1378    145]\n",
      " [  1661   1033    156     22]]\n",
      "0.5493340029997386\n"
     ]
    }
   ],
   "source": [
    "print(confusion_matrix(y_test, y_hat_rf1))\n",
    "print(accuracy_score(y_test, y_hat_rf1))"
   ]
  },
  {
   "cell_type": "code",
   "execution_count": 353,
   "id": "igvrYldiM6rq",
   "metadata": {
    "colab": {
     "base_uri": "https://localhost:8080/",
     "height": 374
    },
    "executionInfo": {
     "elapsed": 529,
     "status": "ok",
     "timestamp": 1634500149093,
     "user": {
      "displayName": "Joon Chun",
      "photoUrl": "https://lh3.googleusercontent.com/a/default-user=s64",
      "userId": "11589729376972489768"
     },
     "user_tz": -540
    },
    "id": "igvrYldiM6rq",
    "outputId": "57f6785e-87e5-4d5f-87cc-774e0b4ed325"
   },
   "outputs": [
    {
     "data": {
      "image/png": "[encoded data removed]",
      "text/plain": [
       "<Figure size 648x432 with 1 Axes>"
      ]
     },
     "metadata": {
      "needs_background": "light"
     },
     "output_type": "display_data"
    }
   ],
   "source": [
    "plt.figure(figsize=(9, 6))\n",
    "sns.barplot(Model_dt_2_2.feature_importances_, ['age', 'sex','city','ht','wt','waist','smoking','alcohol','bmi','absi'])\n",
    "plt.show()"
   ]
  },
  {
   "cell_type": "markdown",
   "id": "2nIz4-BuK6Y5",
   "metadata": {
    "id": "2nIz4-BuK6Y5"
   },
   "source": [
    "### 2) 기본 L2,L3 1)과 같은 방식"
   ]
  },
  {
   "cell_type": "code",
   "execution_count": 98,
   "id": "DRuAhbXNLCzX",
   "metadata": {
    "colab": {
     "base_uri": "https://localhost:8080/"
    },
    "executionInfo": {
     "elapsed": 13887,
     "status": "ok",
     "timestamp": 1634495529485,
     "user": {
      "displayName": "Joon Chun",
      "photoUrl": "https://lh3.googleusercontent.com/a/default-user=s64",
      "userId": "11589729376972489768"
     },
     "user_tz": -540
    },
    "id": "DRuAhbXNLCzX",
    "outputId": "29dc11fa-4aa2-4cd8-c1d6-a66ca0edaddf"
   },
   "outputs": [
    {
     "name": "stdout",
     "output_type": "stream",
     "text": [
      "Train Data :  (678287, 10) (678287,)\n",
      "Test Data :  (290695, 10) (290695,)\n",
      "[[122947  51116]\n",
      " [ 65796  50836]]\n",
      "accuray :  0.5978190199349834\n",
      "prescision : 0.49862680477087257\n",
      "recall : 0.435866657521092\n"
     ]
    }
   ],
   "source": [
    "X = DF_a[['age', 'sex','city','ht','wt','waist','smoking','alcohol','bmi','absi']]\n",
    "y = DF_a['fbs_L3']\n",
    "\n",
    "X_train, X_test, y_train, y_test = train_test_split(X, y,\n",
    "                                                    test_size = 0.3,\n",
    "                                                    random_state = 2045)\n",
    "\n",
    "print('Train Data : ', X_train.shape, y_train.shape)\n",
    "print('Test Data : ', X_test.shape, y_test.shape)\n",
    "\n",
    "Model_rf2 = RandomForestClassifier(n_estimators = 10,\n",
    "                                  max_features = 3,\n",
    "                                  random_state = 2045,\n",
    "                                  n_jobs = -1)\n",
    "Model_rf2.fit(X_train, y_train)\n",
    "\n",
    "y_hat_rf2 = Model_rf2.predict(X_test)\n",
    "\n",
    "print(confusion_matrix(y_test, y_hat_rf2))\n",
    "print('accuray : ' , accuracy_score(y_test, y_hat_rf2))\n",
    "print('prescision :' , precision_score(y_test, y_hat_rf2))\n",
    "print('recall :' , recall_score(y_test, y_hat_rf2))"
   ]
  },
  {
   "cell_type": "code",
   "execution_count": 99,
   "id": "ws2LmhXqNHSW",
   "metadata": {
    "colab": {
     "base_uri": "https://localhost:8080/",
     "height": 374
    },
    "executionInfo": {
     "elapsed": 549,
     "status": "ok",
     "timestamp": 1634495530023,
     "user": {
      "displayName": "Joon Chun",
      "photoUrl": "https://lh3.googleusercontent.com/a/default-user=s64",
      "userId": "11589729376972489768"
     },
     "user_tz": -540
    },
    "id": "ws2LmhXqNHSW",
    "outputId": "2c83a42f-9fda-4da4-90da-19fc2dd5949e"
   },
   "outputs": [
    {
     "data": {
      "image/png": "[encoded data removed]",
      "text/plain": [
       "<Figure size 648x432 with 1 Axes>"
      ]
     },
     "metadata": {
      "needs_background": "light"
     },
     "output_type": "display_data"
    }
   ],
   "source": [
    "plt.figure(figsize=(9, 6))\n",
    "sns.barplot(Model_dt_2_2.feature_importances_, ['age', 'sex','city','ht','wt','waist','smoking','alcohol','bmi','absi'])\n",
    "plt.show()"
   ]
  },
  {
   "cell_type": "code",
   "execution_count": 100,
   "id": "DVK2JkVKLqeU",
   "metadata": {
    "colab": {
     "base_uri": "https://localhost:8080/"
    },
    "executionInfo": {
     "elapsed": 13145,
     "status": "ok",
     "timestamp": 1634495543163,
     "user": {
      "displayName": "Joon Chun",
      "photoUrl": "https://lh3.googleusercontent.com/a/default-user=s64",
      "userId": "11589729376972489768"
     },
     "user_tz": -540
    },
    "id": "DVK2JkVKLqeU",
    "outputId": "4692a31b-6bef-41c6-f104-bf207aa94c6f"
   },
   "outputs": [
    {
     "name": "stdout",
     "output_type": "stream",
     "text": [
      "Train Data :  (678287, 10) (678287,)\n",
      "Test Data :  (290695, 10) (290695,)\n",
      "[[122947  51116]\n",
      " [ 65796  50836]]\n",
      "accuray :  0.5978190199349834\n",
      "prescision : 0.49862680477087257\n",
      "recall : 0.435866657521092\n"
     ]
    }
   ],
   "source": [
    "X = DF_a[['age', 'sex','city','ht','wt','waist','smoking','alcohol','bmi','absi']]\n",
    "y = DF_a['fbs_L3']\n",
    "\n",
    "X_train, X_test, y_train, y_test = train_test_split(X, y,\n",
    "                                                    test_size = 0.3,\n",
    "                                                    random_state = 2045)\n",
    "\n",
    "print('Train Data : ', X_train.shape, y_train.shape)\n",
    "print('Test Data : ', X_test.shape, y_test.shape)\n",
    "\n",
    "Model_rf3 = RandomForestClassifier(n_estimators = 10,\n",
    "                                  max_features = 3,\n",
    "                                  random_state = 2045,\n",
    "                                  n_jobs = -1)\n",
    "Model_rf3.fit(X_train, y_train)\n",
    "\n",
    "y_hat_rf3 = Model_rf3.predict(X_test)\n",
    "\n",
    "print(confusion_matrix(y_test, y_hat_rf3))\n",
    "print('accuray : ' , accuracy_score(y_test, y_hat_rf3))\n",
    "print('prescision :' , precision_score(y_test, y_hat_rf3))\n",
    "print('recall :' , recall_score(y_test, y_hat_rf3))"
   ]
  },
  {
   "cell_type": "code",
   "execution_count": 101,
   "id": "B1suT0LFNJdh",
   "metadata": {
    "colab": {
     "base_uri": "https://localhost:8080/",
     "height": 374
    },
    "executionInfo": {
     "elapsed": 16,
     "status": "ok",
     "timestamp": 1634495543164,
     "user": {
      "displayName": "Joon Chun",
      "photoUrl": "https://lh3.googleusercontent.com/a/default-user=s64",
      "userId": "11589729376972489768"
     },
     "user_tz": -540
    },
    "id": "B1suT0LFNJdh",
    "outputId": "b38cc860-cc69-4274-e396-60ef31ecf24b"
   },
   "outputs": [
    {
     "data": {
      "image/png": "[encoded data removed]",
      "text/plain": [
       "<Figure size 648x432 with 1 Axes>"
      ]
     },
     "metadata": {
      "needs_background": "light"
     },
     "output_type": "display_data"
    }
   ],
   "source": [
    "plt.figure(figsize=(9, 6))\n",
    "sns.barplot(Model_dt_2_2.feature_importances_, ['age', 'sex','city','ht','wt','waist','smoking','alcohol','bmi','absi'])\n",
    "plt.show()"
   ]
  },
  {
   "cell_type": "markdown",
   "id": "Q69BHrSnU4a8",
   "metadata": {
    "id": "Q69BHrSnU4a8"
   },
   "source": [
    "### 3) GridSearch"
   ]
  },
  {
   "cell_type": "code",
   "execution_count": 102,
   "id": "meNeFq62Qb-z",
   "metadata": {
    "executionInfo": {
     "elapsed": 15,
     "status": "ok",
     "timestamp": 1634495543165,
     "user": {
      "displayName": "Joon Chun",
      "photoUrl": "https://lh3.googleusercontent.com/a/default-user=s64",
      "userId": "11589729376972489768"
     },
     "user_tz": -540
    },
    "id": "meNeFq62Qb-z"
   },
   "outputs": [],
   "source": [
    "# params = {'n_estimators':[10, 30, 50, 70],\n",
    "#           'max_features':[ 2, 3, 4],\n",
    "#           # 'max_depth':[1, 2, 3, 4, 5],\n",
    "#           'random_state':[2045]}"
   ]
  },
  {
   "cell_type": "code",
   "execution_count": 103,
   "id": "1Z3oKOvTVK4e",
   "metadata": {
    "executionInfo": {
     "elapsed": 316,
     "status": "ok",
     "timestamp": 1634495543467,
     "user": {
      "displayName": "Joon Chun",
      "photoUrl": "https://lh3.googleusercontent.com/a/default-user=s64",
      "userId": "11589729376972489768"
     },
     "user_tz": -540
    },
    "id": "1Z3oKOvTVK4e"
   },
   "outputs": [],
   "source": [
    "# grid_cv = GridSearchCV(Model_rf3,\n",
    "#                        param_grid = params,\n",
    "#                        scoring = 'recall',\n",
    "#                        cv = KFold(n_splits = 5,\n",
    "#                                   random_state = 2045),\n",
    "#                        refit = True,\n",
    "#                        n_jobs = -1)"
   ]
  },
  {
   "cell_type": "code",
   "execution_count": 104,
   "id": "1lUNdBjuVU1X",
   "metadata": {
    "executionInfo": {
     "elapsed": 7,
     "status": "ok",
     "timestamp": 1634495543468,
     "user": {
      "displayName": "Joon Chun",
      "photoUrl": "https://lh3.googleusercontent.com/a/default-user=s64",
      "userId": "11589729376972489768"
     },
     "user_tz": -540
    },
    "id": "1lUNdBjuVU1X"
   },
   "outputs": [],
   "source": [
    "# 48 분만에 포기\n",
    "# grid_cv.fit(X_train, y_train)"
   ]
  },
  {
   "cell_type": "code",
   "execution_count": 105,
   "id": "yfoCAr7eVfX1",
   "metadata": {
    "executionInfo": {
     "elapsed": 6,
     "status": "ok",
     "timestamp": 1634495543468,
     "user": {
      "displayName": "Joon Chun",
      "photoUrl": "https://lh3.googleusercontent.com/a/default-user=s64",
      "userId": "11589729376972489768"
     },
     "user_tz": -540
    },
    "id": "yfoCAr7eVfX1"
   },
   "outputs": [],
   "source": [
    "# print(grid_cv.best_score_ )\n",
    "# print(grid_cv.best_params_)"
   ]
  },
  {
   "cell_type": "code",
   "execution_count": 106,
   "id": "gYZ3HVMHWhR0",
   "metadata": {
    "executionInfo": {
     "elapsed": 6,
     "status": "ok",
     "timestamp": 1634495543468,
     "user": {
      "displayName": "Joon Chun",
      "photoUrl": "https://lh3.googleusercontent.com/a/default-user=s64",
      "userId": "11589729376972489768"
     },
     "user_tz": -540
    },
    "id": "gYZ3HVMHWhR0"
   },
   "outputs": [],
   "source": [
    "# Model_rf3_best = grid_cv.best_estimator_\n",
    "# y_hat_rf3_best = Model_rf3_best.predict(X_test)"
   ]
  },
  {
   "cell_type": "code",
   "execution_count": 107,
   "id": "Bfd66-a-Wp1Y",
   "metadata": {
    "executionInfo": {
     "elapsed": 5,
     "status": "ok",
     "timestamp": 1634495543468,
     "user": {
      "displayName": "Joon Chun",
      "photoUrl": "https://lh3.googleusercontent.com/a/default-user=s64",
      "userId": "11589729376972489768"
     },
     "user_tz": -540
    },
    "id": "Bfd66-a-Wp1Y"
   },
   "outputs": [],
   "source": [
    "# print(confusion_matrix(y_test, y_hat_rf3_best))\n",
    "# print('accuray : ' , accuracy_score(y_test, y_hat_rf3_best))\n",
    "# print('prescision :' , precision_score(y_test, y_hat_rf3_best))\n",
    "# print('recall :' , recall_score(y_test, y_hat_rf3_best))"
   ]
  },
  {
   "cell_type": "markdown",
   "id": "KdQ5xqNld1sQ",
   "metadata": {
    "id": "KdQ5xqNld1sQ"
   },
   "source": [
    "### 3) 2) for 문으로 GridSearch 대신"
   ]
  },
  {
   "cell_type": "code",
   "execution_count": 108,
   "id": "1DJCUB64d0Oi",
   "metadata": {
    "colab": {
     "base_uri": "https://localhost:8080/",
     "height": 1000
    },
    "executionInfo": {
     "elapsed": 102373,
     "status": "error",
     "timestamp": 1634495645836,
     "user": {
      "displayName": "Joon Chun",
      "photoUrl": "https://lh3.googleusercontent.com/a/default-user=s64",
      "userId": "11589729376972489768"
     },
     "user_tz": -540
    },
    "id": "1DJCUB64d0Oi",
    "outputId": "7797e76d-603f-41f1-b598-0ed77c8986d7"
   },
   "outputs": [
    {
     "name": "stdout",
     "output_type": "stream",
     "text": [
      "Train Data :  (678287, 10) (678287,)\n",
      "Test Data :  (290695, 10) (290695,)\n",
      "n_estimators : 10 max_features : 1 max_depth : 1\n",
      "[[174063      0]\n",
      " [116632      0]]\n",
      "accuray :  0.5987822287965049\n",
      "prescision : 0.0\n",
      "recall : 0.0\n",
      "n_estimators : 10 max_features : 1 max_depth : 2\n",
      "[[166251   7812]\n",
      " [103247  13385]]\n",
      "accuray :  0.6179535251724316\n",
      "prescision : 0.6314572816908053\n",
      "recall : 0.11476267233692297\n",
      "n_estimators : 10 max_features : 1 max_depth : 3\n",
      "[[157586  16477]\n",
      " [ 91469  25163]]\n",
      "accuray :  0.628662343693562\n",
      "prescision : 0.6042987512007685\n",
      "recall : 0.2157469648124014\n",
      "n_estimators : 10 max_features : 1 max_depth : 4\n",
      "[[154936  19127]\n",
      " [ 87231  29401]]\n",
      "accuray :  0.6341251139510483\n",
      "prescision : 0.6058564127926146\n",
      "recall : 0.2520834762329378\n",
      "n_estimators : 10 max_features : 1 max_depth : 5\n",
      "[[150170  23893]\n",
      " [ 80811  35821]]\n",
      "accuray :  0.639814926297322\n",
      "prescision : 0.5998760759620859\n",
      "recall : 0.3071284038685781\n",
      "n_estimators : 10 max_features : 2 max_depth : 1\n",
      "[[174063      0]\n",
      " [116632      0]]\n",
      "accuray :  0.5987822287965049\n",
      "prescision : 0.0\n",
      "recall : 0.0\n",
      "n_estimators : 10 max_features : 2 max_depth : 2\n",
      "[[155008  19055]\n",
      " [ 87613  29019]]\n",
      "accuray :  0.6330587041400781\n",
      "prescision : 0.6036319008195699\n",
      "recall : 0.24880821729885452\n",
      "n_estimators : 10 max_features : 2 max_depth : 3\n",
      "[[153268  20795]\n",
      " [ 85482  31150]]\n",
      "accuray :  0.6344037565145599\n",
      "prescision : 0.5996727307729329\n",
      "recall : 0.26707936072432953\n",
      "n_estimators : 10 max_features : 2 max_depth : 4\n",
      "[[146296  27767]\n",
      " [ 75904  40728]]\n",
      "accuray :  0.6433684789900067\n",
      "prescision : 0.5946127454558727\n",
      "recall : 0.3492009054118938\n",
      "n_estimators : 10 max_features : 2 max_depth : 5\n",
      "[[141104  32959]\n",
      " [ 70125  46507]]\n",
      "accuray :  0.6453877775675536\n",
      "prescision : 0.5852440037248635\n",
      "recall : 0.3987499142602373\n",
      "n_estimators : 10 max_features : 3 max_depth : 1\n",
      "[[174063      0]\n",
      " [116632      0]]\n",
      "accuray :  0.5987822287965049\n",
      "prescision : 0.0\n",
      "recall : 0.0\n",
      "n_estimators : 10 max_features : 3 max_depth : 2\n",
      "[[150899  23164]\n",
      " [ 82679  33953]]\n",
      "accuray :  0.6358967302499183\n",
      "prescision : 0.5944464870353835\n",
      "recall : 0.29111221620138555\n",
      "n_estimators : 10 max_features : 3 max_depth : 3\n",
      "[[147094  26969]\n",
      " [ 77076  39556]]\n",
      "accuray :  0.6420819071535458\n",
      "prescision : 0.5946035325065765\n",
      "recall : 0.3391522052266959\n",
      "n_estimators : 10 max_features : 3 max_depth : 4\n",
      "[[142361  31702]\n",
      " [ 71523  45109]]\n",
      "accuray :  0.6449027331051446\n",
      "prescision : 0.5872726562601711\n",
      "recall : 0.38676349543864463\n",
      "n_estimators : 10 max_features : 3 max_depth : 5\n",
      "[[141997  32066]\n",
      " [ 70546  46086]]\n",
      "accuray :  0.647011472505547\n",
      "prescision : 0.5896970007165524\n",
      "recall : 0.39514027025173193\n",
      "n_estimators : 10 max_features : 4 max_depth : 1\n",
      "[[174063      0]\n",
      " [116632      0]]\n",
      "accuray :  0.5987822287965049\n",
      "prescision : 0.0\n",
      "recall : 0.0\n",
      "n_estimators : 10 max_features : 4 max_depth : 2\n",
      "[[143278  30785]\n",
      " [ 74199  42433]]\n",
      "accuray :  0.6388517174358004\n",
      "prescision : 0.5795432817066841\n",
      "recall : 0.3638195349475273\n",
      "n_estimators : 10 max_features : 4 max_depth : 3\n",
      "[[138955  35108]\n",
      " [ 68550  48082]]\n",
      "accuray :  0.6434131994014345\n",
      "prescision : 0.5779781223704772\n",
      "recall : 0.4122539268811304\n",
      "n_estimators : 10 max_features : 4 max_depth : 4\n",
      "[[135881  38182]\n",
      " [ 65435  51197]]\n",
      "accuray :  0.6435542406990145\n",
      "prescision : 0.5728079302744492\n",
      "recall : 0.4389618629535633\n",
      "n_estimators : 10 max_features : 4 max_depth : 5\n",
      "[[137676  36387]\n",
      " [ 66105  50527]]\n",
      "accuray :  0.647424276303342\n",
      "prescision : 0.5813447775962446\n",
      "recall : 0.43321729885451676\n",
      "n_estimators : 30 max_features : 1 max_depth : 1\n",
      "[[174063      0]\n",
      " [116632      0]]\n",
      "accuray :  0.5987822287965049\n",
      "prescision : 0.0\n",
      "recall : 0.0\n",
      "n_estimators : 30 max_features : 1 max_depth : 2\n",
      "[[173283    780]\n",
      " [115225   1407]]\n",
      "accuray :  0.6009391286399834\n",
      "prescision : 0.6433470507544582\n",
      "recall : 0.012063584607997805\n",
      "n_estimators : 30 max_features : 1 max_depth : 3\n",
      "[[162772  11291]\n",
      " [ 98180  18452]]\n",
      "accuray :  0.6234162954299179\n",
      "prescision : 0.6203812661802777\n",
      "recall : 0.1582070100829961\n",
      "n_estimators : 30 max_features : 1 max_depth : 4\n",
      "[[159309  14754]\n",
      " [ 92597  24035]]\n",
      "accuray :  0.6307091625242952\n",
      "prescision : 0.6196344324421872\n",
      "recall : 0.2060755195829618\n"
     ]
    },
    {
     "ename": "KeyboardInterrupt",
     "evalue": "ignored",
     "output_type": "error",
     "traceback": [
      "\u001b[0;31m---------------------------------------------------------------------------\u001b[0m",
      "\u001b[0;31mKeyboardInterrupt\u001b[0m                         Traceback (most recent call last)",
      "\u001b[0;32m<ipython-input-108-f00ba55a6695>\u001b[0m in \u001b[0;36m<module>\u001b[0;34m()\u001b[0m\n\u001b[1;32m     28\u001b[0m                                               n_jobs=-1)\n\u001b[1;32m     29\u001b[0m \u001b[0;34m\u001b[0m\u001b[0m\n\u001b[0;32m---> 30\u001b[0;31m       \u001b[0mModel_rf3\u001b[0m\u001b[0;34m.\u001b[0m\u001b[0mfit\u001b[0m\u001b[0;34m(\u001b[0m\u001b[0mX_train\u001b[0m\u001b[0;34m,\u001b[0m \u001b[0my_train\u001b[0m\u001b[0;34m)\u001b[0m\u001b[0;34m\u001b[0m\u001b[0;34m\u001b[0m\u001b[0m\n\u001b[0m\u001b[1;32m     31\u001b[0m \u001b[0;34m\u001b[0m\u001b[0m\n\u001b[1;32m     32\u001b[0m       \u001b[0my_hat_rf3\u001b[0m \u001b[0;34m=\u001b[0m \u001b[0mModel_rf3\u001b[0m\u001b[0;34m.\u001b[0m\u001b[0mpredict\u001b[0m\u001b[0;34m(\u001b[0m\u001b[0mX_test\u001b[0m\u001b[0;34m)\u001b[0m\u001b[0;34m\u001b[0m\u001b[0;34m\u001b[0m\u001b[0m\n",
      "\u001b[0;32m/usr/local/lib/python3.7/dist-packages/sklearn/ensemble/_forest.py\u001b[0m in \u001b[0;36mfit\u001b[0;34m(self, X, y, sample_weight)\u001b[0m\n\u001b[1;32m    381\u001b[0m                     \u001b[0mverbose\u001b[0m\u001b[0;34m=\u001b[0m\u001b[0mself\u001b[0m\u001b[0;34m.\u001b[0m\u001b[0mverbose\u001b[0m\u001b[0;34m,\u001b[0m \u001b[0mclass_weight\u001b[0m\u001b[0;34m=\u001b[0m\u001b[0mself\u001b[0m\u001b[0;34m.\u001b[0m\u001b[0mclass_weight\u001b[0m\u001b[0;34m,\u001b[0m\u001b[0;34m\u001b[0m\u001b[0;34m\u001b[0m\u001b[0m\n\u001b[1;32m    382\u001b[0m                     n_samples_bootstrap=n_samples_bootstrap)\n\u001b[0;32m--> 383\u001b[0;31m                 for i, t in enumerate(trees))\n\u001b[0m\u001b[1;32m    384\u001b[0m \u001b[0;34m\u001b[0m\u001b[0m\n\u001b[1;32m    385\u001b[0m             \u001b[0;31m# Collect newly grown trees\u001b[0m\u001b[0;34m\u001b[0m\u001b[0;34m\u001b[0m\u001b[0;34m\u001b[0m\u001b[0m\n",
      "\u001b[0;32m/usr/local/lib/python3.7/dist-packages/joblib/parallel.py\u001b[0m in \u001b[0;36m__call__\u001b[0;34m(self, iterable)\u001b[0m\n\u001b[1;32m   1052\u001b[0m \u001b[0;34m\u001b[0m\u001b[0m\n\u001b[1;32m   1053\u001b[0m             \u001b[0;32mwith\u001b[0m \u001b[0mself\u001b[0m\u001b[0;34m.\u001b[0m\u001b[0m_backend\u001b[0m\u001b[0;34m.\u001b[0m\u001b[0mretrieval_context\u001b[0m\u001b[0;34m(\u001b[0m\u001b[0;34m)\u001b[0m\u001b[0;34m:\u001b[0m\u001b[0;34m\u001b[0m\u001b[0;34m\u001b[0m\u001b[0m\n\u001b[0;32m-> 1054\u001b[0;31m                 \u001b[0mself\u001b[0m\u001b[0;34m.\u001b[0m\u001b[0mretrieve\u001b[0m\u001b[0;34m(\u001b[0m\u001b[0;34m)\u001b[0m\u001b[0;34m\u001b[0m\u001b[0;34m\u001b[0m\u001b[0m\n\u001b[0m\u001b[1;32m   1055\u001b[0m             \u001b[0;31m# Make sure that we get a last message telling us we are done\u001b[0m\u001b[0;34m\u001b[0m\u001b[0;34m\u001b[0m\u001b[0;34m\u001b[0m\u001b[0m\n\u001b[1;32m   1056\u001b[0m             \u001b[0melapsed_time\u001b[0m \u001b[0;34m=\u001b[0m \u001b[0mtime\u001b[0m\u001b[0;34m.\u001b[0m\u001b[0mtime\u001b[0m\u001b[0;34m(\u001b[0m\u001b[0;34m)\u001b[0m \u001b[0;34m-\u001b[0m \u001b[0mself\u001b[0m\u001b[0;34m.\u001b[0m\u001b[0m_start_time\u001b[0m\u001b[0;34m\u001b[0m\u001b[0;34m\u001b[0m\u001b[0m\n",
      "\u001b[0;32m/usr/local/lib/python3.7/dist-packages/joblib/parallel.py\u001b[0m in \u001b[0;36mretrieve\u001b[0;34m(self)\u001b[0m\n\u001b[1;32m    931\u001b[0m             \u001b[0;32mtry\u001b[0m\u001b[0;34m:\u001b[0m\u001b[0;34m\u001b[0m\u001b[0;34m\u001b[0m\u001b[0m\n\u001b[1;32m    932\u001b[0m                 \u001b[0;32mif\u001b[0m \u001b[0mgetattr\u001b[0m\u001b[0;34m(\u001b[0m\u001b[0mself\u001b[0m\u001b[0;34m.\u001b[0m\u001b[0m_backend\u001b[0m\u001b[0;34m,\u001b[0m \u001b[0;34m'supports_timeout'\u001b[0m\u001b[0;34m,\u001b[0m \u001b[0;32mFalse\u001b[0m\u001b[0;34m)\u001b[0m\u001b[0;34m:\u001b[0m\u001b[0;34m\u001b[0m\u001b[0;34m\u001b[0m\u001b[0m\n\u001b[0;32m--> 933\u001b[0;31m                     \u001b[0mself\u001b[0m\u001b[0;34m.\u001b[0m\u001b[0m_output\u001b[0m\u001b[0;34m.\u001b[0m\u001b[0mextend\u001b[0m\u001b[0;34m(\u001b[0m\u001b[0mjob\u001b[0m\u001b[0;34m.\u001b[0m\u001b[0mget\u001b[0m\u001b[0;34m(\u001b[0m\u001b[0mtimeout\u001b[0m\u001b[0;34m=\u001b[0m\u001b[0mself\u001b[0m\u001b[0;34m.\u001b[0m\u001b[0mtimeout\u001b[0m\u001b[0;34m)\u001b[0m\u001b[0;34m)\u001b[0m\u001b[0;34m\u001b[0m\u001b[0;34m\u001b[0m\u001b[0m\n\u001b[0m\u001b[1;32m    934\u001b[0m                 \u001b[0;32melse\u001b[0m\u001b[0;34m:\u001b[0m\u001b[0;34m\u001b[0m\u001b[0;34m\u001b[0m\u001b[0m\n\u001b[1;32m    935\u001b[0m                     \u001b[0mself\u001b[0m\u001b[0;34m.\u001b[0m\u001b[0m_output\u001b[0m\u001b[0;34m.\u001b[0m\u001b[0mextend\u001b[0m\u001b[0;34m(\u001b[0m\u001b[0mjob\u001b[0m\u001b[0;34m.\u001b[0m\u001b[0mget\u001b[0m\u001b[0;34m(\u001b[0m\u001b[0;34m)\u001b[0m\u001b[0;34m)\u001b[0m\u001b[0;34m\u001b[0m\u001b[0;34m\u001b[0m\u001b[0m\n",
      "\u001b[0;32m/usr/lib/python3.7/multiprocessing/pool.py\u001b[0m in \u001b[0;36mget\u001b[0;34m(self, timeout)\u001b[0m\n\u001b[1;32m    649\u001b[0m \u001b[0;34m\u001b[0m\u001b[0m\n\u001b[1;32m    650\u001b[0m     \u001b[0;32mdef\u001b[0m \u001b[0mget\u001b[0m\u001b[0;34m(\u001b[0m\u001b[0mself\u001b[0m\u001b[0;34m,\u001b[0m \u001b[0mtimeout\u001b[0m\u001b[0;34m=\u001b[0m\u001b[0;32mNone\u001b[0m\u001b[0;34m)\u001b[0m\u001b[0;34m:\u001b[0m\u001b[0;34m\u001b[0m\u001b[0;34m\u001b[0m\u001b[0m\n\u001b[0;32m--> 651\u001b[0;31m         \u001b[0mself\u001b[0m\u001b[0;34m.\u001b[0m\u001b[0mwait\u001b[0m\u001b[0;34m(\u001b[0m\u001b[0mtimeout\u001b[0m\u001b[0;34m)\u001b[0m\u001b[0;34m\u001b[0m\u001b[0;34m\u001b[0m\u001b[0m\n\u001b[0m\u001b[1;32m    652\u001b[0m         \u001b[0;32mif\u001b[0m \u001b[0;32mnot\u001b[0m \u001b[0mself\u001b[0m\u001b[0;34m.\u001b[0m\u001b[0mready\u001b[0m\u001b[0;34m(\u001b[0m\u001b[0;34m)\u001b[0m\u001b[0;34m:\u001b[0m\u001b[0;34m\u001b[0m\u001b[0;34m\u001b[0m\u001b[0m\n\u001b[1;32m    653\u001b[0m             \u001b[0;32mraise\u001b[0m \u001b[0mTimeoutError\u001b[0m\u001b[0;34m\u001b[0m\u001b[0;34m\u001b[0m\u001b[0m\n",
      "\u001b[0;32m/usr/lib/python3.7/multiprocessing/pool.py\u001b[0m in \u001b[0;36mwait\u001b[0;34m(self, timeout)\u001b[0m\n\u001b[1;32m    646\u001b[0m \u001b[0;34m\u001b[0m\u001b[0m\n\u001b[1;32m    647\u001b[0m     \u001b[0;32mdef\u001b[0m \u001b[0mwait\u001b[0m\u001b[0;34m(\u001b[0m\u001b[0mself\u001b[0m\u001b[0;34m,\u001b[0m \u001b[0mtimeout\u001b[0m\u001b[0;34m=\u001b[0m\u001b[0;32mNone\u001b[0m\u001b[0;34m)\u001b[0m\u001b[0;34m:\u001b[0m\u001b[0;34m\u001b[0m\u001b[0;34m\u001b[0m\u001b[0m\n\u001b[0;32m--> 648\u001b[0;31m         \u001b[0mself\u001b[0m\u001b[0;34m.\u001b[0m\u001b[0m_event\u001b[0m\u001b[0;34m.\u001b[0m\u001b[0mwait\u001b[0m\u001b[0;34m(\u001b[0m\u001b[0mtimeout\u001b[0m\u001b[0;34m)\u001b[0m\u001b[0;34m\u001b[0m\u001b[0;34m\u001b[0m\u001b[0m\n\u001b[0m\u001b[1;32m    649\u001b[0m \u001b[0;34m\u001b[0m\u001b[0m\n\u001b[1;32m    650\u001b[0m     \u001b[0;32mdef\u001b[0m \u001b[0mget\u001b[0m\u001b[0;34m(\u001b[0m\u001b[0mself\u001b[0m\u001b[0;34m,\u001b[0m \u001b[0mtimeout\u001b[0m\u001b[0;34m=\u001b[0m\u001b[0;32mNone\u001b[0m\u001b[0;34m)\u001b[0m\u001b[0;34m:\u001b[0m\u001b[0;34m\u001b[0m\u001b[0;34m\u001b[0m\u001b[0m\n",
      "\u001b[0;32m/usr/lib/python3.7/threading.py\u001b[0m in \u001b[0;36mwait\u001b[0;34m(self, timeout)\u001b[0m\n\u001b[1;32m    550\u001b[0m             \u001b[0msignaled\u001b[0m \u001b[0;34m=\u001b[0m \u001b[0mself\u001b[0m\u001b[0;34m.\u001b[0m\u001b[0m_flag\u001b[0m\u001b[0;34m\u001b[0m\u001b[0;34m\u001b[0m\u001b[0m\n\u001b[1;32m    551\u001b[0m             \u001b[0;32mif\u001b[0m \u001b[0;32mnot\u001b[0m \u001b[0msignaled\u001b[0m\u001b[0;34m:\u001b[0m\u001b[0;34m\u001b[0m\u001b[0;34m\u001b[0m\u001b[0m\n\u001b[0;32m--> 552\u001b[0;31m                 \u001b[0msignaled\u001b[0m \u001b[0;34m=\u001b[0m \u001b[0mself\u001b[0m\u001b[0;34m.\u001b[0m\u001b[0m_cond\u001b[0m\u001b[0;34m.\u001b[0m\u001b[0mwait\u001b[0m\u001b[0;34m(\u001b[0m\u001b[0mtimeout\u001b[0m\u001b[0;34m)\u001b[0m\u001b[0;34m\u001b[0m\u001b[0;34m\u001b[0m\u001b[0m\n\u001b[0m\u001b[1;32m    553\u001b[0m             \u001b[0;32mreturn\u001b[0m \u001b[0msignaled\u001b[0m\u001b[0;34m\u001b[0m\u001b[0;34m\u001b[0m\u001b[0m\n\u001b[1;32m    554\u001b[0m \u001b[0;34m\u001b[0m\u001b[0m\n",
      "\u001b[0;32m/usr/lib/python3.7/threading.py\u001b[0m in \u001b[0;36mwait\u001b[0;34m(self, timeout)\u001b[0m\n\u001b[1;32m    294\u001b[0m         \u001b[0;32mtry\u001b[0m\u001b[0;34m:\u001b[0m    \u001b[0;31m# restore state no matter what (e.g., KeyboardInterrupt)\u001b[0m\u001b[0;34m\u001b[0m\u001b[0;34m\u001b[0m\u001b[0m\n\u001b[1;32m    295\u001b[0m             \u001b[0;32mif\u001b[0m \u001b[0mtimeout\u001b[0m \u001b[0;32mis\u001b[0m \u001b[0;32mNone\u001b[0m\u001b[0;34m:\u001b[0m\u001b[0;34m\u001b[0m\u001b[0;34m\u001b[0m\u001b[0m\n\u001b[0;32m--> 296\u001b[0;31m                 \u001b[0mwaiter\u001b[0m\u001b[0;34m.\u001b[0m\u001b[0macquire\u001b[0m\u001b[0;34m(\u001b[0m\u001b[0;34m)\u001b[0m\u001b[0;34m\u001b[0m\u001b[0;34m\u001b[0m\u001b[0m\n\u001b[0m\u001b[1;32m    297\u001b[0m                 \u001b[0mgotit\u001b[0m \u001b[0;34m=\u001b[0m \u001b[0;32mTrue\u001b[0m\u001b[0;34m\u001b[0m\u001b[0;34m\u001b[0m\u001b[0m\n\u001b[1;32m    298\u001b[0m             \u001b[0;32melse\u001b[0m\u001b[0;34m:\u001b[0m\u001b[0;34m\u001b[0m\u001b[0;34m\u001b[0m\u001b[0m\n",
      "\u001b[0;31mKeyboardInterrupt\u001b[0m: "
     ]
    }
   ],
   "source": [
    "# 20분 소요\n",
    "startT = time.time()\n",
    "\n",
    "X = DF_a[['age', 'sex','city','ht','wt','waist','smoking','alcohol','bmi','absi']]\n",
    "y = DF_a['fbs_L3']\n",
    "\n",
    "X_train, X_test, y_train, y_test = train_test_split(X, y,\n",
    "                                                    test_size = 0.3,\n",
    "                                                    random_state = 2045)\n",
    "\n",
    "print('Train Data : ', X_train.shape, y_train.shape)\n",
    "print('Test Data : ', X_test.shape, y_test.shape)\n",
    "\n",
    "n_estimators = [10, 30, 50, 70]\n",
    "max_features = [1, 2, 3, 4]\n",
    "max_depth = [1, 2, 3, 4, 5]\n",
    "\n",
    "Model_result=[]\n",
    "\n",
    "for i in n_estimators :\n",
    "  for j in max_features :\n",
    "    for k in max_depth:\n",
    "\n",
    "      Model_rf3 = RandomForestClassifier(n_estimators = i, \n",
    "                                              max_features = j,\n",
    "                                              max_depth = k, \n",
    "                                              random_state = 2045,\n",
    "                                              n_jobs=-1)\n",
    "      \n",
    "      Model_rf3.fit(X_train, y_train)\n",
    "\n",
    "      y_hat_rf3 = Model_rf3.predict(X_test)\n",
    "      print('n_estimators :' ,i, 'max_features :', j, 'max_depth :', k)\n",
    "      print(confusion_matrix(y_test, y_hat_rf3))\n",
    "      print('accuray : ' , accuracy_score(y_test, y_hat_rf3))\n",
    "      print('prescision :' , precision_score(y_test, y_hat_rf3))\n",
    "      print('recall :' , recall_score(y_test, y_hat_rf3))\n",
    "\n",
    "      a = accuracy_score(y_test, y_hat_rf3)\n",
    "      b = precision_score(y_test, y_hat_rf3)\n",
    "      c = recall_score(y_test, y_hat_rf3)\n",
    "      data = [i,j,k,a,b,c]\n",
    "      Model_result.append(data)\n",
    "Model_GS_L3 = pd.DataFrame(Model_result)\n",
    "Model_GS_L3.columns = ['n_estimators','max_feature','max_depth','accuray','prescision','recall']\n",
    "\n",
    "\n",
    "print('time : ', time.time() - startT )"
   ]
  },
  {
   "cell_type": "code",
   "execution_count": null,
   "id": "6Y8RU9WQtbf1",
   "metadata": {
    "executionInfo": {
     "elapsed": 9,
     "status": "aborted",
     "timestamp": 1634495645477,
     "user": {
      "displayName": "Joon Chun",
      "photoUrl": "https://lh3.googleusercontent.com/a/default-user=s64",
      "userId": "11589729376972489768"
     },
     "user_tz": -540
    },
    "id": "6Y8RU9WQtbf1"
   },
   "outputs": [],
   "source": [
    "Model_GS_L3.info()"
   ]
  },
  {
   "cell_type": "code",
   "execution_count": null,
   "id": "eKRNME1Xtk8h",
   "metadata": {
    "executionInfo": {
     "elapsed": 10,
     "status": "aborted",
     "timestamp": 1634495645478,
     "user": {
      "displayName": "Joon Chun",
      "photoUrl": "https://lh3.googleusercontent.com/a/default-user=s64",
      "userId": "11589729376972489768"
     },
     "user_tz": -540
    },
    "id": "eKRNME1Xtk8h"
   },
   "outputs": [],
   "source": [
    "Model_GS_L3['recall'].describe()"
   ]
  },
  {
   "cell_type": "code",
   "execution_count": null,
   "id": "4BJVE5dfuMl5",
   "metadata": {
    "executionInfo": {
     "elapsed": 365,
     "status": "aborted",
     "timestamp": 1634495645833,
     "user": {
      "displayName": "Joon Chun",
      "photoUrl": "https://lh3.googleusercontent.com/a/default-user=s64",
      "userId": "11589729376972489768"
     },
     "user_tz": -540
    },
    "id": "4BJVE5dfuMl5"
   },
   "outputs": [],
   "source": [
    "Model_GS_L3['prescision'].describe()"
   ]
  },
  {
   "cell_type": "code",
   "execution_count": null,
   "id": "bXBrDcsHuNf-",
   "metadata": {
    "executionInfo": {
     "elapsed": 366,
     "status": "aborted",
     "timestamp": 1634495645834,
     "user": {
      "displayName": "Joon Chun",
      "photoUrl": "https://lh3.googleusercontent.com/a/default-user=s64",
      "userId": "11589729376972489768"
     },
     "user_tz": -540
    },
    "id": "bXBrDcsHuNf-"
   },
   "outputs": [],
   "source": [
    "# 20분 소요\n",
    "X = DF_a[['age', 'sex','city','ht','wt','waist','smoking','alcohol','bmi','absi']]\n",
    "y = DF_a['fbs_L2']\n",
    "\n",
    "X_train, X_test, y_train, y_test = train_test_split(X, y,\n",
    "                                                    test_size = 0.3,\n",
    "                                                    random_state = 2045)\n",
    "\n",
    "print('Train Data : ', X_train.shape, y_train.shape)\n",
    "print('Test Data : ', X_test.shape, y_test.shape)\n",
    "\n",
    "n_estimators = [10, 30, 50, 70]\n",
    "max_features = [1, 2, 3, 4]\n",
    "max_depth = [1, 2, 3, 4, 5]\n",
    "\n",
    "Model_result=[]\n",
    "\n",
    "for i in n_estimators :\n",
    "  for j in max_features :\n",
    "    for k in max_depth:\n",
    "\n",
    "      Model_rf3 = RandomForestClassifier(n_estimators = i, \n",
    "                                              max_features = j,\n",
    "                                              max_depth = k, \n",
    "                                              random_state = 2045,\n",
    "                                              n_jobs=-1)\n",
    "      \n",
    "      Model_rf3.fit(X_train, y_train)\n",
    "\n",
    "      y_hat_rf3 = Model_rf3.predict(X_test)\n",
    "      print('n_estimators :' ,i, 'max_features :', j, 'max_depth :', k)\n",
    "      print(confusion_matrix(y_test, y_hat_rf3))\n",
    "      print('accuray : ' , accuracy_score(y_test, y_hat_rf3))\n",
    "      print('prescision :' , precision_score(y_test, y_hat_rf3))\n",
    "      print('recall :' , recall_score(y_test, y_hat_rf3))\n",
    "\n",
    "      a = accuracy_score(y_test, y_hat_rf3)\n",
    "      b = precision_score(y_test, y_hat_rf3)\n",
    "      c = recall_score(y_test, y_hat_rf3)\n",
    "      data = [i,j,k,a,b,c]\n",
    "      Model_result.append(data)\n",
    "Model_GS_L2 = pd.DataFrame(Model_result)\n",
    "Model_GS_L2.columns = ['n_estimators','max_feature','max_depth','accuray','prescision','recall']"
   ]
  },
  {
   "cell_type": "code",
   "execution_count": null,
   "id": "aTzUharuV7Ts",
   "metadata": {
    "executionInfo": {
     "elapsed": 366,
     "status": "aborted",
     "timestamp": 1634495645835,
     "user": {
      "displayName": "Joon Chun",
      "photoUrl": "https://lh3.googleusercontent.com/a/default-user=s64",
      "userId": "11589729376972489768"
     },
     "user_tz": -540
    },
    "id": "aTzUharuV7Ts"
   },
   "outputs": [],
   "source": [
    "Model_GS_L2['recall'].describe()"
   ]
  },
  {
   "cell_type": "code",
   "execution_count": null,
   "id": "TZ8BPfujWA0I",
   "metadata": {
    "executionInfo": {
     "elapsed": 366,
     "status": "aborted",
     "timestamp": 1634495645835,
     "user": {
      "displayName": "Joon Chun",
      "photoUrl": "https://lh3.googleusercontent.com/a/default-user=s64",
      "userId": "11589729376972489768"
     },
     "user_tz": -540
    },
    "id": "TZ8BPfujWA0I"
   },
   "outputs": [],
   "source": [
    "Model_GS_L2['prescision'].describe()"
   ]
  },
  {
   "cell_type": "markdown",
   "id": "J9L9N6lPQ6Nz",
   "metadata": {
    "id": "J9L9N6lPQ6Nz"
   },
   "source": [
    "## VII. 2) 모델링 - 공복혈당 추론하기 - Random Forest - 연속형 데이터"
   ]
  },
  {
   "cell_type": "markdown",
   "id": "ogcI-tf_ZQ5Q",
   "metadata": {
    "id": "ogcI-tf_ZQ5Q"
   },
   "source": [
    "### 1) 일반 Random Forest"
   ]
  },
  {
   "cell_type": "code",
   "execution_count": 401,
   "id": "FzUO5Khyznkm",
   "metadata": {
    "colab": {
     "base_uri": "https://localhost:8080/"
    },
    "executionInfo": {
     "elapsed": 291,
     "status": "ok",
     "timestamp": 1634509497172,
     "user": {
      "displayName": "Joon Chun",
      "photoUrl": "https://lh3.googleusercontent.com/a/default-user=s64",
      "userId": "11589729376972489768"
     },
     "user_tz": -540
    },
    "id": "FzUO5Khyznkm",
    "outputId": "e09f46d9-d414-4d5d-f7a9-fb0756dfaa05"
   },
   "outputs": [
    {
     "data": {
      "text/plain": [
       "count    991608.000000\n",
       "mean        100.424266\n",
       "std          24.178758\n",
       "min          25.000000\n",
       "25%          88.000000\n",
       "50%          96.000000\n",
       "75%         105.000000\n",
       "max         852.000000\n",
       "Name: fbs, dtype: float64"
      ]
     },
     "execution_count": 401,
     "metadata": {},
     "output_type": "execute_result"
    }
   ],
   "source": [
    "DF_a = DF\n",
    "# DF_a = DF_1\n",
    "# DF_a = DF_s\n",
    "# DF_a = DF_n\n",
    "DF_a['fbs'].describe()"
   ]
  },
  {
   "cell_type": "code",
   "execution_count": 402,
   "id": "6GwFzBlMVbZF",
   "metadata": {
    "executionInfo": {
     "elapsed": 352,
     "status": "ok",
     "timestamp": 1634509500079,
     "user": {
      "displayName": "Joon Chun",
      "photoUrl": "https://lh3.googleusercontent.com/a/default-user=s64",
      "userId": "11589729376972489768"
     },
     "user_tz": -540
    },
    "id": "6GwFzBlMVbZF"
   },
   "outputs": [],
   "source": [
    "X = DF_a[['age', 'sex','city','ht','wt','waist','smoking','alcohol','bmi','absi']]\n",
    "y = DF_a['fbs']"
   ]
  },
  {
   "cell_type": "code",
   "execution_count": 403,
   "id": "TYLaG_wSVej3",
   "metadata": {
    "colab": {
     "base_uri": "https://localhost:8080/"
    },
    "executionInfo": {
     "elapsed": 323,
     "status": "ok",
     "timestamp": 1634509501942,
     "user": {
      "displayName": "Joon Chun",
      "photoUrl": "https://lh3.googleusercontent.com/a/default-user=s64",
      "userId": "11589729376972489768"
     },
     "user_tz": -540
    },
    "id": "TYLaG_wSVej3",
    "outputId": "e52a9e1c-ed38-45cc-e4b4-e3483b329fc8"
   },
   "outputs": [
    {
     "name": "stdout",
     "output_type": "stream",
     "text": [
      "Train Data :  (694125, 10) (694125,)\n",
      "Test Data :  (297483, 10) (297483,)\n"
     ]
    }
   ],
   "source": [
    "X_train, X_test, y_train, y_test = train_test_split(X, y,\n",
    "                                                    test_size = 0.3,\n",
    "                                                    random_state = 2045)\n",
    "\n",
    "print('Train Data : ', X_train.shape, y_train.shape)\n",
    "print('Test Data : ', X_test.shape, y_test.shape)"
   ]
  },
  {
   "cell_type": "code",
   "execution_count": 369,
   "id": "innHr6FlVibW",
   "metadata": {
    "colab": {
     "base_uri": "https://localhost:8080/"
    },
    "executionInfo": {
     "elapsed": 11471,
     "status": "ok",
     "timestamp": 1634500398420,
     "user": {
      "displayName": "Joon Chun",
      "photoUrl": "https://lh3.googleusercontent.com/a/default-user=s64",
      "userId": "11589729376972489768"
     },
     "user_tz": -540
    },
    "id": "innHr6FlVibW",
    "outputId": "4df7d3fa-3df3-4219-c6e5-77d05c77d23d"
   },
   "outputs": [
    {
     "data": {
      "text/plain": [
       "RandomForestRegressor(bootstrap=True, ccp_alpha=0.0, criterion='mse',\n",
       "                      max_depth=None, max_features=3, max_leaf_nodes=None,\n",
       "                      max_samples=None, min_impurity_decrease=0.0,\n",
       "                      min_impurity_split=None, min_samples_leaf=1,\n",
       "                      min_samples_split=2, min_weight_fraction_leaf=0.0,\n",
       "                      n_estimators=10, n_jobs=-1, oob_score=False,\n",
       "                      random_state=2045, verbose=0, warm_start=False)"
      ]
     },
     "execution_count": 369,
     "metadata": {},
     "output_type": "execute_result"
    }
   ],
   "source": [
    "# Model_rf_a = RandomForestRegressor(n_estimators = 10,\n",
    "#                                   max_features = 3,\n",
    "#                                   random_state = 2045,\n",
    "#                                   n_jobs = -1)\n",
    "# Model_rf_a.fit(X_train, y_train)"
   ]
  },
  {
   "cell_type": "code",
   "execution_count": 404,
   "id": "08800c05",
   "metadata": {
    "colab": {
     "base_uri": "https://localhost:8080/"
    },
    "executionInfo": {
     "elapsed": 124850,
     "status": "ok",
     "timestamp": 1634509632167,
     "user": {
      "displayName": "Joon Chun",
      "photoUrl": "https://lh3.googleusercontent.com/a/default-user=s64",
      "userId": "11589729376972489768"
     },
     "user_tz": -540
    },
    "id": "08800c05",
    "outputId": "ad80f467-0b36-45d1-82a9-9d2d7350e87d"
   },
   "outputs": [
    {
     "data": {
      "text/plain": [
       "RandomForestRegressor(bootstrap=True, ccp_alpha=0.0, criterion='mse',\n",
       "                      max_depth=9, max_features=4, max_leaf_nodes=None,\n",
       "                      max_samples=None, min_impurity_decrease=0.0,\n",
       "                      min_impurity_split=None, min_samples_leaf=1,\n",
       "                      min_samples_split=2, min_weight_fraction_leaf=0.0,\n",
       "                      n_estimators=200, n_jobs=-1, oob_score=False,\n",
       "                      random_state=2045, verbose=0, warm_start=False)"
      ]
     },
     "execution_count": 404,
     "metadata": {},
     "output_type": "execute_result"
    }
   ],
   "source": [
    "Model_rf_a = RandomForestRegressor(n_estimators = 200,\n",
    "                                   max_features = 4,\n",
    "                                   max_depth = 9,\n",
    "                                   random_state = 2045,\n",
    "                                   n_jobs = -1)\n",
    "Model_rf_a.fit(X_train, y_train)"
   ]
  },
  {
   "cell_type": "code",
   "execution_count": 405,
   "id": "z7rRTXBOVqvg",
   "metadata": {
    "colab": {
     "base_uri": "https://localhost:8080/"
    },
    "executionInfo": {
     "elapsed": 4187,
     "status": "ok",
     "timestamp": 1634509720224,
     "user": {
      "displayName": "Joon Chun",
      "photoUrl": "https://lh3.googleusercontent.com/a/default-user=s64",
      "userId": "11589729376972489768"
     },
     "user_tz": -540
    },
    "id": "z7rRTXBOVqvg",
    "outputId": "589d2789-89da-4ae5-d0e5-474f3b5c5325"
   },
   "outputs": [
    {
     "name": "stdout",
     "output_type": "stream",
     "text": [
      "539.9643572035493\n"
     ]
    }
   ],
   "source": [
    "y_hat_rf_a = Model_rf_a.predict(X_test)\n",
    "mse_rf_a = mean_squared_error(y_test, y_hat_rf_a)\n",
    "print(mse_rf_a)"
   ]
  },
  {
   "cell_type": "code",
   "execution_count": 406,
   "id": "JOC7hS0MVxsv",
   "metadata": {
    "colab": {
     "base_uri": "https://localhost:8080/",
     "height": 374
    },
    "executionInfo": {
     "elapsed": 602,
     "status": "ok",
     "timestamp": 1634509739124,
     "user": {
      "displayName": "Joon Chun",
      "photoUrl": "https://lh3.googleusercontent.com/a/default-user=s64",
      "userId": "11589729376972489768"
     },
     "user_tz": -540
    },
    "id": "JOC7hS0MVxsv",
    "outputId": "3e240a62-ac26-42c5-92a9-cc784ced0b6c",
    "scrolled": true
   },
   "outputs": [
    {
     "data": {
      "image/png": "[encoded data removed]",
      "text/plain": [
       "<Figure size 648x432 with 1 Axes>"
      ]
     },
     "metadata": {
      "needs_background": "light"
     },
     "output_type": "display_data"
    }
   ],
   "source": [
    "plt.figure(figsize=(9, 6))\n",
    "sns.barplot(Model_rf_a.feature_importances_, ['age', 'sex','city','ht','wt','waist','smoking','alcohol','bmi','absi'])\n",
    "plt.show()"
   ]
  },
  {
   "cell_type": "markdown",
   "id": "JVK5Inh_ZXzQ",
   "metadata": {
    "id": "JVK5Inh_ZXzQ"
   },
   "source": [
    "### 2) for 문 GridSearch"
   ]
  },
  {
   "cell_type": "code",
   "execution_count": null,
   "id": "SJlOn5TuZe6o",
   "metadata": {
    "executionInfo": {
     "elapsed": 18,
     "status": "aborted",
     "timestamp": 1634495324700,
     "user": {
      "displayName": "Joon Chun",
      "photoUrl": "https://lh3.googleusercontent.com/a/default-user=s64",
      "userId": "11589729376972489768"
     },
     "user_tz": -540
    },
    "id": "SJlOn5TuZe6o"
   },
   "outputs": [],
   "source": [
    "# DF_a = DF\n",
    "# DF_a = DF_1\n",
    "DF_a = DF_s\n",
    "# DF_a = DF_n"
   ]
  },
  {
   "cell_type": "code",
   "execution_count": null,
   "id": "HWSus2wyZemB",
   "metadata": {
    "executionInfo": {
     "elapsed": 18,
     "status": "aborted",
     "timestamp": 1634495324700,
     "user": {
      "displayName": "Joon Chun",
      "photoUrl": "https://lh3.googleusercontent.com/a/default-user=s64",
      "userId": "11589729376972489768"
     },
     "user_tz": -540
    },
    "id": "HWSus2wyZemB"
   },
   "outputs": [],
   "source": [
    "# 9분 소요\n",
    "X = DF_a[['age', 'sex','city','ht','wt','waist','smoking','alcohol','bmi','absi']]\n",
    "y = DF_a['fbs']\n",
    "\n",
    "X_train, X_test, y_train, y_test = train_test_split(X, y,\n",
    "                                                    test_size = 0.3,\n",
    "                                                    random_state = 2045)\n",
    "\n",
    "print('Train Data : ', X_train.shape, y_train.shape)\n",
    "print('Test Data : ', X_test.shape, y_test.shape)\n",
    "\n",
    "n_estimators = [10, 30, 50, 70]\n",
    "max_features = [1, 2, 3, 4]\n",
    "max_depth = [1, 2, 3, 4, 5]\n",
    "\n",
    "Model_result=[]\n",
    "\n",
    "for i in n_estimators :\n",
    "  for j in max_features :\n",
    "    for k in max_depth:\n",
    "\n",
    "      Model_rf_a = RandomForestRegressor(n_estimators = i, \n",
    "                                              max_features = j,\n",
    "                                              max_depth = k, \n",
    "                                              random_state = 2045,\n",
    "                                              n_jobs=-1)\n",
    "      \n",
    "      Model_rf_a.fit(X_train, y_train)\n",
    "\n",
    "      y_hat_rf_a = Model_rf_a.predict(X_test)\n",
    "      mse_rf_a = mean_squared_error(y_test, y_hat_rf_a)\n",
    "\n",
    "      print('n_estimators :' ,i, 'max_features :', j, 'max_depth :', k)\n",
    "      print('mse : ' , mse_rf_a)\n",
    "\n",
    "\n",
    "      a = mean_squared_error(y_test, y_hat_rf_a)\n",
    "      data = [i,j,k,a,]\n",
    "      Model_result.append(data)\n",
    "Model_GS_a = pd.DataFrame(Model_result)\n",
    "Model_GS_a.columns = ['n_estimators','max_feature','max_depth','mse']"
   ]
  },
  {
   "cell_type": "code",
   "execution_count": null,
   "id": "39784d7e",
   "metadata": {
    "executionInfo": {
     "elapsed": 18,
     "status": "aborted",
     "timestamp": 1634495324700,
     "user": {
      "displayName": "Joon Chun",
      "photoUrl": "https://lh3.googleusercontent.com/a/default-user=s64",
      "userId": "11589729376972489768"
     },
     "user_tz": -540
    },
    "id": "39784d7e"
   },
   "outputs": [],
   "source": [
    "#데이터 프레임 저장\n",
    "Model_GS_a.to_csv('c:/My_data/health_care/Random_Forest_(for)GS_a.csv')\n",
    "#데이터 프레임 불러오기\n",
    "Model_GS_a = pd.read_csv('c:/My_data/health_care/Random_Forest_(for)GS_a.csv', encoding='cp949')"
   ]
  },
  {
   "cell_type": "code",
   "execution_count": null,
   "id": "WzK2jsp7c7Sd",
   "metadata": {
    "executionInfo": {
     "elapsed": 19,
     "status": "aborted",
     "timestamp": 1634495324701,
     "user": {
      "displayName": "Joon Chun",
      "photoUrl": "https://lh3.googleusercontent.com/a/default-user=s64",
      "userId": "11589729376972489768"
     },
     "user_tz": -540
    },
    "id": "WzK2jsp7c7Sd",
    "scrolled": false
   },
   "outputs": [],
   "source": [
    "Model_GS_a['mse'].describe()"
   ]
  },
  {
   "cell_type": "code",
   "execution_count": null,
   "id": "c6931072",
   "metadata": {
    "executionInfo": {
     "elapsed": 19,
     "status": "aborted",
     "timestamp": 1634495324701,
     "user": {
      "displayName": "Joon Chun",
      "photoUrl": "https://lh3.googleusercontent.com/a/default-user=s64",
      "userId": "11589729376972489768"
     },
     "user_tz": -540
    },
    "id": "c6931072",
    "scrolled": true
   },
   "outputs": [],
   "source": [
    "maxs = Model_GS_a.loc[Model_GS_a['mse'].idxmax()]\n",
    "print('max : ' , maxs)\n",
    "mins = Model_GS_a.loc[Model_GS_a['mse'].idxmin()]\n",
    "print('min : ' , mins)"
   ]
  },
  {
   "cell_type": "code",
   "execution_count": 373,
   "id": "1f33cc92",
   "metadata": {
    "colab": {
     "base_uri": "https://localhost:8080/"
    },
    "executionInfo": {
     "elapsed": 5101977,
     "status": "ok",
     "timestamp": 1634505690333,
     "user": {
      "displayName": "Joon Chun",
      "photoUrl": "https://lh3.googleusercontent.com/a/default-user=s64",
      "userId": "11589729376972489768"
     },
     "user_tz": -540
    },
    "id": "1f33cc92",
    "outputId": "e2da880f-9cd4-41b8-a5fb-6b54c7bae1d6"
   },
   "outputs": [
    {
     "name": "stdout",
     "output_type": "stream",
     "text": [
      "Train Data :  (678280, 10) (678280,)\n",
      "Test Data :  (290692, 10) (290692,)\n",
      "n_estimators : 10 max_features : 3 max_depth : 9\n",
      "mse :  0.0015151103782945054\n",
      "n_estimators : 10 max_features : 3 max_depth : 10\n",
      "mse :  0.0015159504885458896\n",
      "n_estimators : 10 max_features : 3 max_depth : 11\n",
      "mse :  0.0015184098123660747\n",
      "n_estimators : 10 max_features : 3 max_depth : 12\n",
      "mse :  0.0015212445502149246\n",
      "n_estimators : 10 max_features : 3 max_depth : 13\n",
      "mse :  0.0015271498385474574\n",
      "n_estimators : 10 max_features : 4 max_depth : 9\n",
      "mse :  0.0015139212834629297\n",
      "n_estimators : 10 max_features : 4 max_depth : 10\n",
      "mse :  0.0015176096712061341\n",
      "n_estimators : 10 max_features : 4 max_depth : 11\n",
      "mse :  0.0015191693357225183\n",
      "n_estimators : 10 max_features : 4 max_depth : 12\n",
      "mse :  0.001523968652823406\n",
      "n_estimators : 10 max_features : 4 max_depth : 13\n",
      "mse :  0.0015300214882573977\n",
      "n_estimators : 10 max_features : 5 max_depth : 9\n",
      "mse :  0.00151569999648865\n",
      "n_estimators : 10 max_features : 5 max_depth : 10\n",
      "mse :  0.0015167042154426566\n",
      "n_estimators : 10 max_features : 5 max_depth : 11\n",
      "mse :  0.001520708798801266\n",
      "n_estimators : 10 max_features : 5 max_depth : 12\n",
      "mse :  0.0015257556859154758\n",
      "n_estimators : 10 max_features : 5 max_depth : 13\n",
      "mse :  0.0015303087753565554\n",
      "n_estimators : 50 max_features : 3 max_depth : 9\n",
      "mse :  0.0015140439186353313\n",
      "n_estimators : 50 max_features : 3 max_depth : 10\n",
      "mse :  0.00151399864252327\n",
      "n_estimators : 50 max_features : 3 max_depth : 11\n",
      "mse :  0.001514616782036856\n",
      "n_estimators : 50 max_features : 3 max_depth : 12\n",
      "mse :  0.0015163787883915435\n",
      "n_estimators : 50 max_features : 3 max_depth : 13\n",
      "mse :  0.0015191822526283416\n",
      "n_estimators : 50 max_features : 4 max_depth : 9\n",
      "mse :  0.001513493953408789\n",
      "n_estimators : 50 max_features : 4 max_depth : 10\n",
      "mse :  0.0015142544233035847\n",
      "n_estimators : 50 max_features : 4 max_depth : 11\n",
      "mse :  0.0015150539140923703\n",
      "n_estimators : 50 max_features : 4 max_depth : 12\n",
      "mse :  0.001517576895840594\n",
      "n_estimators : 50 max_features : 4 max_depth : 13\n",
      "mse :  0.0015206044259051719\n",
      "n_estimators : 50 max_features : 5 max_depth : 9\n",
      "mse :  0.0015135478774804725\n",
      "n_estimators : 50 max_features : 5 max_depth : 10\n",
      "mse :  0.0015142849266299421\n",
      "n_estimators : 50 max_features : 5 max_depth : 11\n",
      "mse :  0.001516056557259888\n",
      "n_estimators : 50 max_features : 5 max_depth : 12\n",
      "mse :  0.0015186862076860049\n",
      "n_estimators : 50 max_features : 5 max_depth : 13\n",
      "mse :  0.0015223310335658192\n",
      "n_estimators : 100 max_features : 3 max_depth : 9\n",
      "mse :  0.001513851671300519\n",
      "n_estimators : 100 max_features : 3 max_depth : 10\n",
      "mse :  0.0015137281659943647\n",
      "n_estimators : 100 max_features : 3 max_depth : 11\n",
      "mse :  0.0015141305111586187\n",
      "n_estimators : 100 max_features : 3 max_depth : 12\n",
      "mse :  0.0015156599003464017\n",
      "n_estimators : 100 max_features : 3 max_depth : 13\n",
      "mse :  0.0015177385588799554\n",
      "n_estimators : 100 max_features : 4 max_depth : 9\n",
      "mse :  0.001513380144816453\n",
      "n_estimators : 100 max_features : 4 max_depth : 10\n",
      "mse :  0.0015138071291508073\n",
      "n_estimators : 100 max_features : 4 max_depth : 11\n",
      "mse :  0.0015145029660041534\n",
      "n_estimators : 100 max_features : 4 max_depth : 12\n",
      "mse :  0.0015163851108074\n",
      "n_estimators : 100 max_features : 4 max_depth : 13\n",
      "mse :  0.0015196388910989184\n",
      "n_estimators : 100 max_features : 5 max_depth : 9\n",
      "mse :  0.0015133207283122886\n",
      "n_estimators : 100 max_features : 5 max_depth : 10\n",
      "mse :  0.0015137928888945742\n",
      "n_estimators : 100 max_features : 5 max_depth : 11\n",
      "mse :  0.0015153856979339944\n",
      "n_estimators : 100 max_features : 5 max_depth : 12\n",
      "mse :  0.0015173990730967886\n",
      "n_estimators : 100 max_features : 5 max_depth : 13\n",
      "mse :  0.0015206283583307722\n",
      "n_estimators : 150 max_features : 3 max_depth : 9\n",
      "mse :  0.0015138269872445643\n",
      "n_estimators : 150 max_features : 3 max_depth : 10\n",
      "mse :  0.0015135670315932987\n",
      "n_estimators : 150 max_features : 3 max_depth : 11\n",
      "mse :  0.0015139687527692004\n",
      "n_estimators : 150 max_features : 3 max_depth : 12\n",
      "mse :  0.001515360496567214\n",
      "n_estimators : 150 max_features : 3 max_depth : 13\n",
      "mse :  0.0015174308281062498\n",
      "n_estimators : 150 max_features : 4 max_depth : 9\n",
      "mse :  0.0015132863585712053\n",
      "n_estimators : 150 max_features : 4 max_depth : 10\n",
      "mse :  0.0015136743930002396\n",
      "n_estimators : 150 max_features : 4 max_depth : 11\n",
      "mse :  0.0015142746746261621\n",
      "n_estimators : 150 max_features : 4 max_depth : 12\n",
      "mse :  0.0015162155897440364\n",
      "n_estimators : 150 max_features : 4 max_depth : 13\n",
      "mse :  0.0015189971186641965\n",
      "n_estimators : 150 max_features : 5 max_depth : 9\n",
      "mse :  0.0015132854502519673\n",
      "n_estimators : 150 max_features : 5 max_depth : 10\n",
      "mse :  0.0015137391100069567\n",
      "n_estimators : 150 max_features : 5 max_depth : 11\n",
      "mse :  0.0015150539995165912\n",
      "n_estimators : 150 max_features : 5 max_depth : 12\n",
      "mse :  0.00151708323467971\n",
      "n_estimators : 150 max_features : 5 max_depth : 13\n",
      "mse :  0.001520216161292126\n",
      "n_estimators : 200 max_features : 3 max_depth : 9\n",
      "mse :  0.001513774903216157\n",
      "n_estimators : 200 max_features : 3 max_depth : 10\n",
      "mse :  0.0015135602807688066\n",
      "n_estimators : 200 max_features : 3 max_depth : 11\n",
      "mse :  0.0015139542222486915\n",
      "n_estimators : 200 max_features : 3 max_depth : 12\n",
      "mse :  0.001515177513192571\n",
      "n_estimators : 200 max_features : 3 max_depth : 13\n",
      "mse :  0.0015172372470937103\n",
      "n_estimators : 200 max_features : 4 max_depth : 9\n",
      "mse :  0.0015131715192944711\n",
      "n_estimators : 200 max_features : 4 max_depth : 10\n",
      "mse :  0.0015135304101361118\n",
      "n_estimators : 200 max_features : 4 max_depth : 11\n",
      "mse :  0.0015141146582200917\n",
      "n_estimators : 200 max_features : 4 max_depth : 12\n",
      "mse :  0.001515995066123074\n",
      "n_estimators : 200 max_features : 4 max_depth : 13\n",
      "mse :  0.0015187662620176712\n",
      "n_estimators : 200 max_features : 5 max_depth : 9\n",
      "mse :  0.001513216519377671\n",
      "n_estimators : 200 max_features : 5 max_depth : 10\n",
      "mse :  0.001513657934985192\n",
      "n_estimators : 200 max_features : 5 max_depth : 11\n",
      "mse :  0.0015149080197260063\n",
      "n_estimators : 200 max_features : 5 max_depth : 12\n",
      "mse :  0.0015168853693839715\n",
      "n_estimators : 200 max_features : 5 max_depth : 13\n",
      "mse :  0.001519924285375234\n",
      "time :  5101.453890323639\n"
     ]
    }
   ],
   "source": [
    "# 1시간 20분 소요\n",
    "startT = time.time()\n",
    "\n",
    "X = DF_a[['age', 'sex','city','ht','wt','waist','smoking','alcohol','bmi','absi']]\n",
    "y = DF_a['fbs']\n",
    "\n",
    "X_train, X_test, y_train, y_test = train_test_split(X, y,\n",
    "                                                    test_size = 0.3,\n",
    "                                                    random_state = 2045)\n",
    "\n",
    "print('Train Data : ', X_train.shape, y_train.shape)\n",
    "print('Test Data : ', X_test.shape, y_test.shape)\n",
    "\n",
    "n_estimators = [10, 50, 100, 150, 200]\n",
    "max_features = [3, 4, 5]\n",
    "max_depth = [9, 10, 11, 12, 13]\n",
    "\n",
    "Model_result=[]\n",
    "\n",
    "for i in n_estimators :\n",
    "  for j in max_features :\n",
    "    for k in max_depth:\n",
    "\n",
    "      Model_rf_a = RandomForestRegressor(n_estimators = i, \n",
    "                                              max_features = j,\n",
    "                                              max_depth = k, \n",
    "                                              random_state = 2045,\n",
    "                                              n_jobs=-1)\n",
    "      \n",
    "      Model_rf_a.fit(X_train, y_train)\n",
    "\n",
    "      y_hat_rf_a = Model_rf_a.predict(X_test)\n",
    "      mse_rf_a = mean_squared_error(y_test, y_hat_rf_a)\n",
    "\n",
    "      print('n_estimators :' ,i, 'max_features :', j, 'max_depth :', k)\n",
    "      print('mse : ' , mse_rf_a)\n",
    "\n",
    "\n",
    "      a = mean_squared_error(y_test, y_hat_rf_a)\n",
    "      data = [i,j,k,a,]\n",
    "      Model_result.append(data)\n",
    "Model_GS_a2 = pd.DataFrame(Model_result)\n",
    "Model_GS_a2.columns = ['n_estimators','max_feature','max_depth','mse']\n",
    "\n",
    "print('time : ', time.time() - startT )"
   ]
  },
  {
   "cell_type": "code",
   "execution_count": 376,
   "id": "dbdb603a",
   "metadata": {
    "colab": {
     "base_uri": "https://localhost:8080/",
     "height": 431
    },
    "executionInfo": {
     "elapsed": 289,
     "status": "error",
     "timestamp": 1634508538854,
     "user": {
      "displayName": "Joon Chun",
      "photoUrl": "https://lh3.googleusercontent.com/a/default-user=s64",
      "userId": "11589729376972489768"
     },
     "user_tz": -540
    },
    "id": "dbdb603a",
    "outputId": "7f8568fe-2532-4cb7-e344-b828875a6391"
   },
   "outputs": [
    {
     "ename": "FileNotFoundError",
     "evalue": "ignored",
     "output_type": "error",
     "traceback": [
      "\u001b[0;31m---------------------------------------------------------------------------\u001b[0m",
      "\u001b[0;31mFileNotFoundError\u001b[0m                         Traceback (most recent call last)",
      "\u001b[0;32m<ipython-input-376-b2df9c93a20b>\u001b[0m in \u001b[0;36m<module>\u001b[0;34m()\u001b[0m\n\u001b[1;32m      1\u001b[0m \u001b[0;31m#데이터 프레임 저장\u001b[0m\u001b[0;34m\u001b[0m\u001b[0;34m\u001b[0m\u001b[0;34m\u001b[0m\u001b[0m\n\u001b[0;32m----> 2\u001b[0;31m \u001b[0mModel_GS_a2\u001b[0m\u001b[0;34m.\u001b[0m\u001b[0mto_csv\u001b[0m\u001b[0;34m(\u001b[0m\u001b[0;34m'c:/My_data/health_care/Random_Forest_(for)GS_a2(600).csv'\u001b[0m\u001b[0;34m)\u001b[0m\u001b[0;34m\u001b[0m\u001b[0;34m\u001b[0m\u001b[0m\n\u001b[0m\u001b[1;32m      3\u001b[0m \u001b[0;31m#데이터 프레임 불러오기\u001b[0m\u001b[0;34m\u001b[0m\u001b[0;34m\u001b[0m\u001b[0;34m\u001b[0m\u001b[0m\n\u001b[1;32m      4\u001b[0m \u001b[0mModel_GS_a2\u001b[0m \u001b[0;34m=\u001b[0m \u001b[0mpd\u001b[0m\u001b[0;34m.\u001b[0m\u001b[0mread_csv\u001b[0m\u001b[0;34m(\u001b[0m\u001b[0;34m'c:/My_data/health_care/Random_Forest_(for)GS_a2(600).csv'\u001b[0m\u001b[0;34m,\u001b[0m \u001b[0mencoding\u001b[0m\u001b[0;34m=\u001b[0m\u001b[0;34m'cp949'\u001b[0m\u001b[0;34m)\u001b[0m\u001b[0;34m\u001b[0m\u001b[0;34m\u001b[0m\u001b[0m\n",
      "\u001b[0;32m/usr/local/lib/python3.7/dist-packages/pandas/core/generic.py\u001b[0m in \u001b[0;36mto_csv\u001b[0;34m(self, path_or_buf, sep, na_rep, float_format, columns, header, index, index_label, mode, encoding, compression, quoting, quotechar, line_terminator, chunksize, date_format, doublequote, escapechar, decimal, errors)\u001b[0m\n\u001b[1;32m   3168\u001b[0m             \u001b[0mdecimal\u001b[0m\u001b[0;34m=\u001b[0m\u001b[0mdecimal\u001b[0m\u001b[0;34m,\u001b[0m\u001b[0;34m\u001b[0m\u001b[0;34m\u001b[0m\u001b[0m\n\u001b[1;32m   3169\u001b[0m         )\n\u001b[0;32m-> 3170\u001b[0;31m         \u001b[0mformatter\u001b[0m\u001b[0;34m.\u001b[0m\u001b[0msave\u001b[0m\u001b[0;34m(\u001b[0m\u001b[0;34m)\u001b[0m\u001b[0;34m\u001b[0m\u001b[0;34m\u001b[0m\u001b[0m\n\u001b[0m\u001b[1;32m   3171\u001b[0m \u001b[0;34m\u001b[0m\u001b[0m\n\u001b[1;32m   3172\u001b[0m         \u001b[0;32mif\u001b[0m \u001b[0mpath_or_buf\u001b[0m \u001b[0;32mis\u001b[0m \u001b[0;32mNone\u001b[0m\u001b[0;34m:\u001b[0m\u001b[0;34m\u001b[0m\u001b[0;34m\u001b[0m\u001b[0m\n",
      "\u001b[0;32m/usr/local/lib/python3.7/dist-packages/pandas/io/formats/csvs.py\u001b[0m in \u001b[0;36msave\u001b[0;34m(self)\u001b[0m\n\u001b[1;32m    188\u001b[0m                 \u001b[0mencoding\u001b[0m\u001b[0;34m=\u001b[0m\u001b[0mself\u001b[0m\u001b[0;34m.\u001b[0m\u001b[0mencoding\u001b[0m\u001b[0;34m,\u001b[0m\u001b[0;34m\u001b[0m\u001b[0;34m\u001b[0m\u001b[0m\n\u001b[1;32m    189\u001b[0m                 \u001b[0merrors\u001b[0m\u001b[0;34m=\u001b[0m\u001b[0mself\u001b[0m\u001b[0;34m.\u001b[0m\u001b[0merrors\u001b[0m\u001b[0;34m,\u001b[0m\u001b[0;34m\u001b[0m\u001b[0;34m\u001b[0m\u001b[0m\n\u001b[0;32m--> 190\u001b[0;31m                 \u001b[0mcompression\u001b[0m\u001b[0;34m=\u001b[0m\u001b[0mdict\u001b[0m\u001b[0;34m(\u001b[0m\u001b[0mself\u001b[0m\u001b[0;34m.\u001b[0m\u001b[0mcompression_args\u001b[0m\u001b[0;34m,\u001b[0m \u001b[0mmethod\u001b[0m\u001b[0;34m=\u001b[0m\u001b[0mself\u001b[0m\u001b[0;34m.\u001b[0m\u001b[0mcompression\u001b[0m\u001b[0;34m)\u001b[0m\u001b[0;34m,\u001b[0m\u001b[0;34m\u001b[0m\u001b[0;34m\u001b[0m\u001b[0m\n\u001b[0m\u001b[1;32m    191\u001b[0m             )\n\u001b[1;32m    192\u001b[0m             \u001b[0mclose\u001b[0m \u001b[0;34m=\u001b[0m \u001b[0;32mTrue\u001b[0m\u001b[0;34m\u001b[0m\u001b[0;34m\u001b[0m\u001b[0m\n",
      "\u001b[0;32m/usr/local/lib/python3.7/dist-packages/pandas/io/common.py\u001b[0m in \u001b[0;36mget_handle\u001b[0;34m(path_or_buf, mode, encoding, compression, memory_map, is_text, errors)\u001b[0m\n\u001b[1;32m    491\u001b[0m         \u001b[0;32mif\u001b[0m \u001b[0mencoding\u001b[0m\u001b[0;34m:\u001b[0m\u001b[0;34m\u001b[0m\u001b[0;34m\u001b[0m\u001b[0m\n\u001b[1;32m    492\u001b[0m             \u001b[0;31m# Encoding\u001b[0m\u001b[0;34m\u001b[0m\u001b[0;34m\u001b[0m\u001b[0;34m\u001b[0m\u001b[0m\n\u001b[0;32m--> 493\u001b[0;31m             \u001b[0mf\u001b[0m \u001b[0;34m=\u001b[0m \u001b[0mopen\u001b[0m\u001b[0;34m(\u001b[0m\u001b[0mpath_or_buf\u001b[0m\u001b[0;34m,\u001b[0m \u001b[0mmode\u001b[0m\u001b[0;34m,\u001b[0m \u001b[0mencoding\u001b[0m\u001b[0;34m=\u001b[0m\u001b[0mencoding\u001b[0m\u001b[0;34m,\u001b[0m \u001b[0merrors\u001b[0m\u001b[0;34m=\u001b[0m\u001b[0merrors\u001b[0m\u001b[0;34m,\u001b[0m \u001b[0mnewline\u001b[0m\u001b[0;34m=\u001b[0m\u001b[0;34m\"\"\u001b[0m\u001b[0;34m)\u001b[0m\u001b[0;34m\u001b[0m\u001b[0;34m\u001b[0m\u001b[0m\n\u001b[0m\u001b[1;32m    494\u001b[0m         \u001b[0;32melif\u001b[0m \u001b[0mis_text\u001b[0m\u001b[0;34m:\u001b[0m\u001b[0;34m\u001b[0m\u001b[0;34m\u001b[0m\u001b[0m\n\u001b[1;32m    495\u001b[0m             \u001b[0;31m# No explicit encoding\u001b[0m\u001b[0;34m\u001b[0m\u001b[0;34m\u001b[0m\u001b[0;34m\u001b[0m\u001b[0m\n",
      "\u001b[0;31mFileNotFoundError\u001b[0m: [Errno 2] No such file or directory: 'c:/My_data/health_care/Random_Forest_(for)GS_a2(600).csv'"
     ]
    }
   ],
   "source": [
    "#데이터 프레임 저장\n",
    "Model_GS_a2.to_csv('c:/My_data/health_care/Random_Forest_(for)GS_a2(600).csv')\n",
    "#데이터 프레임 불러오기\n",
    "Model_GS_a2 = pd.read_csv('c:/My_data/health_care/Random_Forest_(for)GS_a2(600).csv', encoding='cp949')"
   ]
  },
  {
   "cell_type": "code",
   "execution_count": 377,
   "id": "JTF6r9ATTTdZ",
   "metadata": {
    "colab": {
     "base_uri": "https://localhost:8080/",
     "height": 358
    },
    "executionInfo": {
     "elapsed": 311,
     "status": "error",
     "timestamp": 1634508557221,
     "user": {
      "displayName": "Joon Chun",
      "photoUrl": "https://lh3.googleusercontent.com/a/default-user=s64",
      "userId": "11589729376972489768"
     },
     "user_tz": -540
    },
    "id": "JTF6r9ATTTdZ",
    "outputId": "a984faf4-27a0-41ae-c5d2-7f11fe06f359"
   },
   "outputs": [
    {
     "ename": "FileNotFoundError",
     "evalue": "ignored",
     "output_type": "error",
     "traceback": [
      "\u001b[0;31m---------------------------------------------------------------------------\u001b[0m",
      "\u001b[0;31mFileNotFoundError\u001b[0m                         Traceback (most recent call last)",
      "\u001b[0;32m<ipython-input-377-0a4ec5b242a2>\u001b[0m in \u001b[0;36m<module>\u001b[0;34m()\u001b[0m\n\u001b[0;32m----> 1\u001b[0;31m \u001b[0mModel_GS_a2\u001b[0m\u001b[0;34m.\u001b[0m\u001b[0mto_csv\u001b[0m\u001b[0;34m(\u001b[0m\u001b[0;34m'c:/My_data/health_care/Random_Forest_(for)GS_a2(600).csv'\u001b[0m\u001b[0;34m)\u001b[0m\u001b[0;34m\u001b[0m\u001b[0;34m\u001b[0m\u001b[0m\n\u001b[0m",
      "\u001b[0;32m/usr/local/lib/python3.7/dist-packages/pandas/core/generic.py\u001b[0m in \u001b[0;36mto_csv\u001b[0;34m(self, path_or_buf, sep, na_rep, float_format, columns, header, index, index_label, mode, encoding, compression, quoting, quotechar, line_terminator, chunksize, date_format, doublequote, escapechar, decimal, errors)\u001b[0m\n\u001b[1;32m   3168\u001b[0m             \u001b[0mdecimal\u001b[0m\u001b[0;34m=\u001b[0m\u001b[0mdecimal\u001b[0m\u001b[0;34m,\u001b[0m\u001b[0;34m\u001b[0m\u001b[0;34m\u001b[0m\u001b[0m\n\u001b[1;32m   3169\u001b[0m         )\n\u001b[0;32m-> 3170\u001b[0;31m         \u001b[0mformatter\u001b[0m\u001b[0;34m.\u001b[0m\u001b[0msave\u001b[0m\u001b[0;34m(\u001b[0m\u001b[0;34m)\u001b[0m\u001b[0;34m\u001b[0m\u001b[0;34m\u001b[0m\u001b[0m\n\u001b[0m\u001b[1;32m   3171\u001b[0m \u001b[0;34m\u001b[0m\u001b[0m\n\u001b[1;32m   3172\u001b[0m         \u001b[0;32mif\u001b[0m \u001b[0mpath_or_buf\u001b[0m \u001b[0;32mis\u001b[0m \u001b[0;32mNone\u001b[0m\u001b[0;34m:\u001b[0m\u001b[0;34m\u001b[0m\u001b[0;34m\u001b[0m\u001b[0m\n",
      "\u001b[0;32m/usr/local/lib/python3.7/dist-packages/pandas/io/formats/csvs.py\u001b[0m in \u001b[0;36msave\u001b[0;34m(self)\u001b[0m\n\u001b[1;32m    188\u001b[0m                 \u001b[0mencoding\u001b[0m\u001b[0;34m=\u001b[0m\u001b[0mself\u001b[0m\u001b[0;34m.\u001b[0m\u001b[0mencoding\u001b[0m\u001b[0;34m,\u001b[0m\u001b[0;34m\u001b[0m\u001b[0;34m\u001b[0m\u001b[0m\n\u001b[1;32m    189\u001b[0m                 \u001b[0merrors\u001b[0m\u001b[0;34m=\u001b[0m\u001b[0mself\u001b[0m\u001b[0;34m.\u001b[0m\u001b[0merrors\u001b[0m\u001b[0;34m,\u001b[0m\u001b[0;34m\u001b[0m\u001b[0;34m\u001b[0m\u001b[0m\n\u001b[0;32m--> 190\u001b[0;31m                 \u001b[0mcompression\u001b[0m\u001b[0;34m=\u001b[0m\u001b[0mdict\u001b[0m\u001b[0;34m(\u001b[0m\u001b[0mself\u001b[0m\u001b[0;34m.\u001b[0m\u001b[0mcompression_args\u001b[0m\u001b[0;34m,\u001b[0m \u001b[0mmethod\u001b[0m\u001b[0;34m=\u001b[0m\u001b[0mself\u001b[0m\u001b[0;34m.\u001b[0m\u001b[0mcompression\u001b[0m\u001b[0;34m)\u001b[0m\u001b[0;34m,\u001b[0m\u001b[0;34m\u001b[0m\u001b[0;34m\u001b[0m\u001b[0m\n\u001b[0m\u001b[1;32m    191\u001b[0m             )\n\u001b[1;32m    192\u001b[0m             \u001b[0mclose\u001b[0m \u001b[0;34m=\u001b[0m \u001b[0;32mTrue\u001b[0m\u001b[0;34m\u001b[0m\u001b[0;34m\u001b[0m\u001b[0m\n",
      "\u001b[0;32m/usr/local/lib/python3.7/dist-packages/pandas/io/common.py\u001b[0m in \u001b[0;36mget_handle\u001b[0;34m(path_or_buf, mode, encoding, compression, memory_map, is_text, errors)\u001b[0m\n\u001b[1;32m    491\u001b[0m         \u001b[0;32mif\u001b[0m \u001b[0mencoding\u001b[0m\u001b[0;34m:\u001b[0m\u001b[0;34m\u001b[0m\u001b[0;34m\u001b[0m\u001b[0m\n\u001b[1;32m    492\u001b[0m             \u001b[0;31m# Encoding\u001b[0m\u001b[0;34m\u001b[0m\u001b[0;34m\u001b[0m\u001b[0;34m\u001b[0m\u001b[0m\n\u001b[0;32m--> 493\u001b[0;31m             \u001b[0mf\u001b[0m \u001b[0;34m=\u001b[0m \u001b[0mopen\u001b[0m\u001b[0;34m(\u001b[0m\u001b[0mpath_or_buf\u001b[0m\u001b[0;34m,\u001b[0m \u001b[0mmode\u001b[0m\u001b[0;34m,\u001b[0m \u001b[0mencoding\u001b[0m\u001b[0;34m=\u001b[0m\u001b[0mencoding\u001b[0m\u001b[0;34m,\u001b[0m \u001b[0merrors\u001b[0m\u001b[0;34m=\u001b[0m\u001b[0merrors\u001b[0m\u001b[0;34m,\u001b[0m \u001b[0mnewline\u001b[0m\u001b[0;34m=\u001b[0m\u001b[0;34m\"\"\u001b[0m\u001b[0;34m)\u001b[0m\u001b[0;34m\u001b[0m\u001b[0;34m\u001b[0m\u001b[0m\n\u001b[0m\u001b[1;32m    494\u001b[0m         \u001b[0;32melif\u001b[0m \u001b[0mis_text\u001b[0m\u001b[0;34m:\u001b[0m\u001b[0;34m\u001b[0m\u001b[0;34m\u001b[0m\u001b[0m\n\u001b[1;32m    495\u001b[0m             \u001b[0;31m# No explicit encoding\u001b[0m\u001b[0;34m\u001b[0m\u001b[0;34m\u001b[0m\u001b[0;34m\u001b[0m\u001b[0m\n",
      "\u001b[0;31mFileNotFoundError\u001b[0m: [Errno 2] No such file or directory: 'c:/My_data/health_care/Random_Forest_(for)GS_a2(600).csv'"
     ]
    }
   ],
   "source": [
    "Model_GS_a2.to_csv('c:/My_data/health_care/Random_Forest_(for)GS_a2(600).csv')"
   ]
  },
  {
   "cell_type": "code",
   "execution_count": 378,
   "id": "1940011f",
   "metadata": {
    "colab": {
     "base_uri": "https://localhost:8080/"
    },
    "executionInfo": {
     "elapsed": 325,
     "status": "ok",
     "timestamp": 1634508597794,
     "user": {
      "displayName": "Joon Chun",
      "photoUrl": "https://lh3.googleusercontent.com/a/default-user=s64",
      "userId": "11589729376972489768"
     },
     "user_tz": -540
    },
    "id": "1940011f",
    "outputId": "172f1a7e-3860-4788-9e2f-2959e60560b0"
   },
   "outputs": [
    {
     "data": {
      "text/plain": [
       "count    75.000000\n",
       "mean      0.001517\n",
       "std       0.000004\n",
       "min       0.001513\n",
       "25%       0.001514\n",
       "50%       0.001515\n",
       "75%       0.001518\n",
       "max       0.001530\n",
       "Name: mse, dtype: float64"
      ]
     },
     "execution_count": 378,
     "metadata": {},
     "output_type": "execute_result"
    }
   ],
   "source": [
    "Model_GS_a2['mse'].describe()"
   ]
  },
  {
   "cell_type": "code",
   "execution_count": 379,
   "id": "94bfd036",
   "metadata": {
    "colab": {
     "base_uri": "https://localhost:8080/"
    },
    "executionInfo": {
     "elapsed": 287,
     "status": "ok",
     "timestamp": 1634508607638,
     "user": {
      "displayName": "Joon Chun",
      "photoUrl": "https://lh3.googleusercontent.com/a/default-user=s64",
      "userId": "11589729376972489768"
     },
     "user_tz": -540
    },
    "id": "94bfd036",
    "outputId": "69eef0c6-cc6f-4dd1-ef40-ac75c89bf496"
   },
   "outputs": [
    {
     "name": "stdout",
     "output_type": "stream",
     "text": [
      "max :  n_estimators    10.00000\n",
      "max_feature      5.00000\n",
      "max_depth       13.00000\n",
      "mse              0.00153\n",
      "Name: 14, dtype: float64\n",
      "min :  n_estimators    200.000000\n",
      "max_feature       4.000000\n",
      "max_depth         9.000000\n",
      "mse               0.001513\n",
      "Name: 65, dtype: float64\n"
     ]
    }
   ],
   "source": [
    "maxs = Model_GS_a2.loc[Model_GS_a2['mse'].idxmax()]\n",
    "print('max : ' , maxs)\n",
    "mins = Model_GS_a2.loc[Model_GS_a2['mse'].idxmin()]\n",
    "print('min : ' , mins)"
   ]
  },
  {
   "cell_type": "code",
   "execution_count": null,
   "id": "62b967fe",
   "metadata": {
    "executionInfo": {
     "elapsed": 20,
     "status": "aborted",
     "timestamp": 1634495324703,
     "user": {
      "displayName": "Joon Chun",
      "photoUrl": "https://lh3.googleusercontent.com/a/default-user=s64",
      "userId": "11589729376972489768"
     },
     "user_tz": -540
    },
    "id": "62b967fe"
   },
   "outputs": [],
   "source": [
    "# 1시간 20분 소요\n",
    "startT = time.time()\n",
    "\n",
    "X = DF_a[['age', 'sex','city','ht','wt','waist','smoking','alcohol','bmi','absi']]\n",
    "y = DF_a['fbs']\n",
    "\n",
    "X_train, X_test, y_train, y_test = train_test_split(X, y,\n",
    "                                                    test_size = 0.3,\n",
    "                                                    random_state = 2045)\n",
    "\n",
    "print('Train Data : ', X_train.shape, y_train.shape)\n",
    "print('Test Data : ', X_test.shape, y_test.shape)\n",
    "\n",
    "n_estimators = [200, 800]\n",
    "max_features = [3, 4, 5, 6]\n",
    "max_depth = [9,10,11, 12]\n",
    "\n",
    "Model_result=[]\n",
    "\n",
    "for i in n_estimators :\n",
    "  for j in max_features :\n",
    "    for k in max_depth:\n",
    "\n",
    "      Model_rf_a = RandomForestRegressor(n_estimators = i, \n",
    "                                              max_features = j,\n",
    "                                              max_depth = k, \n",
    "                                              random_state = 2045,\n",
    "                                              n_jobs=-1)\n",
    "      \n",
    "      Model_rf_a.fit(X_train, y_train)\n",
    "\n",
    "      y_hat_rf_a = Model_rf_a.predict(X_test)\n",
    "      mse_rf_a = mean_squared_error(y_test, y_hat_rf_a)\n",
    "\n",
    "      print('n_estimators :' ,i, 'max_features :', j, 'max_depth :', k)\n",
    "      print('mse : ' , mse_rf_a)\n",
    "\n",
    "\n",
    "      a = mean_squared_error(y_test, y_hat_rf_a)\n",
    "      data = [i,j,k,a,]\n",
    "      Model_result.append(data)\n",
    "Model_GS_a2 = pd.DataFrame(Model_result)\n",
    "Model_GS_a2.columns = ['n_estimators','max_feature','max_depth','mse']\n",
    "\n",
    "print('time : ', time.time() - startT )"
   ]
  },
  {
   "cell_type": "code",
   "execution_count": null,
   "id": "3cd37fb7",
   "metadata": {
    "executionInfo": {
     "elapsed": 20,
     "status": "aborted",
     "timestamp": 1634495324703,
     "user": {
      "displayName": "Joon Chun",
      "photoUrl": "https://lh3.googleusercontent.com/a/default-user=s64",
      "userId": "11589729376972489768"
     },
     "user_tz": -540
    },
    "id": "3cd37fb7"
   },
   "outputs": [],
   "source": []
  }
 ],
 "metadata": {
  "colab": {
   "collapsed_sections": [
    "O5d8C2YUk_BT",
    "AmPNlMacqmXu"
   ],
   "name": "Data_modeling_LR_DT_RF천준.ipynb",
   "provenance": [],
   "toc_visible": true
  },
  "kernelspec": {
   "display_name": "Python 3",
   "language": "python",
   "name": "python3"
  },
  "language_info": {
   "codemirror_mode": {
    "name": "ipython",
    "version": 3
   },
   "file_extension": ".py",
   "mimetype": "text/x-python",
   "name": "python",
   "nbconvert_exporter": "python",
   "pygments_lexer": "ipython3",
   "version": "3.8.8"
  },
  "toc": {
   "base_numbering": 1,
   "nav_menu": {},
   "number_sections": true,
   "sideBar": true,
   "skip_h1_title": false,
   "title_cell": "Table of Contents",
   "title_sidebar": "Contents",
   "toc_cell": false,
   "toc_position": {},
   "toc_section_display": true,
   "toc_window_display": false
  }
 },
 "nbformat": 4,
 "nbformat_minor": 5
}
