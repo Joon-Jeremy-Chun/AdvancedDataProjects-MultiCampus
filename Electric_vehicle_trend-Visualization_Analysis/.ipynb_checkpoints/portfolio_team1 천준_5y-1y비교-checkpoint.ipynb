{
 "cells": [
  {
   "cell_type": "markdown",
   "id": "417bdf5a",
   "metadata": {
    "id": "417bdf5a"
   },
   "source": [
    "# K-Digital Training 데이터 사이언스/엔지니어링 공공데이터 시각화 PJT\n",
    "`1조` 데이터, 날 이끌어 조 (권미숙 김병석 이우림 천준 **홍효석**)\n",
    "<br>\n",
    "<br>\n",
    "### 전기차 이대로 괜찮은가?\n",
    "<br>\n",
    "<img src=\"https://news.hmgjournal.com/images_n/contents/Next-Gen-EV-Tech1.jpg\" width=400>\n",
    "<br>\n",
    "\n"
   ]
  },
  {
   "cell_type": "markdown",
   "id": "54aed942",
   "metadata": {
    "id": "54aed942"
   },
   "source": [
    "* **주제선정 배경**\n",
    "    * 전 세계적으로 친환경 자동차 이슈\n",
    "    * \n",
    "    * \n",
    "    \n",
    "\n",
    "* **프로젝트 목표**\n",
    "    * 한국은 급증하는 전기차를 충분히 커버할 수 있는 인프라가 구축되어 있는가?\n",
    "    * 전기차를 적극 권장하는 한국의 정부는 이에 알맞는 정책을 보여주고 있는가?\n",
    "\n",
    "\n",
    "\n",
    "\n",
    "* **구성원 및 역할**\n",
    "    * 권미숙 : 고속도로 휴게소의 전기차 충전소 현황 분석 및 주유소/휴게소 매출 규모와 충전기수의 상관성 분석\n",
    "    * 김병석 : 전기차와 내연기관차의 경제적 분석 (차량 모델별 구매금액, 보조금, 유지비용, 자동차세 등)\n",
    "    * 이우림 : Youtube 전기자동차전기세 검색량 분석 및 한전 시간대별/계절별 충전 부하량, 시도별 보조금 접수율 분석\n",
    "    * 천준 : 연도별, 세계 국가별 전기자동차 Google 검색량 추이 변화 분석 및 한국의 전기자동차 검색량 추이 분석\n",
    "    * **홍효석(조장)** : 한국의 전기자동차 증가추세 및 전국의 지역별 충전소 현황과 전기차 등록대수 현황 분석"
   ]
  },
  {
   "cell_type": "markdown",
   "id": "bbe54766",
   "metadata": {
    "id": "bbe54766"
   },
   "source": [
    "---"
   ]
  },
  {
   "cell_type": "markdown",
   "id": "fbc85905",
   "metadata": {},
   "source": [
    "# 천준\n",
    "## 연도별, 세계 국가별 전기자동차 Google 검색량 추이 변화 분석 및 한국의 전기자동차 검색량 추이 분석"
   ]
  },
  {
   "cell_type": "markdown",
   "id": "ad8ae385",
   "metadata": {
    "id": "ad8ae385"
   },
   "source": [
    "## 데이터 수집"
   ]
  },
  {
   "cell_type": "markdown",
   "id": "18415c25",
   "metadata": {},
   "source": [
    "### 패키지 \n",
    "### url& chromedriver 지정"
   ]
  },
  {
   "cell_type": "code",
   "execution_count": 1,
   "id": "edc9b357",
   "metadata": {
    "id": "edc9b357"
   },
   "outputs": [],
   "source": [
    "from selenium import webdriver\n",
    "from bs4 import BeautifulSoup\n",
    "import requests\n",
    "import time\n",
    "import pandas as pd"
   ]
  },
  {
   "cell_type": "code",
   "execution_count": 2,
   "id": "c636d53a",
   "metadata": {},
   "outputs": [],
   "source": [
    "browser = webdriver.Chrome(\"C://Myexam//chromedriver//chromedriver.exe\")\n",
    "url = \"https://trends.google.com/trends/\"\n",
    "browser.get(url)"
   ]
  },
  {
   "cell_type": "markdown",
   "id": "d751f44b",
   "metadata": {},
   "source": [
    "### 주제명 & 기간 변수\n",
    "- 시간 변수 없을때는 12개월\n",
    "- 나라변수 없을때는 전세계"
   ]
  },
  {
   "cell_type": "code",
   "execution_count": 3,
   "id": "020ac3e2",
   "metadata": {},
   "outputs": [
    {
     "name": "stdout",
     "output_type": "stream",
     "text": [
      "https://trends.google.com/trends/explore?date=&q=%2Fm%2F01pmdg\n"
     ]
    }
   ],
   "source": [
    "time.sleep(3)\n",
    "words_subject = ['%2Fm%2F01pmdg']\n",
    "date_duration = ['','2020-09-06%202021-09-06','2019-09-06%202020-09-06','2018-09-06%202019-09-06','2017-09-06%202018-09-06','2016-09-06%202017-09-06','2015-09-06%202016-09-06','2014-09-06%202015-09-06','2013-09-06%202014-09-06','2012-09-06%2020213-09-06','2011-09-06%2020212-09-06','2010-09-06%2020211-09-06','today%205-y']\n",
    "finding = url+'explore?'+'date='+date_duration[0]+'&'+'q='+words_subject[0]\n",
    "print(finding)\n",
    "browser.get(finding)"
   ]
  },
  {
   "cell_type": "markdown",
   "id": "f00c7a8b",
   "metadata": {},
   "source": [
    "### 크롤링\n",
    "- 크롤링 해야하는 페이지수 지정(계산)\n",
    "- 가져와야하는 데이터 처리 (랭킹, 나라이름, 검색비중)\n",
    "- 엑셀에 저장"
   ]
  },
  {
   "cell_type": "code",
   "execution_count": 4,
   "id": "7b842486",
   "metadata": {},
   "outputs": [
    {
     "name": "stdout",
     "output_type": "stream",
     "text": [
      "총나라 수 =  51\n",
      "크롤링 해야하는 페이지수 =  11\n",
      "1\n",
      "2\n",
      "3\n",
      "4\n",
      "5\n",
      "6\n",
      "7\n",
      "8\n",
      "9\n",
      "10\n",
      "11\n",
      "저장완료\n"
     ]
    }
   ],
   "source": [
    "time.sleep(3)\n",
    "html = browser.page_source\n",
    "soup = BeautifulSoup(html, 'html.parser')\n",
    "\n",
    "Nstr = browser.find_element_by_css_selector('.pagination').text.strip()\n",
    "Nstr[0:2]\n",
    "PN = int(Nstr[0:2])\n",
    "print('총나라 수 = ',PN)\n",
    "\n",
    "if PN % 5 == 0 :\n",
    "    b = PN // 5\n",
    "else :\n",
    "    b = (PN // 5)  + 1\n",
    "print('크롤링 해야하는 페이지수 = ',b)\n",
    "\n",
    "a = 0\n",
    "b \n",
    "c = 0\n",
    "country_name_ratio_data = []\n",
    "for i in range(b) :\n",
    "    a = i + 1\n",
    "    print(a)\n",
    "    time.sleep(3)\n",
    "    html = browser.page_source\n",
    "    soup = BeautifulSoup(html, 'html.parser')\n",
    "    country_name = soup.select( 'div.label-text')\n",
    "    country_ratio = soup.select( 'div.progress-value')\n",
    "    \n",
    "    for i in range(min(len(country_ratio) , len(country_name))) :\n",
    "        a1 = country_name[i]\n",
    "        a2 = country_ratio[i]\n",
    "        b1 = a1.text.strip()\n",
    "        b2 = a2.text.strip()\n",
    "        c  = c + 1\n",
    "        data = [c,b1,b2]\n",
    "        country_name_ratio_data.append(data)\n",
    "    df = pd.DataFrame(country_name_ratio_data)\n",
    "    df.columns = ['ranking','Country Name', 'Search ratio']\n",
    "    time.sleep(3)\n",
    "    browser.find_element_by_css_selector('.material-icons.arrow-right-active').click()\n",
    "df\n",
    "df.to_excel('c://My_data//electric_vehicle_serach_rank.xlsx', index = False)\n",
    "print('저장완료')"
   ]
  },
  {
   "cell_type": "markdown",
   "id": "23a88ef4",
   "metadata": {
    "id": "23a88ef4"
   },
   "source": [
    "## 데이터 분석"
   ]
  },
  {
   "cell_type": "markdown",
   "id": "0ad2abac",
   "metadata": {
    "id": "b73908a5"
   },
   "source": [
    "### 패키지 & 한글 설정"
   ]
  },
  {
   "cell_type": "code",
   "execution_count": 5,
   "id": "dc50358e",
   "metadata": {},
   "outputs": [],
   "source": [
    "import pandas as pd\n",
    "import numpy as np\n",
    "import matplotlib.pyplot as plt\n",
    "import itertools\n",
    "\n",
    "plt.rcParams['font.family'] = 'NanumGothic'\n",
    "plt.rcParams['font.family'] = 'Malgun Gothic'"
   ]
  },
  {
   "cell_type": "markdown",
   "id": "37e75a70",
   "metadata": {},
   "source": [
    "### 설명\n",
    "- 데이터 열 추가 : 데이터에 각나라에 한가지 색을 지정하고 대한민국에만 다른 색을 지정해야한다.\n",
    "- 엑섹 데이터 파일에 다시 저장한다.\n",
    "- 데이터 프레임을 불러와 확인한다.\n",
    "- 위 과정을 1년, 5년 누적 데이터를 처리한다.\n"
   ]
  },
  {
   "cell_type": "code",
   "execution_count": 6,
   "id": "9bf434e5",
   "metadata": {},
   "outputs": [],
   "source": [
    "df = pd.read_excel('c://My_data//electric_vehicle_serach_ranktoday%201-y.xlsx', usecols = [0,1,2])\n",
    "df['colorIndex'] = np.where(df['Country Name']=='대한민국', 'red', 'dodgerblue')\n",
    "df.to_excel('c://My_data//electric_vehicle_serach_ranktoday%201-y.xlsx', index = False)"
   ]
  },
  {
   "cell_type": "code",
   "execution_count": 7,
   "id": "a3c7f4f3",
   "metadata": {
    "scrolled": false
   },
   "outputs": [
    {
     "name": "stdout",
     "output_type": "stream",
     "text": [
      "  Country Name  Search ratio  colorIndex\n",
      "0         뉴질랜드           100  dodgerblue\n",
      "1           영국            75  dodgerblue\n",
      "2           인도            74  dodgerblue\n",
      "3         싱가포르            73  dodgerblue\n",
      "4           네팔            72  dodgerblue\n",
      "   Country Name  Search ratio  colorIndex\n",
      "46          러시아             5  dodgerblue\n",
      "47          멕시코             4  dodgerblue\n",
      "48          브라질             3  dodgerblue\n",
      "49        아르헨티나             3  dodgerblue\n",
      "50           일본             2  dodgerblue\n"
     ]
    }
   ],
   "source": [
    "DF1 = pd.read_excel('c://My_data//electric_vehicle_serach_ranktoday%201-y.xlsx', usecols = [1,2,3])\n",
    "print(DF1.head())\n",
    "print(DF1.tail())"
   ]
  },
  {
   "cell_type": "code",
   "execution_count": 8,
   "id": "7b4dfe48",
   "metadata": {},
   "outputs": [],
   "source": [
    "df = pd.read_excel('c://My_data//electric_vehicle_serach_ranktoday%205-y.xlsx', usecols = [0,1,2])\n",
    "df['colorIndex'] = np.where(df['Country Name']=='대한민국', 'red', 'dodgerblue')\n",
    "df.to_excel('c://My_data//electric_vehicle_serach_ranktoday%205-y.xlsx', index = False)"
   ]
  },
  {
   "cell_type": "code",
   "execution_count": 9,
   "id": "3fb5c4df",
   "metadata": {
    "scrolled": true
   },
   "outputs": [
    {
     "name": "stdout",
     "output_type": "stream",
     "text": [
      "  Country Name  Search ratio  colorIndex\n",
      "0         뉴질랜드           100  dodgerblue\n",
      "1          캐나다            79  dodgerblue\n",
      "2           네팔            77  dodgerblue\n",
      "3           영국            74  dodgerblue\n",
      "4         노르웨이            73  dodgerblue\n",
      "   Country Name  Search ratio  colorIndex\n",
      "52           페루             5  dodgerblue\n",
      "53        아르헨티나             5  dodgerblue\n",
      "54          브라질             4  dodgerblue\n",
      "55           이란             4  dodgerblue\n",
      "56           일본             3  dodgerblue\n"
     ]
    }
   ],
   "source": [
    "DF5 = pd.read_excel('c://My_data//electric_vehicle_serach_ranktoday%205-y.xlsx', usecols = [1,2,3])\n",
    "print(DF5.head())\n",
    "print(DF5.tail())"
   ]
  },
  {
   "cell_type": "markdown",
   "id": "794b0826",
   "metadata": {},
   "source": [
    "### 정확한 비교를 위하여 5년누적 데이터에서 (아래 6개나라를) 차의만큼 제외처리"
   ]
  },
  {
   "cell_type": "code",
   "execution_count": 10,
   "id": "66a4b6ab",
   "metadata": {},
   "outputs": [
    {
     "data": {
      "text/plain": [
       "6"
      ]
     },
     "execution_count": 10,
     "metadata": {},
     "output_type": "execute_result"
    }
   ],
   "source": [
    "len(DF5)-len(DF1)"
   ]
  },
  {
   "cell_type": "code",
   "execution_count": 11,
   "id": "3fbabf3a",
   "metadata": {},
   "outputs": [],
   "source": [
    "DF5_1 = DF5.drop(index = [51,52,53,54,55,56])"
   ]
  },
  {
   "cell_type": "code",
   "execution_count": 12,
   "id": "8e525132",
   "metadata": {
    "scrolled": true
   },
   "outputs": [
    {
     "name": "stdout",
     "output_type": "stream",
     "text": [
      "   Country Name  Search ratio  colorIndex\n",
      "46          러시아             5  dodgerblue\n",
      "47          멕시코             4  dodgerblue\n",
      "48          브라질             3  dodgerblue\n",
      "49        아르헨티나             3  dodgerblue\n",
      "50           일본             2  dodgerblue\n",
      "   Country Name  Search ratio  colorIndex\n",
      "46          이집트             8  dodgerblue\n",
      "47         이탈리아             7  dodgerblue\n",
      "48          멕시코             7  dodgerblue\n",
      "49      사우디아라비아             7  dodgerblue\n",
      "50          러시아             6  dodgerblue\n"
     ]
    }
   ],
   "source": [
    "print(DF1.tail())\n",
    "print(DF5_1.tail())"
   ]
  },
  {
   "cell_type": "markdown",
   "id": "f6140fe4",
   "metadata": {
    "id": "f6140fe4"
   },
   "source": [
    "## 데이터 분석 결과 (시각화)"
   ]
  },
  {
   "cell_type": "markdown",
   "id": "0763c801",
   "metadata": {},
   "source": [
    "- 3개 열의 데이터를 각각 리스트로 추출: (색 인덱스: color_ls), (나라 이름: countryN_ls), (검색 비중 : searchR_ls)\n",
    "- 가로 바 그래프 구현 (왼쪽:5년 오른쪽:1년)\n",
    "- 그래프 전체 사이즈 정의\n",
    "- 각 타이틀 정의, x,y축설명 정의"
   ]
  },
  {
   "cell_type": "code",
   "execution_count": 13,
   "id": "c14b061c",
   "metadata": {},
   "outputs": [],
   "source": [
    "DF1 = pd.read_excel('c://My_data//electric_vehicle_serach_ranktoday%201-y.xlsx', usecols = [1,2,3])\n",
    "\n",
    "color_ls_1y=list(reversed((np.array(DF1['colorIndex'].tolist()))))\n",
    "countryN_ls_1y=list(reversed(np.array(DF1['Country Name'].tolist())))\n",
    "searchR_ls_1y=list(reversed(np.array(DF1['Search ratio'].tolist())))"
   ]
  },
  {
   "cell_type": "code",
   "execution_count": 14,
   "id": "e137be08",
   "metadata": {},
   "outputs": [],
   "source": [
    "DF5 = pd.read_excel('c://My_data//electric_vehicle_serach_ranktoday%205-y.xlsx', usecols = [1,2,3])\n",
    "DF5_1 = DF5.drop(index = [51,52,53,54,55,56])\n",
    "\n",
    "color_ls_5y=list(reversed((np.array(DF5_1['colorIndex'].tolist()))))\n",
    "countryN_ls_5y=list(reversed(np.array(DF5_1['Country Name'].tolist())))\n",
    "searchR_ls_5y=list(reversed(np.array(DF5_1['Search ratio'].tolist())))"
   ]
  },
  {
   "cell_type": "code",
   "execution_count": 15,
   "id": "59730b24",
   "metadata": {},
   "outputs": [
    {
     "data": {
      "image/png": "[encoded data removed]",
      "text/plain": [
       "<Figure size 864x1008 with 2 Axes>"
      ]
     },
     "metadata": {
      "needs_background": "light"
     },
     "output_type": "display_data"
    }
   ],
   "source": [
    "plt.figure(figsize=(12,14))\n",
    "\n",
    "plt.subplot(1,2,2)\n",
    "\n",
    "plt.title('1년누적 검색 순위',size =25)\n",
    "y = np.arange(len(countryN_ls_1y))\n",
    "plt.barh(y, searchR_ls_1y, color=color_ls_1y)\n",
    "plt.yticks(y, countryN_ls_1y)\n",
    "\n",
    "D1=plt.xlabel('Searching Ratio', labelpad=20, )\n",
    "D1=plt.ylabel('Country Name', labelpad=20, )\n",
    "\n",
    "plt.subplot(1,2,1)\n",
    "\n",
    "plt.title('5년누적 검색 순위',size =25)\n",
    "y = np.arange(len(countryN_ls_5y))\n",
    "plt.barh(y, searchR_ls_5y, color=color_ls_5y)\n",
    "plt.yticks(y, countryN_ls_5y)\n",
    "\n",
    "D5=plt.xlabel('Searching Ratio', labelpad=20, )\n",
    "D5=plt.ylabel('Country Name', labelpad=20, )\n",
    "\n",
    "plt.tight_layout()"
   ]
  },
  {
   "cell_type": "markdown",
   "id": "8f5db8d5",
   "metadata": {
    "id": "8f5db8d5"
   },
   "source": [
    "---"
   ]
  },
  {
   "cell_type": "markdown",
   "id": "32b047b5",
   "metadata": {
    "id": "32b047b5"
   },
   "source": [
    "## 기대효과 및 개선사항"
   ]
  },
  {
   "cell_type": "markdown",
   "id": "c5444fbc",
   "metadata": {
    "id": "1ed4ee24"
   },
   "source": [
    "### 위 시각화 자료에 의하면 다음 정보를 전달해 줄 수 있다.\n",
    "\n",
    "1. 우리나라의 국민들의 전기차에관한 관심은 과거 5년 보다 1년동안 증가 해왔음을 알 수 있다.\n",
    "2. 우리나라의 전기차에 관한 관심은 세계에 상위 그룹에 꾸준히 속해왔다. \n",
    "3. (저탄소 배출 국가진입으로 선언한 선진국중 하나인 우리나라 이지만) 하지만, 유럽과 북미 국가들과 같은 높은 관심도를 가지기엔 아직 부족하다. __어떤 문제점이 분명히 있다.__\n"
   ]
  },
  {
   "cell_type": "markdown",
   "id": "4c7494e7",
   "metadata": {
    "id": "4c7494e7"
   },
   "source": [
    "---"
   ]
  },
  {
   "cell_type": "markdown",
   "id": "8f23fb75",
   "metadata": {
    "id": "8f23fb75"
   },
   "source": [
    "## 개발후기 및 느낀점"
   ]
  },
  {
   "cell_type": "markdown",
   "id": "9a8ef9a9",
   "metadata": {
    "id": "9a8ef9a9"
   },
   "source": [
    "* 아쉬운 점\n",
    "    * 생각보다 `전기차` 관련 공공데이터가 부족하다고 느꼈음 \n",
    "    * 제공하는 기관별 데이터의 수치가 상이하여, 분석 시 어려움이 있었음\n",
    "    * Django를 이용하여 전기차 vs 내연기관차의 경제성을 분석해볼 수 있는 웹사이트를 구현해보고 싶었지만, 능력적인 한계로 못한 점\n",
    "    * 예측모델(ex:`Logistic Fuction`, `머신러닝`)을 이용하여, 한국의 전기차 증가추세(ex:`한국은 과연 몇년후에 전기차가 내연기관차보다 많아질까?`)를 예측하고 싶었으나, 시간의 한계와 능력치의 한계로 구현해보지 못한 점\n",
    "    \n",
    "    \n",
    "* 느낀점\n",
    "    * 권미숙 :\n",
    "    * 김병석 :\n",
    "    * 이우림 : 혼자 처음부터 실제로 코드를 작성해보고 시각화하면서, 중간중간 크고 작은 어려움이 있었지만 하나씩 찾아가면서 해결해보니 성취감이 정말 높았다. 내가 몰랐던 라이브러리들이 너무 많았고, 앞으로도 이를 적극 활용할 수 있는 능력을 더 키워야겠다. 그냥 지식으로 아는 것과 실제로 구현해보는 것은 정말 천지 차이였다!!\n",
    "    * 천준 :\n",
    "    * 홍효석 : "
   ]
  }
 ],
 "metadata": {
  "colab": {
   "name": "portfolio_team1.ipynb",
   "provenance": []
  },
  "kernelspec": {
   "display_name": "Python 3",
   "language": "python",
   "name": "python3"
  },
  "language_info": {
   "codemirror_mode": {
    "name": "ipython",
    "version": 3
   },
   "file_extension": ".py",
   "mimetype": "text/x-python",
   "name": "python",
   "nbconvert_exporter": "python",
   "pygments_lexer": "ipython3",
   "version": "3.8.8"
  }
 },
 "nbformat": 4,
 "nbformat_minor": 5
}
