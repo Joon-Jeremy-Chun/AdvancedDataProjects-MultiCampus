{
 "cells": [
  {
   "cell_type": "markdown",
   "id": "8c19fecc",
   "metadata": {},
   "source": [
    "## 패키지"
   ]
  },
  {
   "cell_type": "code",
   "execution_count": 1,
   "id": "562ecc18",
   "metadata": {},
   "outputs": [],
   "source": [
    "from selenium import webdriver\n",
    "from bs4 import BeautifulSoup\n",
    "import requests\n",
    "import time\n",
    "import pandas as pd\n"
   ]
  },
  {
   "cell_type": "markdown",
   "id": "a7553abd",
   "metadata": {},
   "source": [
    "## url & chromedriver"
   ]
  },
  {
   "cell_type": "code",
   "execution_count": 2,
   "id": "1d41b966",
   "metadata": {},
   "outputs": [],
   "source": [
    "time.sleep(2)\n",
    "browser = webdriver.Chrome(\"C://Myexam//chromedriver//chromedriver.exe\")\n",
    "url = \"https://trends.google.com/trends/\"\n",
    "browser.get(url)"
   ]
  },
  {
   "cell_type": "markdown",
   "id": "434bd19f",
   "metadata": {},
   "source": [
    "## 기간 - 12개월 , 전기차(주제)"
   ]
  },
  {
   "cell_type": "code",
   "execution_count": 3,
   "id": "a538c9ac",
   "metadata": {},
   "outputs": [
    {
     "name": "stdout",
     "output_type": "stream",
     "text": [
      "https://trends.google.com/trends/explore?q=%2Fm%2F01pmdg\n"
     ]
    }
   ],
   "source": [
    "time.sleep(3)\n",
    "words_subject = ['%2Fm%2F01pmdg']\n",
    "finding = url+'explore?'+'q='+words_subject[0]\n",
    "print(finding)\n",
    "browser.get(finding)"
   ]
  },
  {
   "cell_type": "markdown",
   "id": "1d6291dc",
   "metadata": {},
   "source": [
    "## 크롤링할 패이지 수 가져오기"
   ]
  },
  {
   "cell_type": "code",
   "execution_count": 4,
   "id": "acaa5273",
   "metadata": {},
   "outputs": [
    {
     "name": "stdout",
     "output_type": "stream",
     "text": [
      "총나라 수 =  51\n"
     ]
    }
   ],
   "source": [
    "time.sleep(3)\n",
    "html = browser.page_source\n",
    "soup = BeautifulSoup(html, 'html.parser')\n",
    "Nstr = browser.find_element_by_css_selector('.pagination').text.strip()\n",
    "\n",
    "Nstr[0:2]\n",
    "PN = int(Nstr[0:2])\n",
    "print('총나라 수 = ',PN)"
   ]
  },
  {
   "cell_type": "code",
   "execution_count": 5,
   "id": "45b5c568",
   "metadata": {},
   "outputs": [
    {
     "name": "stdout",
     "output_type": "stream",
     "text": [
      "크롤링 해야하는 페이지수 =  11\n"
     ]
    }
   ],
   "source": [
    "if PN % 5 == 0 :\n",
    "    b = PN // 5\n",
    "else :\n",
    "    b = (PN // 5)  + 1\n",
    "print('크롤링 해야하는 페이지수 = ',b)"
   ]
  },
  {
   "cell_type": "markdown",
   "id": "033652cc",
   "metadata": {},
   "source": [
    "## 실제 크롤링"
   ]
  },
  {
   "cell_type": "code",
   "execution_count": 6,
   "id": "541d41ac",
   "metadata": {},
   "outputs": [
    {
     "name": "stdout",
     "output_type": "stream",
     "text": [
      "1\n",
      "2\n",
      "3\n",
      "4\n",
      "5\n",
      "6\n",
      "7\n",
      "8\n",
      "9\n",
      "10\n",
      "11\n",
      "    ranking Country Name Search ratio\n",
      "0         1         뉴질랜드          100\n",
      "1         2           영국           75\n",
      "2         3           인도           74\n",
      "3         4         싱가포르           73\n",
      "4         5           네팔           72\n",
      "5         6          캐나다           67\n",
      "6         7         노르웨이           65\n",
      "7         8         아일랜드           63\n",
      "8         9           미국           50\n",
      "9        10          스웨덴           48\n",
      "10       11      오스트레일리아           43\n",
      "11       12          폴란드           43\n",
      "12       13        크로아티아           38\n",
      "13       14           홍콩           35\n",
      "14       15       아랍에미리트           33\n",
      "15       16          덴마크           28\n",
      "16       17         파키스탄           26\n",
      "17       18         대한민국           24\n",
      "18       19         포르투갈           21\n",
      "19       20         네덜란드           21\n",
      "20       21          스페인           21\n",
      "21       22           태국           20\n",
      "22       23         이스라엘           17\n",
      "23       24          벨기에           14\n",
      "24       25        말레이시아           14\n",
      "25       26          베트남           14\n",
      "26       27          핀란드           13\n",
      "27       28          스위스           12\n",
      "28       29          프랑스           11\n",
      "29       30        방글라데시           11\n",
      "30       31           터키           10\n",
      "31       32        오스트리아           10\n",
      "32       33        남아프리카           10\n",
      "33       34           독일            8\n",
      "34       35          그리스            8\n",
      "35       36          필리핀            8\n",
      "36       37           대만            8\n",
      "37       38        나이지리아            8\n",
      "38       39         루마니아            7\n",
      "39       40      사우디아라비아            6\n",
      "40       41        우크라이나            6\n",
      "41       42          이집트            6\n",
      "42       43        인도네시아            6\n",
      "43       44         콜롬비아            6\n",
      "44       45         이탈리아            6\n",
      "45       46           칠레            5\n",
      "46       47          러시아            5\n",
      "47       48          멕시코            4\n",
      "48       49          브라질            3\n",
      "49       50        아르헨티나            3\n",
      "50       51           일본            2\n"
     ]
    }
   ],
   "source": [
    "a = 0\n",
    "b\n",
    "c = 0\n",
    "country_name_ratio_data = []\n",
    "for i in range(b) :\n",
    "    a = i + 1\n",
    "    print(a)\n",
    "    time.sleep(3)\n",
    "    html = browser.page_source\n",
    "    soup = BeautifulSoup(html, 'html.parser')\n",
    "    country_ranking = soup.select( 'div.label-text')\n",
    "    country_ratio = soup.select( 'div.progress-value')\n",
    "    \n",
    "    for i in range(min(len(country_ratio) , len(country_ranking))) :\n",
    "        a1 = country_ranking[i]\n",
    "        a2 = country_ratio[i]\n",
    "        b1 = a1.text.strip()\n",
    "        b2 = a2.text.strip()\n",
    "        c  = c + 1\n",
    "        data = [c,b1,b2]\n",
    "        country_name_ratio_data.append(data)\n",
    "    df = pd.DataFrame(country_name_ratio_data)\n",
    "    df.columns = ['ranking','Country Name', 'Search ratio']\n",
    "    time.sleep(3)\n",
    "    browser.find_element_by_css_selector('.material-icons.arrow-right-active').click()\n",
    "print (df)\n",
    "df.to_excel('c://My_data//electric_vehicle_serach_rank.xlsx', index = False)"
   ]
  },
  {
   "cell_type": "code",
   "execution_count": null,
   "id": "4224d6fd",
   "metadata": {},
   "outputs": [],
   "source": []
  }
 ],
 "metadata": {
  "kernelspec": {
   "display_name": "Python 3",
   "language": "python",
   "name": "python3"
  },
  "language_info": {
   "codemirror_mode": {
    "name": "ipython",
    "version": 3
   },
   "file_extension": ".py",
   "mimetype": "text/x-python",
   "name": "python",
   "nbconvert_exporter": "python",
   "pygments_lexer": "ipython3",
   "version": "3.8.8"
  }
 },
 "nbformat": 4,
 "nbformat_minor": 5
}
